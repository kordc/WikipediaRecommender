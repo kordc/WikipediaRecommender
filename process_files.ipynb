{
 "cells": [
  {
   "cell_type": "markdown",
   "metadata": {},
   "source": [
    "# Downloading documents from Wikipedia"
   ]
  },
  {
   "cell_type": "code",
   "execution_count": 4,
   "metadata": {},
   "outputs": [],
   "source": [
    "import requests\n",
    "import bs4\n",
    "import re\n",
    "import tqdm\n",
    "from collections import deque\n",
    "from time import sleep\n",
    "import random\n",
    "import pandas as pd"
   ]
  },
  {
   "cell_type": "code",
   "execution_count": 63,
   "metadata": {},
   "outputs": [],
   "source": [
    "def generator(texts):\n",
    "  while len(texts) < 1000:\n",
    "    yield\n"
   ]
  },
  {
   "cell_type": "code",
   "execution_count": 64,
   "metadata": {},
   "outputs": [],
   "source": [
    "# dodać graf dla ciekawości i zwiększyć ilość stron\n",
    "def bfs(link):\n",
    "    response = requests.get(link)\n",
    "    parsed = bs4.BeautifulSoup(response.text)\n",
    "    links = parsed.find_all(\n",
    "        'a', attrs={'href': re.compile(r'^/wiki')})  # english only\n",
    "    texts = {link: parsed}\n",
    "    q = deque()\n",
    "    for a in links:\n",
    "        q.append(\"https://en.wikipedia.org\" + a['href'])\n",
    "    for _ in (pbar := tqdm.tqdm(generator(texts))):\n",
    "        pbar.set_description(f'{len(texts)} sites already')\n",
    "        v = q.popleft()\n",
    "        response = requests.get(v)\n",
    "        if response.status_code != 200:\n",
    "            continue\n",
    "        parsed = bs4.BeautifulSoup(response.text)\n",
    "        links = parsed.find_all(\n",
    "            'a', attrs={'href': re.compile(r'^/wiki')})\n",
    "        texts[v] = parsed\n",
    "        for a in links:\n",
    "            q.append(\"https://en.wikipedia.org\" + a['href'])\n",
    "        sleep(random.random()*3)\n",
    "    return texts\n"
   ]
  },
  {
   "cell_type": "code",
   "execution_count": 65,
   "metadata": {},
   "outputs": [
    {
     "name": "stderr",
     "output_type": "stream",
     "text": [
      "999 sites already: : 1445it [41:19,  1.72s/it]\n"
     ]
    }
   ],
   "source": [
    "texts = bfs('https://en.wikipedia.org/wiki/Jazz')\n"
   ]
  },
  {
   "cell_type": "code",
   "execution_count": 66,
   "metadata": {},
   "outputs": [
    {
     "data": {
      "text/html": [
       "<div>\n",
       "<style scoped>\n",
       "    .dataframe tbody tr th:only-of-type {\n",
       "        vertical-align: middle;\n",
       "    }\n",
       "\n",
       "    .dataframe tbody tr th {\n",
       "        vertical-align: top;\n",
       "    }\n",
       "\n",
       "    .dataframe thead th {\n",
       "        text-align: right;\n",
       "    }\n",
       "</style>\n",
       "<table border=\"1\" class=\"dataframe\">\n",
       "  <thead>\n",
       "    <tr style=\"text-align: right;\">\n",
       "      <th></th>\n",
       "      <th>0</th>\n",
       "    </tr>\n",
       "  </thead>\n",
       "  <tbody>\n",
       "    <tr>\n",
       "      <th>https://en.wikipedia.org/wiki/Jazz</th>\n",
       "      <td>[html, [\\n, [\\n, &lt;meta charset=\"utf-8\"/&gt;, \\n, ...</td>\n",
       "    </tr>\n",
       "    <tr>\n",
       "      <th>https://en.wikipedia.org/wiki/Wikipedia:Protection_policy#semi</th>\n",
       "      <td>[html, [\\n, [\\n, &lt;meta charset=\"utf-8\"/&gt;, \\n, ...</td>\n",
       "    </tr>\n",
       "    <tr>\n",
       "      <th>https://en.wikipedia.org/wiki/Jazz_(disambiguation)</th>\n",
       "      <td>[html, [\\n, [\\n, &lt;meta charset=\"utf-8\"/&gt;, \\n, ...</td>\n",
       "    </tr>\n",
       "    <tr>\n",
       "      <th>https://en.wikipedia.org/wiki/Blues</th>\n",
       "      <td>[html, [\\n, [\\n, &lt;meta charset=\"utf-8\"/&gt;, \\n, ...</td>\n",
       "    </tr>\n",
       "    <tr>\n",
       "      <th>https://en.wikipedia.org/wiki/Ragtime</th>\n",
       "      <td>[html, [\\n, [\\n, &lt;meta charset=\"utf-8\"/&gt;, \\n, ...</td>\n",
       "    </tr>\n",
       "    <tr>\n",
       "      <th>...</th>\n",
       "      <td>...</td>\n",
       "    </tr>\n",
       "    <tr>\n",
       "      <th>https://en.wikipedia.org/wiki/Sophisti-pop</th>\n",
       "      <td>[html, [\\n, [\\n, &lt;meta charset=\"utf-8\"/&gt;, \\n, ...</td>\n",
       "    </tr>\n",
       "    <tr>\n",
       "      <th>https://en.wikipedia.org/wiki/Music_of_West_Africa</th>\n",
       "      <td>[html, [\\n, [\\n, &lt;meta charset=\"utf-8\"/&gt;, \\n, ...</td>\n",
       "    </tr>\n",
       "    <tr>\n",
       "      <th>https://en.wikipedia.org/wiki/Bird_(1988_film)</th>\n",
       "      <td>[html, [\\n, [\\n, &lt;meta charset=\"utf-8\"/&gt;, \\n, ...</td>\n",
       "    </tr>\n",
       "    <tr>\n",
       "      <th>https://en.wikipedia.org/wiki/Round_Midnight_(film)</th>\n",
       "      <td>[html, [\\n, [\\n, &lt;meta charset=\"utf-8\"/&gt;, \\n, ...</td>\n",
       "    </tr>\n",
       "    <tr>\n",
       "      <th>https://en.wikipedia.org/wiki/Thelonious_Monk:_Straight,_No_Chaser</th>\n",
       "      <td>[html, [\\n, [\\n, &lt;meta charset=\"utf-8\"/&gt;, \\n, ...</td>\n",
       "    </tr>\n",
       "  </tbody>\n",
       "</table>\n",
       "<p>1000 rows × 1 columns</p>\n",
       "</div>"
      ],
      "text/plain": [
       "                                                                                                    0\n",
       "https://en.wikipedia.org/wiki/Jazz                  [html, [\\n, [\\n, <meta charset=\"utf-8\"/>, \\n, ...\n",
       "https://en.wikipedia.org/wiki/Wikipedia:Protect...  [html, [\\n, [\\n, <meta charset=\"utf-8\"/>, \\n, ...\n",
       "https://en.wikipedia.org/wiki/Jazz_(disambiguat...  [html, [\\n, [\\n, <meta charset=\"utf-8\"/>, \\n, ...\n",
       "https://en.wikipedia.org/wiki/Blues                 [html, [\\n, [\\n, <meta charset=\"utf-8\"/>, \\n, ...\n",
       "https://en.wikipedia.org/wiki/Ragtime               [html, [\\n, [\\n, <meta charset=\"utf-8\"/>, \\n, ...\n",
       "...                                                                                               ...\n",
       "https://en.wikipedia.org/wiki/Sophisti-pop          [html, [\\n, [\\n, <meta charset=\"utf-8\"/>, \\n, ...\n",
       "https://en.wikipedia.org/wiki/Music_of_West_Africa  [html, [\\n, [\\n, <meta charset=\"utf-8\"/>, \\n, ...\n",
       "https://en.wikipedia.org/wiki/Bird_(1988_film)      [html, [\\n, [\\n, <meta charset=\"utf-8\"/>, \\n, ...\n",
       "https://en.wikipedia.org/wiki/Round_Midnight_(f...  [html, [\\n, [\\n, <meta charset=\"utf-8\"/>, \\n, ...\n",
       "https://en.wikipedia.org/wiki/Thelonious_Monk:_...  [html, [\\n, [\\n, <meta charset=\"utf-8\"/>, \\n, ...\n",
       "\n",
       "[1000 rows x 1 columns]"
      ]
     },
     "execution_count": 66,
     "metadata": {},
     "output_type": "execute_result"
    }
   ],
   "source": [
    "df = pd.DataFrame([texts]).transpose()\n",
    "df.to_csv('raw_texts.csv')\n",
    "df\n"
   ]
  },
  {
   "cell_type": "code",
   "execution_count": 67,
   "metadata": {},
   "outputs": [
    {
     "name": "stdout",
     "output_type": "stream",
     "text": [
      "994\n"
     ]
    }
   ],
   "source": [
    "print(len(set(texts.values())))"
   ]
  },
  {
   "cell_type": "code",
   "execution_count": null,
   "metadata": {},
   "outputs": [],
   "source": []
  }
 ],
 "metadata": {
  "kernelspec": {
   "display_name": "Python 3.9.0 64-bit",
   "language": "python",
   "name": "python3"
  },
  "language_info": {
   "codemirror_mode": {
    "name": "ipython",
    "version": 3
   },
   "file_extension": ".py",
   "mimetype": "text/x-python",
   "name": "python",
   "nbconvert_exporter": "python",
   "pygments_lexer": "ipython3",
   "version": "3.9.0"
  },
  "orig_nbformat": 4,
  "vscode": {
   "interpreter": {
    "hash": "d938c375e6e2a2b94db19e540527a5d7d80fbd1055fc33c5eeb59a5dcfa9a532"
   }
  }
 },
 "nbformat": 4,
 "nbformat_minor": 2
}
