{
 "cells": [
  {
   "cell_type": "code",
   "execution_count": 1,
   "metadata": {},
   "outputs": [],
   "source": [
    "%load_ext autoreload\n",
    "%autoreload 2\n",
    "\n",
    "import pandas as pd\n",
    "import numpy as np\n",
    "\n",
    "import matplotlib.pyplot as plt\n",
    "import plotly.express as px\n",
    "\n",
    "np.random.seed(0)"
   ]
  },
  {
   "cell_type": "code",
   "execution_count": 3,
   "metadata": {},
   "outputs": [],
   "source": [
    "from utils import BFSScraper, CustomStemmer, BubbleChart, Ranker, User # Code written by us it is documented in file ranker.py"
   ]
  },
  {
   "cell_type": "markdown",
   "metadata": {},
   "source": [
    "### Downloading documents from Wikipedia\n",
    "Starting from the `Jazz` page"
   ]
  },
  {
   "cell_type": "code",
   "execution_count": 36,
   "metadata": {},
   "outputs": [
    {
     "name": "stderr",
     "output_type": "stream",
     "text": [
      "100 sites already collected: : 102it [03:59,  2.35s/it]\n"
     ]
    }
   ],
   "source": [
    "bfs_scrap = BFSScraper(n_to_visit=10)\n",
    "bfs_scrap.bfs('https://en.wikipedia.org/wiki/Jazz', 100)"
   ]
  },
  {
   "cell_type": "code",
   "execution_count": 37,
   "metadata": {},
   "outputs": [],
   "source": [
    "bfs_scrap.generate_summary() # Generate summary that shows how wikipedia was traversed by scraper"
   ]
  },
  {
   "cell_type": "code",
   "execution_count": 38,
   "metadata": {},
   "outputs": [],
   "source": [
    "bfs_scrap.generate_csv() # Generate csv with scraped data"
   ]
  },
  {
   "cell_type": "markdown",
   "metadata": {},
   "source": [
    "### Preprocessing data"
   ]
  },
  {
   "cell_type": "code",
   "execution_count": 39,
   "metadata": {},
   "outputs": [
    {
     "data": {
      "text/html": [
       "<div>\n",
       "<style scoped>\n",
       "    .dataframe tbody tr th:only-of-type {\n",
       "        vertical-align: middle;\n",
       "    }\n",
       "\n",
       "    .dataframe tbody tr th {\n",
       "        vertical-align: top;\n",
       "    }\n",
       "\n",
       "    .dataframe thead th {\n",
       "        text-align: right;\n",
       "    }\n",
       "</style>\n",
       "<table border=\"1\" class=\"dataframe\">\n",
       "  <thead>\n",
       "    <tr style=\"text-align: right;\">\n",
       "      <th></th>\n",
       "      <th>content</th>\n",
       "      <th>num_of_links</th>\n",
       "      <th>selected_links</th>\n",
       "    </tr>\n",
       "  </thead>\n",
       "  <tbody>\n",
       "    <tr>\n",
       "      <th>https://en.wikipedia.org/wiki/Jazz</th>\n",
       "      <td>\\nJazz is a music genre that originated in the...</td>\n",
       "      <td>863</td>\n",
       "      <td>['https://en.wikipedia.org/wiki/Buddy_Bolden',...</td>\n",
       "    </tr>\n",
       "    <tr>\n",
       "      <th>https://en.wikipedia.org/wiki/Buddy_Bolden</th>\n",
       "      <td>\\nCharles Joseph \"Buddy\" Bolden (September 6, ...</td>\n",
       "      <td>57</td>\n",
       "      <td>['https://en.wikipedia.org/wiki/Dementia_praec...</td>\n",
       "    </tr>\n",
       "    <tr>\n",
       "      <th>https://en.wikipedia.org/wiki/Cobblestone_Records</th>\n",
       "      <td>Cobblestone Records was an American jazz recor...</td>\n",
       "      <td>211</td>\n",
       "      <td>['https://en.wikipedia.org/wiki/1950s_in_jazz'...</td>\n",
       "    </tr>\n",
       "    <tr>\n",
       "      <th>https://en.wikipedia.org/wiki/Wild_Bill_Davison</th>\n",
       "      <td>William Edward Davison (January 5, 1906 – Nove...</td>\n",
       "      <td>25</td>\n",
       "      <td>['https://en.wikipedia.org/wiki/Humphrey_Lytte...</td>\n",
       "    </tr>\n",
       "    <tr>\n",
       "      <th>https://en.wikipedia.org/wiki/German_jazz</th>\n",
       "      <td>An overview of the evolution of Jazz music in ...</td>\n",
       "      <td>353</td>\n",
       "      <td>['https://en.wikipedia.org/wiki/Orchestral_jaz...</td>\n",
       "    </tr>\n",
       "  </tbody>\n",
       "</table>\n",
       "</div>"
      ],
      "text/plain": [
       "                                                                                             content  \\\n",
       "https://en.wikipedia.org/wiki/Jazz                 \\nJazz is a music genre that originated in the...   \n",
       "https://en.wikipedia.org/wiki/Buddy_Bolden         \\nCharles Joseph \"Buddy\" Bolden (September 6, ...   \n",
       "https://en.wikipedia.org/wiki/Cobblestone_Records  Cobblestone Records was an American jazz recor...   \n",
       "https://en.wikipedia.org/wiki/Wild_Bill_Davison    William Edward Davison (January 5, 1906 – Nove...   \n",
       "https://en.wikipedia.org/wiki/German_jazz          An overview of the evolution of Jazz music in ...   \n",
       "\n",
       "                                                  num_of_links  \\\n",
       "https://en.wikipedia.org/wiki/Jazz                         863   \n",
       "https://en.wikipedia.org/wiki/Buddy_Bolden                  57   \n",
       "https://en.wikipedia.org/wiki/Cobblestone_Records          211   \n",
       "https://en.wikipedia.org/wiki/Wild_Bill_Davison             25   \n",
       "https://en.wikipedia.org/wiki/German_jazz                  353   \n",
       "\n",
       "                                                                                      selected_links  \n",
       "https://en.wikipedia.org/wiki/Jazz                 ['https://en.wikipedia.org/wiki/Buddy_Bolden',...  \n",
       "https://en.wikipedia.org/wiki/Buddy_Bolden         ['https://en.wikipedia.org/wiki/Dementia_praec...  \n",
       "https://en.wikipedia.org/wiki/Cobblestone_Records  ['https://en.wikipedia.org/wiki/1950s_in_jazz'...  \n",
       "https://en.wikipedia.org/wiki/Wild_Bill_Davison    ['https://en.wikipedia.org/wiki/Humphrey_Lytte...  \n",
       "https://en.wikipedia.org/wiki/German_jazz          ['https://en.wikipedia.org/wiki/Orchestral_jaz...  "
      ]
     },
     "execution_count": 39,
     "metadata": {},
     "output_type": "execute_result"
    }
   ],
   "source": [
    "texts = pd.read_csv('text.csv', index_col=0).T\n",
    "texts.head()"
   ]
  },
  {
   "cell_type": "code",
   "execution_count": 40,
   "metadata": {},
   "outputs": [],
   "source": [
    "stemmer = CustomStemmer()\n",
    "preprocessed = stemmer.process_corpus(texts)"
   ]
  },
  {
   "cell_type": "code",
   "execution_count": 41,
   "metadata": {},
   "outputs": [],
   "source": [
    "stemmer.generate_csv(preprocessed)"
   ]
  },
  {
   "cell_type": "markdown",
   "metadata": {},
   "source": [
    "All files available [here](https://drive.google.com/drive/folders/1FkuFF7tCvBj8pTVDtOtFXtfSUOH7a2vw?usp=sharing), as git doesn't support so large files "
   ]
  },
  {
   "cell_type": "markdown",
   "metadata": {},
   "source": [
    "## Visualization of data\n",
    "\n",
    "Violing showing distribution of number of links on wikipedia pages. We can clearly see that most pages have rather small amount of links, but some have enourmous.\n",
    "\n",
    "We've additionally plotted all points so that you can hover on it and see which page has how many links."
   ]
  },
  {
   "cell_type": "code",
   "execution_count": 51,
   "metadata": {},
   "outputs": [
    {
     "data": {
      "application/vnd.plotly.v1+json": {
       "config": {
        "plotlyServerURL": "https://plot.ly"
       },
       "data": [
        {
         "alignmentgroup": "True",
         "box": {
          "visible": false
         },
         "customdata": [
          [
           "https://en.wikipedia.org/wiki/Jazz"
          ],
          [
           "https://en.wikipedia.org/wiki/Buddy_Bolden"
          ],
          [
           "https://en.wikipedia.org/wiki/Cobblestone_Records"
          ],
          [
           "https://en.wikipedia.org/wiki/Wild_Bill_Davison"
          ],
          [
           "https://en.wikipedia.org/wiki/German_jazz"
          ],
          [
           "https://en.wikipedia.org/wiki/Dementia_praecox"
          ],
          [
           "https://en.wikipedia.org/wiki/Curlie"
          ],
          [
           "https://en.wikipedia.org/wiki/Samuel_Clemens"
          ],
          [
           "https://en.wikipedia.org/wiki/Hop_Along"
          ],
          [
           "https://en.wikipedia.org/wiki/1950s_in_jazz"
          ],
          [
           "https://en.wikipedia.org/wiki/Pat_Martino"
          ],
          [
           "https://en.wikipedia.org/wiki/Bibliography_of_jazz"
          ],
          [
           "https://en.wikipedia.org/wiki/Humphrey_Lyttelton"
          ],
          [
           "https://en.wikipedia.org/wiki/New_York_City"
          ],
          [
           "https://en.wikipedia.org/wiki/Bobby_Hackett"
          ],
          [
           "https://en.wikipedia.org/wiki/Institute_of_Jazz_Studies"
          ],
          [
           "https://en.wikipedia.org/wiki/Schuhplattler"
          ],
          [
           "https://en.wikipedia.org/wiki/Frankfurt"
          ],
          [
           "https://en.wikipedia.org/wiki/Novelty_piano"
          ],
          [
           "https://en.wikipedia.org/wiki/Big_band"
          ],
          [
           "https://en.wikipedia.org/wiki/Mood_disorder"
          ],
          [
           "https://en.wikipedia.org/wiki/Research"
          ],
          [
           "https://en.wikipedia.org/wiki/Lucretius"
          ],
          [
           "https://en.wikipedia.org/wiki/Prognosis"
          ],
          [
           "https://en.wikipedia.org/wiki/Netscape_Application_Server"
          ],
          [
           "https://en.wikipedia.org/wiki/Open_content"
          ],
          [
           "https://en.wikipedia.org/wiki/List_of_acquisitions_by_AOL"
          ],
          [
           "https://en.wikipedia.org/wiki/Holding_company"
          ],
          [
           "https://en.wikipedia.org/wiki/Twain_House"
          ],
          [
           "https://en.wikipedia.org/wiki/Clara_Clemens"
          ],
          [
           "https://en.wikipedia.org/wiki/Sweden"
          ],
          [
           "https://en.wikipedia.org/wiki/Sydney_Writers_Walk"
          ],
          [
           "https://en.wikipedia.org/wiki/Headroom_Studios"
          ],
          [
           "https://en.wikipedia.org/wiki/YouTube"
          ],
          [
           "https://en.wikipedia.org/wiki/Get_Disowned"
          ],
          [
           "https://en.wikipedia.org/wiki/Basement_show"
          ],
          [
           "https://en.wikipedia.org/wiki/Ragtime"
          ],
          [
           "https://en.wikipedia.org/wiki/Folk_jazz"
          ],
          [
           "https://en.wikipedia.org/wiki/Blue_Mitchell"
          ],
          [
           "https://en.wikipedia.org/wiki/Bill_Evans"
          ],
          [
           "https://en.wikipedia.org/wiki/Orchestral_jazz"
          ],
          [
           "https://en.wikipedia.org/wiki/Wayback_Machine"
          ],
          [
           "https://en.wikipedia.org/wiki/Ken_Colyer"
          ],
          [
           "https://en.wikipedia.org/wiki/Miles_Davis"
          ],
          [
           "https://en.wikipedia.org/wiki/Down_Beat"
          ],
          [
           "https://en.wikipedia.org/wiki/Opus_De_Don"
          ],
          [
           "https://en.wikipedia.org/wiki/Jimmy_Heath"
          ],
          [
           "https://en.wikipedia.org/wiki/Mainstream_jazz"
          ],
          [
           "https://en.wikipedia.org/wiki/Contemporary_Records"
          ],
          [
           "https://en.wikipedia.org/wiki/List_of_soul_jazz_musicians"
          ],
          [
           "https://en.wikipedia.org/wiki/List_of_vibraphonists"
          ],
          [
           "https://en.wikipedia.org/wiki/Jazz_fusion"
          ],
          [
           "https://en.wikipedia.org/wiki/Kathy_Stobart"
          ],
          [
           "https://en.wikipedia.org/wiki/Baron_Lyttelton"
          ],
          [
           "https://en.wikipedia.org/wiki/George_Melly"
          ],
          [
           "https://en.wikipedia.org/wiki/Barry_Cryer"
          ],
          [
           "https://en.wikipedia.org/wiki/East_Branch_Croton_River"
          ],
          [
           "https://en.wikipedia.org/wiki/Malaysian_Americans"
          ],
          [
           "https://en.wikipedia.org/wiki/List_of_United_States_cities_by_population_density"
          ],
          [
           "https://en.wikipedia.org/wiki/Lyon"
          ],
          [
           "https://en.wikipedia.org/wiki/Ernie_Caceres"
          ],
          [
           "https://en.wikipedia.org/wiki/Bob_Haggart"
          ],
          [
           "https://en.wikipedia.org/wiki/George_Wettling"
          ],
          [
           "https://en.wikipedia.org/wiki/Teresa_Brewer"
          ],
          [
           "https://en.wikipedia.org/wiki/Langston_Hughes"
          ],
          [
           "https://en.wikipedia.org/wiki/Rutgers_University_Police_Department"
          ],
          [
           "https://en.wikipedia.org/wiki/History_of_Rutgers_University"
          ],
          [
           "https://en.wikipedia.org/wiki/Dan_Burley"
          ],
          [
           "https://en.wikipedia.org/wiki/Polka"
          ],
          [
           "https://en.wikipedia.org/wiki/Acoustic_music"
          ],
          [
           "https://en.wikipedia.org/wiki/Hakka_hill_song"
          ],
          [
           "https://en.wikipedia.org/wiki/Italian_folk_music"
          ],
          [
           "https://en.wikipedia.org/wiki/List_of_cities_and_towns_in_Germany"
          ],
          [
           "https://en.wikipedia.org/wiki/Eurovision_Song_Contest_2000"
          ],
          [
           "https://en.wikipedia.org/wiki/Frankfurt_University_of_Applied_Sciences"
          ],
          [
           "https://en.wikipedia.org/wiki/Gustave_Courbet"
          ],
          [
           "https://en.wikipedia.org/wiki/Genre"
          ],
          [
           "https://en.wikipedia.org/wiki/Charley_Straight"
          ],
          [
           "https://en.wikipedia.org/wiki/Classical_music"
          ],
          [
           "https://en.wikipedia.org/wiki/Belgian_jazz"
          ],
          [
           "https://en.wikipedia.org/wiki/Danish_jazz"
          ],
          [
           "https://en.wikipedia.org/wiki/Dutch_jazz"
          ],
          [
           "https://en.wikipedia.org/wiki/Pori_Jazz"
          ],
          [
           "https://en.wikipedia.org/wiki/Atypical_depression"
          ],
          [
           "https://en.wikipedia.org/wiki/Intermittent_explosive_disorder"
          ],
          [
           "https://en.wikipedia.org/wiki/Mood_swing"
          ],
          [
           "https://en.wikipedia.org/wiki/Major_depressive_disorder"
          ],
          [
           "https://en.wikipedia.org/wiki/Cosmology"
          ],
          [
           "https://en.wikipedia.org/wiki/Market_research"
          ],
          [
           "https://en.wikipedia.org/wiki/Sociotechnical_system"
          ],
          [
           "https://en.wikipedia.org/wiki/Pragmatics"
          ],
          [
           "https://en.wikipedia.org/wiki/Teles_of_Megara"
          ],
          [
           "https://en.wikipedia.org/wiki/Anaximander"
          ],
          [
           "https://en.wikipedia.org/wiki/Peripatetic_school"
          ],
          [
           "https://en.wikipedia.org/wiki/Clothing_in_ancient_Rome"
          ],
          [
           "https://en.wikipedia.org/wiki/Septic_shock"
          ],
          [
           "https://en.wikipedia.org/wiki/Medical_diagnosis"
          ],
          [
           "https://en.wikipedia.org/wiki/Multiple_myeloma"
          ],
          [
           "https://en.wikipedia.org/wiki/Medical_terminology"
          ],
          [
           "https://en.wikipedia.org/wiki/Eric_Bina"
          ]
         ],
         "hovertemplate": "Number of links on a page=%{x}<br>index=%{customdata[0]}<extra></extra>",
         "legendgroup": "",
         "marker": {
          "color": "#636efa"
         },
         "name": "",
         "offsetgroup": "",
         "orientation": "h",
         "points": "all",
         "scalegroup": "True",
         "showlegend": false,
         "type": "violin",
         "x": [
          863,
          57,
          211,
          25,
          353,
          61,
          129,
          395,
          28,
          399,
          59,
          188,
          124,
          2257,
          45,
          133,
          213,
          1095,
          22,
          328,
          331,
          392,
          743,
          36,
          49,
          233,
          166,
          207,
          162,
          90,
          1271,
          80,
          25,
          1462,
          32,
          17,
          363,
          396,
          125,
          460,
          244,
          139,
          48,
          843,
          243,
          111,
          123,
          194,
          355,
          293,
          286,
          532,
          49,
          22,
          87,
          110,
          213,
          122,
          246,
          564,
          122,
          31,
          36,
          75,
          275,
          109,
          170,
          65,
          428,
          220,
          379,
          646,
          1593,
          385,
          33,
          137,
          574,
          15,
          1619,
          360,
          284,
          275,
          272,
          200,
          208,
          136,
          586,
          567,
          295,
          331,
          404,
          48,
          912,
          798,
          507,
          221,
          246,
          372,
          34,
          128
         ],
         "x0": " ",
         "xaxis": "x",
         "y0": " ",
         "yaxis": "y"
        }
       ],
       "layout": {
        "legend": {
         "tracegroupgap": 0
        },
        "template": {
         "data": {
          "bar": [
           {
            "error_x": {
             "color": "#2a3f5f"
            },
            "error_y": {
             "color": "#2a3f5f"
            },
            "marker": {
             "line": {
              "color": "#E5ECF6",
              "width": 0.5
             },
             "pattern": {
              "fillmode": "overlay",
              "size": 10,
              "solidity": 0.2
             }
            },
            "type": "bar"
           }
          ],
          "barpolar": [
           {
            "marker": {
             "line": {
              "color": "#E5ECF6",
              "width": 0.5
             },
             "pattern": {
              "fillmode": "overlay",
              "size": 10,
              "solidity": 0.2
             }
            },
            "type": "barpolar"
           }
          ],
          "carpet": [
           {
            "aaxis": {
             "endlinecolor": "#2a3f5f",
             "gridcolor": "white",
             "linecolor": "white",
             "minorgridcolor": "white",
             "startlinecolor": "#2a3f5f"
            },
            "baxis": {
             "endlinecolor": "#2a3f5f",
             "gridcolor": "white",
             "linecolor": "white",
             "minorgridcolor": "white",
             "startlinecolor": "#2a3f5f"
            },
            "type": "carpet"
           }
          ],
          "choropleth": [
           {
            "colorbar": {
             "outlinewidth": 0,
             "ticks": ""
            },
            "type": "choropleth"
           }
          ],
          "contour": [
           {
            "colorbar": {
             "outlinewidth": 0,
             "ticks": ""
            },
            "colorscale": [
             [
              0,
              "#0d0887"
             ],
             [
              0.1111111111111111,
              "#46039f"
             ],
             [
              0.2222222222222222,
              "#7201a8"
             ],
             [
              0.3333333333333333,
              "#9c179e"
             ],
             [
              0.4444444444444444,
              "#bd3786"
             ],
             [
              0.5555555555555556,
              "#d8576b"
             ],
             [
              0.6666666666666666,
              "#ed7953"
             ],
             [
              0.7777777777777778,
              "#fb9f3a"
             ],
             [
              0.8888888888888888,
              "#fdca26"
             ],
             [
              1,
              "#f0f921"
             ]
            ],
            "type": "contour"
           }
          ],
          "contourcarpet": [
           {
            "colorbar": {
             "outlinewidth": 0,
             "ticks": ""
            },
            "type": "contourcarpet"
           }
          ],
          "heatmap": [
           {
            "colorbar": {
             "outlinewidth": 0,
             "ticks": ""
            },
            "colorscale": [
             [
              0,
              "#0d0887"
             ],
             [
              0.1111111111111111,
              "#46039f"
             ],
             [
              0.2222222222222222,
              "#7201a8"
             ],
             [
              0.3333333333333333,
              "#9c179e"
             ],
             [
              0.4444444444444444,
              "#bd3786"
             ],
             [
              0.5555555555555556,
              "#d8576b"
             ],
             [
              0.6666666666666666,
              "#ed7953"
             ],
             [
              0.7777777777777778,
              "#fb9f3a"
             ],
             [
              0.8888888888888888,
              "#fdca26"
             ],
             [
              1,
              "#f0f921"
             ]
            ],
            "type": "heatmap"
           }
          ],
          "heatmapgl": [
           {
            "colorbar": {
             "outlinewidth": 0,
             "ticks": ""
            },
            "colorscale": [
             [
              0,
              "#0d0887"
             ],
             [
              0.1111111111111111,
              "#46039f"
             ],
             [
              0.2222222222222222,
              "#7201a8"
             ],
             [
              0.3333333333333333,
              "#9c179e"
             ],
             [
              0.4444444444444444,
              "#bd3786"
             ],
             [
              0.5555555555555556,
              "#d8576b"
             ],
             [
              0.6666666666666666,
              "#ed7953"
             ],
             [
              0.7777777777777778,
              "#fb9f3a"
             ],
             [
              0.8888888888888888,
              "#fdca26"
             ],
             [
              1,
              "#f0f921"
             ]
            ],
            "type": "heatmapgl"
           }
          ],
          "histogram": [
           {
            "marker": {
             "pattern": {
              "fillmode": "overlay",
              "size": 10,
              "solidity": 0.2
             }
            },
            "type": "histogram"
           }
          ],
          "histogram2d": [
           {
            "colorbar": {
             "outlinewidth": 0,
             "ticks": ""
            },
            "colorscale": [
             [
              0,
              "#0d0887"
             ],
             [
              0.1111111111111111,
              "#46039f"
             ],
             [
              0.2222222222222222,
              "#7201a8"
             ],
             [
              0.3333333333333333,
              "#9c179e"
             ],
             [
              0.4444444444444444,
              "#bd3786"
             ],
             [
              0.5555555555555556,
              "#d8576b"
             ],
             [
              0.6666666666666666,
              "#ed7953"
             ],
             [
              0.7777777777777778,
              "#fb9f3a"
             ],
             [
              0.8888888888888888,
              "#fdca26"
             ],
             [
              1,
              "#f0f921"
             ]
            ],
            "type": "histogram2d"
           }
          ],
          "histogram2dcontour": [
           {
            "colorbar": {
             "outlinewidth": 0,
             "ticks": ""
            },
            "colorscale": [
             [
              0,
              "#0d0887"
             ],
             [
              0.1111111111111111,
              "#46039f"
             ],
             [
              0.2222222222222222,
              "#7201a8"
             ],
             [
              0.3333333333333333,
              "#9c179e"
             ],
             [
              0.4444444444444444,
              "#bd3786"
             ],
             [
              0.5555555555555556,
              "#d8576b"
             ],
             [
              0.6666666666666666,
              "#ed7953"
             ],
             [
              0.7777777777777778,
              "#fb9f3a"
             ],
             [
              0.8888888888888888,
              "#fdca26"
             ],
             [
              1,
              "#f0f921"
             ]
            ],
            "type": "histogram2dcontour"
           }
          ],
          "mesh3d": [
           {
            "colorbar": {
             "outlinewidth": 0,
             "ticks": ""
            },
            "type": "mesh3d"
           }
          ],
          "parcoords": [
           {
            "line": {
             "colorbar": {
              "outlinewidth": 0,
              "ticks": ""
             }
            },
            "type": "parcoords"
           }
          ],
          "pie": [
           {
            "automargin": true,
            "type": "pie"
           }
          ],
          "scatter": [
           {
            "fillpattern": {
             "fillmode": "overlay",
             "size": 10,
             "solidity": 0.2
            },
            "type": "scatter"
           }
          ],
          "scatter3d": [
           {
            "line": {
             "colorbar": {
              "outlinewidth": 0,
              "ticks": ""
             }
            },
            "marker": {
             "colorbar": {
              "outlinewidth": 0,
              "ticks": ""
             }
            },
            "type": "scatter3d"
           }
          ],
          "scattercarpet": [
           {
            "marker": {
             "colorbar": {
              "outlinewidth": 0,
              "ticks": ""
             }
            },
            "type": "scattercarpet"
           }
          ],
          "scattergeo": [
           {
            "marker": {
             "colorbar": {
              "outlinewidth": 0,
              "ticks": ""
             }
            },
            "type": "scattergeo"
           }
          ],
          "scattergl": [
           {
            "marker": {
             "colorbar": {
              "outlinewidth": 0,
              "ticks": ""
             }
            },
            "type": "scattergl"
           }
          ],
          "scattermapbox": [
           {
            "marker": {
             "colorbar": {
              "outlinewidth": 0,
              "ticks": ""
             }
            },
            "type": "scattermapbox"
           }
          ],
          "scatterpolar": [
           {
            "marker": {
             "colorbar": {
              "outlinewidth": 0,
              "ticks": ""
             }
            },
            "type": "scatterpolar"
           }
          ],
          "scatterpolargl": [
           {
            "marker": {
             "colorbar": {
              "outlinewidth": 0,
              "ticks": ""
             }
            },
            "type": "scatterpolargl"
           }
          ],
          "scatterternary": [
           {
            "marker": {
             "colorbar": {
              "outlinewidth": 0,
              "ticks": ""
             }
            },
            "type": "scatterternary"
           }
          ],
          "surface": [
           {
            "colorbar": {
             "outlinewidth": 0,
             "ticks": ""
            },
            "colorscale": [
             [
              0,
              "#0d0887"
             ],
             [
              0.1111111111111111,
              "#46039f"
             ],
             [
              0.2222222222222222,
              "#7201a8"
             ],
             [
              0.3333333333333333,
              "#9c179e"
             ],
             [
              0.4444444444444444,
              "#bd3786"
             ],
             [
              0.5555555555555556,
              "#d8576b"
             ],
             [
              0.6666666666666666,
              "#ed7953"
             ],
             [
              0.7777777777777778,
              "#fb9f3a"
             ],
             [
              0.8888888888888888,
              "#fdca26"
             ],
             [
              1,
              "#f0f921"
             ]
            ],
            "type": "surface"
           }
          ],
          "table": [
           {
            "cells": {
             "fill": {
              "color": "#EBF0F8"
             },
             "line": {
              "color": "white"
             }
            },
            "header": {
             "fill": {
              "color": "#C8D4E3"
             },
             "line": {
              "color": "white"
             }
            },
            "type": "table"
           }
          ]
         },
         "layout": {
          "annotationdefaults": {
           "arrowcolor": "#2a3f5f",
           "arrowhead": 0,
           "arrowwidth": 1
          },
          "autotypenumbers": "strict",
          "coloraxis": {
           "colorbar": {
            "outlinewidth": 0,
            "ticks": ""
           }
          },
          "colorscale": {
           "diverging": [
            [
             0,
             "#8e0152"
            ],
            [
             0.1,
             "#c51b7d"
            ],
            [
             0.2,
             "#de77ae"
            ],
            [
             0.3,
             "#f1b6da"
            ],
            [
             0.4,
             "#fde0ef"
            ],
            [
             0.5,
             "#f7f7f7"
            ],
            [
             0.6,
             "#e6f5d0"
            ],
            [
             0.7,
             "#b8e186"
            ],
            [
             0.8,
             "#7fbc41"
            ],
            [
             0.9,
             "#4d9221"
            ],
            [
             1,
             "#276419"
            ]
           ],
           "sequential": [
            [
             0,
             "#0d0887"
            ],
            [
             0.1111111111111111,
             "#46039f"
            ],
            [
             0.2222222222222222,
             "#7201a8"
            ],
            [
             0.3333333333333333,
             "#9c179e"
            ],
            [
             0.4444444444444444,
             "#bd3786"
            ],
            [
             0.5555555555555556,
             "#d8576b"
            ],
            [
             0.6666666666666666,
             "#ed7953"
            ],
            [
             0.7777777777777778,
             "#fb9f3a"
            ],
            [
             0.8888888888888888,
             "#fdca26"
            ],
            [
             1,
             "#f0f921"
            ]
           ],
           "sequentialminus": [
            [
             0,
             "#0d0887"
            ],
            [
             0.1111111111111111,
             "#46039f"
            ],
            [
             0.2222222222222222,
             "#7201a8"
            ],
            [
             0.3333333333333333,
             "#9c179e"
            ],
            [
             0.4444444444444444,
             "#bd3786"
            ],
            [
             0.5555555555555556,
             "#d8576b"
            ],
            [
             0.6666666666666666,
             "#ed7953"
            ],
            [
             0.7777777777777778,
             "#fb9f3a"
            ],
            [
             0.8888888888888888,
             "#fdca26"
            ],
            [
             1,
             "#f0f921"
            ]
           ]
          },
          "colorway": [
           "#636efa",
           "#EF553B",
           "#00cc96",
           "#ab63fa",
           "#FFA15A",
           "#19d3f3",
           "#FF6692",
           "#B6E880",
           "#FF97FF",
           "#FECB52"
          ],
          "font": {
           "color": "#2a3f5f"
          },
          "geo": {
           "bgcolor": "white",
           "lakecolor": "white",
           "landcolor": "#E5ECF6",
           "showlakes": true,
           "showland": true,
           "subunitcolor": "white"
          },
          "hoverlabel": {
           "align": "left"
          },
          "hovermode": "closest",
          "mapbox": {
           "style": "light"
          },
          "paper_bgcolor": "white",
          "plot_bgcolor": "#E5ECF6",
          "polar": {
           "angularaxis": {
            "gridcolor": "white",
            "linecolor": "white",
            "ticks": ""
           },
           "bgcolor": "#E5ECF6",
           "radialaxis": {
            "gridcolor": "white",
            "linecolor": "white",
            "ticks": ""
           }
          },
          "scene": {
           "xaxis": {
            "backgroundcolor": "#E5ECF6",
            "gridcolor": "white",
            "gridwidth": 2,
            "linecolor": "white",
            "showbackground": true,
            "ticks": "",
            "zerolinecolor": "white"
           },
           "yaxis": {
            "backgroundcolor": "#E5ECF6",
            "gridcolor": "white",
            "gridwidth": 2,
            "linecolor": "white",
            "showbackground": true,
            "ticks": "",
            "zerolinecolor": "white"
           },
           "zaxis": {
            "backgroundcolor": "#E5ECF6",
            "gridcolor": "white",
            "gridwidth": 2,
            "linecolor": "white",
            "showbackground": true,
            "ticks": "",
            "zerolinecolor": "white"
           }
          },
          "shapedefaults": {
           "line": {
            "color": "#2a3f5f"
           }
          },
          "ternary": {
           "aaxis": {
            "gridcolor": "white",
            "linecolor": "white",
            "ticks": ""
           },
           "baxis": {
            "gridcolor": "white",
            "linecolor": "white",
            "ticks": ""
           },
           "bgcolor": "#E5ECF6",
           "caxis": {
            "gridcolor": "white",
            "linecolor": "white",
            "ticks": ""
           }
          },
          "title": {
           "x": 0.05
          },
          "xaxis": {
           "automargin": true,
           "gridcolor": "white",
           "linecolor": "white",
           "ticks": "",
           "title": {
            "standoff": 15
           },
           "zerolinecolor": "white",
           "zerolinewidth": 2
          },
          "yaxis": {
           "automargin": true,
           "gridcolor": "white",
           "linecolor": "white",
           "ticks": "",
           "title": {
            "standoff": 15
           },
           "zerolinecolor": "white",
           "zerolinewidth": 2
          }
         }
        },
        "title": {
         "text": "Distribution of number of links on wikiedia starting traversal from Jazz"
        },
        "violinmode": "group",
        "xaxis": {
         "anchor": "y",
         "domain": [
          0,
          1
         ],
         "title": {
          "text": "Number of links on a page"
         }
        },
        "yaxis": {
         "anchor": "x",
         "domain": [
          0,
          1
         ]
        }
       }
      }
     },
     "metadata": {},
     "output_type": "display_data"
    }
   ],
   "source": [
    "texts_reset_id = texts.reset_index().astype({\"num_of_links\": \"int32\"})\n",
    "px.violin(texts_reset_id, \n",
    "          x=\"num_of_links\", \n",
    "          title=\"Distribution of number of links on wikiedia starting traversal from Jazz\",\n",
    "          labels= {\"num_of_links\": \"Number of links on a page\"},\n",
    "          points='all',\n",
    "          hover_data=[\"index\"])"
   ]
  },
  {
   "cell_type": "code",
   "execution_count": 52,
   "metadata": {},
   "outputs": [
    {
     "data": {
      "text/html": [
       "<div>\n",
       "<style scoped>\n",
       "    .dataframe tbody tr th:only-of-type {\n",
       "        vertical-align: middle;\n",
       "    }\n",
       "\n",
       "    .dataframe tbody tr th {\n",
       "        vertical-align: top;\n",
       "    }\n",
       "\n",
       "    .dataframe thead th {\n",
       "        text-align: right;\n",
       "    }\n",
       "</style>\n",
       "<table border=\"1\" class=\"dataframe\">\n",
       "  <thead>\n",
       "    <tr style=\"text-align: right;\">\n",
       "      <th></th>\n",
       "      <th>text</th>\n",
       "    </tr>\n",
       "  </thead>\n",
       "  <tbody>\n",
       "    <tr>\n",
       "      <th>https://en.wikipedia.org/wiki/Jazz</th>\n",
       "      <td>Jazz music genre originated communities New Or...</td>\n",
       "    </tr>\n",
       "    <tr>\n",
       "      <th>https://en.wikipedia.org/wiki/Buddy_Bolden</th>\n",
       "      <td>Charles Joseph Buddy Bolden September November...</td>\n",
       "    </tr>\n",
       "    <tr>\n",
       "      <th>https://en.wikipedia.org/wiki/Cobblestone_Records</th>\n",
       "      <td>Cobblestone Records American jazz record label...</td>\n",
       "    </tr>\n",
       "    <tr>\n",
       "      <th>https://en.wikipedia.org/wiki/Wild_Bill_Davison</th>\n",
       "      <td>William Edward Davison January November nickna...</td>\n",
       "    </tr>\n",
       "    <tr>\n",
       "      <th>https://en.wikipedia.org/wiki/German_jazz</th>\n",
       "      <td>An overview evolution Jazz music Germany revea...</td>\n",
       "    </tr>\n",
       "  </tbody>\n",
       "</table>\n",
       "</div>"
      ],
      "text/plain": [
       "                                                                                                text\n",
       "https://en.wikipedia.org/wiki/Jazz                 Jazz music genre originated communities New Or...\n",
       "https://en.wikipedia.org/wiki/Buddy_Bolden         Charles Joseph Buddy Bolden September November...\n",
       "https://en.wikipedia.org/wiki/Cobblestone_Records  Cobblestone Records American jazz record label...\n",
       "https://en.wikipedia.org/wiki/Wild_Bill_Davison    William Edward Davison January November nickna...\n",
       "https://en.wikipedia.org/wiki/German_jazz          An overview evolution Jazz music Germany revea..."
      ]
     },
     "execution_count": 52,
     "metadata": {},
     "output_type": "execute_result"
    }
   ],
   "source": [
    "data = pd.read_csv('processed.csv', index_col=0)\n",
    "data.head()"
   ]
  },
  {
   "cell_type": "code",
   "execution_count": 10,
   "metadata": {},
   "outputs": [],
   "source": [
    "words = [text.split() for text in data['text']]\n",
    "words = [\n",
    "    word for document in words for word in document]\n"
   ]
  },
  {
   "cell_type": "markdown",
   "metadata": {},
   "source": [
    "Top 10 most occured words"
   ]
  },
  {
   "cell_type": "code",
   "execution_count": 11,
   "metadata": {},
   "outputs": [
    {
     "name": "stdout",
     "output_type": "stream",
     "text": [
      "jazz: 358\n",
      "music: 140\n",
      "The: 118\n",
      "In: 90\n",
      "musicians: 73\n",
      "New: 68\n",
      "Jazz: 59\n",
      "Marsalis: 48\n",
      "first: 44\n",
      "Orleans: 41\n"
     ]
    }
   ],
   "source": [
    "from collections import Counter\n",
    "\n",
    "counter = Counter(words)\n",
    "cols = [x[0].lower() for x in counter.most_common(10)]\n",
    "for pair in counter.most_common(10):\n",
    "    print(f'{pair[0]}: {pair[1]}')"
   ]
  },
  {
   "cell_type": "code",
   "execution_count": 12,
   "metadata": {},
   "outputs": [
    {
     "data": {
      "image/png": "[encoded data removed]",
      "text/plain": [
       "<Figure size 640x480 with 1 Axes>"
      ]
     },
     "metadata": {},
     "output_type": "display_data"
    }
   ],
   "source": [
    "bubble_chart = BubbleChart(area=[x[1] for x in counter.most_common(10)],\n",
    "                           bubble_spacing=0.1)\n",
    "\n",
    "bubble_chart.collapse()\n",
    "\n",
    "fig, ax = plt.subplots(subplot_kw=dict(aspect=\"equal\"))\n",
    "colors = ['#5A69AF', '#579E65', '#F9C784', '#FC944A', '#F24C00', '#00B825',\n",
    "          '#F652A0', '#36EEE0', '#BCECE0', '#F8EA8C']\n",
    "bubble_chart.plot(\n",
    "    ax, cols, colors)\n",
    "ax.axis(\"off\")\n",
    "ax.relim()\n",
    "ax.autoscale_view()\n",
    "ax.set_title('Browser market share')\n",
    "\n",
    "plt.show()\n"
   ]
  },
  {
   "cell_type": "markdown",
   "metadata": {},
   "source": [
    "Co-occurances"
   ]
  },
  {
   "cell_type": "code",
   "execution_count": 22,
   "metadata": {},
   "outputs": [],
   "source": [
    "from sklearn.feature_extraction.text import CountVectorizer\n",
    "\n",
    "CountVec = CountVectorizer()\n",
    "CountData = CountVec.fit_transform(data['text'])\n",
    " \n",
    "wordsM = (CountData.T)@CountData"
   ]
  },
  {
   "cell_type": "code",
   "execution_count": 23,
   "metadata": {},
   "outputs": [
    {
     "data": {
      "text/html": [
       "<div>\n",
       "<style scoped>\n",
       "    .dataframe tbody tr th:only-of-type {\n",
       "        vertical-align: middle;\n",
       "    }\n",
       "\n",
       "    .dataframe tbody tr th {\n",
       "        vertical-align: top;\n",
       "    }\n",
       "\n",
       "    .dataframe thead th {\n",
       "        text-align: right;\n",
       "    }\n",
       "</style>\n",
       "<table border=\"1\" class=\"dataframe\">\n",
       "  <thead>\n",
       "    <tr style=\"text-align: right;\">\n",
       "      <th></th>\n",
       "      <th>aaron</th>\n",
       "      <th>abandoned</th>\n",
       "      <th>abandoning</th>\n",
       "      <th>abandonment</th>\n",
       "      <th>abbey</th>\n",
       "      <th>abercrombie</th>\n",
       "      <th>ability</th>\n",
       "      <th>able</th>\n",
       "      <th>abolition</th>\n",
       "      <th>abound</th>\n",
       "      <th>...</th>\n",
       "      <th>young</th>\n",
       "      <th>younger</th>\n",
       "      <th>youngest</th>\n",
       "      <th>your</th>\n",
       "      <th>youtube</th>\n",
       "      <th>zappa</th>\n",
       "      <th>zarin</th>\n",
       "      <th>zawinul</th>\n",
       "      <th>zbigniew</th>\n",
       "      <th>zorn</th>\n",
       "    </tr>\n",
       "  </thead>\n",
       "  <tbody>\n",
       "    <tr>\n",
       "      <th>aaron</th>\n",
       "      <td>1</td>\n",
       "      <td>4</td>\n",
       "      <td>3</td>\n",
       "      <td>1</td>\n",
       "      <td>1</td>\n",
       "      <td>1</td>\n",
       "      <td>2</td>\n",
       "      <td>7</td>\n",
       "      <td>1</td>\n",
       "      <td>1</td>\n",
       "      <td>...</td>\n",
       "      <td>16</td>\n",
       "      <td>6</td>\n",
       "      <td>0</td>\n",
       "      <td>1</td>\n",
       "      <td>1</td>\n",
       "      <td>2</td>\n",
       "      <td>0</td>\n",
       "      <td>3</td>\n",
       "      <td>1</td>\n",
       "      <td>1</td>\n",
       "    </tr>\n",
       "    <tr>\n",
       "      <th>abandoned</th>\n",
       "      <td>4</td>\n",
       "      <td>16</td>\n",
       "      <td>12</td>\n",
       "      <td>4</td>\n",
       "      <td>4</td>\n",
       "      <td>4</td>\n",
       "      <td>8</td>\n",
       "      <td>28</td>\n",
       "      <td>4</td>\n",
       "      <td>4</td>\n",
       "      <td>...</td>\n",
       "      <td>64</td>\n",
       "      <td>24</td>\n",
       "      <td>0</td>\n",
       "      <td>4</td>\n",
       "      <td>4</td>\n",
       "      <td>8</td>\n",
       "      <td>0</td>\n",
       "      <td>12</td>\n",
       "      <td>4</td>\n",
       "      <td>4</td>\n",
       "    </tr>\n",
       "    <tr>\n",
       "      <th>abandoning</th>\n",
       "      <td>3</td>\n",
       "      <td>12</td>\n",
       "      <td>9</td>\n",
       "      <td>3</td>\n",
       "      <td>3</td>\n",
       "      <td>3</td>\n",
       "      <td>6</td>\n",
       "      <td>21</td>\n",
       "      <td>3</td>\n",
       "      <td>3</td>\n",
       "      <td>...</td>\n",
       "      <td>48</td>\n",
       "      <td>18</td>\n",
       "      <td>0</td>\n",
       "      <td>3</td>\n",
       "      <td>3</td>\n",
       "      <td>6</td>\n",
       "      <td>0</td>\n",
       "      <td>9</td>\n",
       "      <td>3</td>\n",
       "      <td>3</td>\n",
       "    </tr>\n",
       "    <tr>\n",
       "      <th>abandonment</th>\n",
       "      <td>1</td>\n",
       "      <td>4</td>\n",
       "      <td>3</td>\n",
       "      <td>1</td>\n",
       "      <td>1</td>\n",
       "      <td>1</td>\n",
       "      <td>2</td>\n",
       "      <td>7</td>\n",
       "      <td>1</td>\n",
       "      <td>1</td>\n",
       "      <td>...</td>\n",
       "      <td>16</td>\n",
       "      <td>6</td>\n",
       "      <td>0</td>\n",
       "      <td>1</td>\n",
       "      <td>1</td>\n",
       "      <td>2</td>\n",
       "      <td>0</td>\n",
       "      <td>3</td>\n",
       "      <td>1</td>\n",
       "      <td>1</td>\n",
       "    </tr>\n",
       "    <tr>\n",
       "      <th>abbey</th>\n",
       "      <td>1</td>\n",
       "      <td>4</td>\n",
       "      <td>3</td>\n",
       "      <td>1</td>\n",
       "      <td>1</td>\n",
       "      <td>1</td>\n",
       "      <td>2</td>\n",
       "      <td>7</td>\n",
       "      <td>1</td>\n",
       "      <td>1</td>\n",
       "      <td>...</td>\n",
       "      <td>16</td>\n",
       "      <td>6</td>\n",
       "      <td>0</td>\n",
       "      <td>1</td>\n",
       "      <td>1</td>\n",
       "      <td>2</td>\n",
       "      <td>0</td>\n",
       "      <td>3</td>\n",
       "      <td>1</td>\n",
       "      <td>1</td>\n",
       "    </tr>\n",
       "  </tbody>\n",
       "</table>\n",
       "<p>5 rows × 3304 columns</p>\n",
       "</div>"
      ],
      "text/plain": [
       "             aaron  abandoned  abandoning  abandonment  abbey  abercrombie  \\\n",
       "aaron            1          4           3            1      1            1   \n",
       "abandoned        4         16          12            4      4            4   \n",
       "abandoning       3         12           9            3      3            3   \n",
       "abandonment      1          4           3            1      1            1   \n",
       "abbey            1          4           3            1      1            1   \n",
       "\n",
       "             ability  able  abolition  abound  ...  young  younger  youngest  \\\n",
       "aaron              2     7          1       1  ...     16        6         0   \n",
       "abandoned          8    28          4       4  ...     64       24         0   \n",
       "abandoning         6    21          3       3  ...     48       18         0   \n",
       "abandonment        2     7          1       1  ...     16        6         0   \n",
       "abbey              2     7          1       1  ...     16        6         0   \n",
       "\n",
       "             your  youtube  zappa  zarin  zawinul  zbigniew  zorn  \n",
       "aaron           1        1      2      0        3         1     1  \n",
       "abandoned       4        4      8      0       12         4     4  \n",
       "abandoning      3        3      6      0        9         3     3  \n",
       "abandonment     1        1      2      0        3         1     1  \n",
       "abbey           1        1      2      0        3         1     1  \n",
       "\n",
       "[5 rows x 3304 columns]"
      ]
     },
     "execution_count": 23,
     "metadata": {},
     "output_type": "execute_result"
    }
   ],
   "source": [
    "df = pd.DataFrame(wordsM.toarray(),\n",
    "                  columns=CountVec.get_feature_names_out(), index=CountVec.get_feature_names_out())\n",
    "df.head()"
   ]
  },
  {
   "cell_type": "markdown",
   "metadata": {},
   "source": [
    "Biggest number of co-occurance"
   ]
  },
  {
   "cell_type": "code",
   "execution_count": 24,
   "metadata": {},
   "outputs": [
    {
     "name": "stdout",
     "output_type": "stream",
     "text": [
      "The most co-occurances are: music, jazz with a value of 51845\n"
     ]
    }
   ],
   "source": [
    "a = wordsM.copy()\n",
    "for i in range(a.shape[0]):\n",
    "    a[i,i] = -1\n",
    "x, y = np.unravel_index(a.argmax(), a.shape)\n",
    "print(f'The most co-occurances are: {CountVec.get_feature_names_out()[x]}, {CountVec.get_feature_names_out()[y]} with a value of {a[x,y]}')\n"
   ]
  },
  {
   "cell_type": "code",
   "execution_count": 16,
   "metadata": {},
   "outputs": [
    {
     "name": "stderr",
     "output_type": "stream",
     "text": [
      "d:\\polibuda\\sem5\\IR\\WikipediaRecommender\\.venv\\lib\\site-packages\\nxviz\\__init__.py:18: UserWarning: \n",
      "nxviz has a new API! Version 0.7.4 onwards, the old class-based API is being\n",
      "deprecated in favour of a new API focused on advancing a grammar of network\n",
      "graphics. If your plotting code depends on the old API, please consider\n",
      "pinning nxviz at version 0.7.4, as the new API will break your old code.\n",
      "\n",
      "To check out the new API, please head over to the docs at\n",
      "https://ericmjl.github.io/nxviz/ to learn more. We hope you enjoy using it!\n",
      "\n",
      "(This deprecation message will go away in version 1.0.)\n",
      "\n",
      "  warnings.warn(\n"
     ]
    }
   ],
   "source": [
    "import networkx as nx\n",
    "from matplotlib.pyplot import figure\n",
    "import matplotlib.pyplot as plt\n",
    "\n",
    "import nxviz as nv\n",
    "from nxviz import annotate\n"
   ]
  },
  {
   "cell_type": "code",
   "execution_count": 17,
   "metadata": {},
   "outputs": [
    {
     "data": {
      "image/png": "[encoded data removed]",
      "text/plain": [
       "<Figure size 640x480 with 1 Axes>"
      ]
     },
     "metadata": {},
     "output_type": "display_data"
    }
   ],
   "source": [
    "top = df[cols].loc[cols]\n",
    "G = nx.from_numpy_array(top.values)\n",
    "mapping = {x: cols[x] for x in range(len(cols))}\n",
    "G = nx.relabel_nodes(G, mapping)\n",
    "\n",
    "for v, name in zip(G, cols):\n",
    "    G.nodes[v][\"class\"] = G.degree(v, weight=\"weight\")\n",
    "    G.nodes[v][\"name\"] = name\n",
    "\n",
    "ax = nv.circos(\n",
    "    G,\n",
    "    node_color_by=\"class\",\n",
    "    edge_alpha_by=\"weight\",\n",
    "    group_by=\"name\",\n",
    ")\n",
    "\n",
    "ax.figure.tight_layout()\n",
    "annotate.circos_labels(G, group_by=\"name\", layout=\"rotate\")\n"
   ]
  },
  {
   "cell_type": "markdown",
   "metadata": {},
   "source": [
    "## Rank"
   ]
  },
  {
   "cell_type": "code",
   "execution_count": 4,
   "metadata": {},
   "outputs": [],
   "source": [
    "ranker = Ranker('processed.csv', pca_components=50)"
   ]
  },
  {
   "cell_type": "code",
   "execution_count": 58,
   "metadata": {},
   "outputs": [],
   "source": [
    "sebastian = User()"
   ]
  },
  {
   "cell_type": "code",
   "execution_count": 63,
   "metadata": {},
   "outputs": [
    {
     "name": "stdout",
     "output_type": "stream",
     "text": [
      "https://en.wikipedia.org/wiki/Jazz, score: 0.36457809612122727\n",
      "https://en.wikipedia.org/wiki/German_jazz, score: 0.3548070856346116\n",
      "https://en.wikipedia.org/wiki/Belgian_jazz, score: 0.3063679521950333\n",
      "https://en.wikipedia.org/wiki/Jazz_fusion, score: 0.2522706340509253\n",
      "https://en.wikipedia.org/wiki/Orchestral_jazz, score: 0.24411257421934973\n",
      "https://en.wikipedia.org/wiki/Dutch_jazz, score: 0.23619573910487413\n",
      "https://en.wikipedia.org/wiki/1950s_in_jazz, score: 0.22809707464776074\n",
      "https://en.wikipedia.org/wiki/Mainstream_jazz, score: 0.21137367020267517\n",
      "https://en.wikipedia.org/wiki/Danish_jazz, score: 0.20916052700887966\n",
      "https://en.wikipedia.org/wiki/List_of_soul_jazz_musicians, score: 0.19598055229841793\n"
     ]
    }
   ],
   "source": [
    "ranker.rank_based_on_link(sebastian, \"https://en.wikipedia.org/wiki/Institute_of_Jazz_Studies\", model=\"tfidf\")"
   ]
  },
  {
   "cell_type": "code",
   "execution_count": 44,
   "metadata": {},
   "outputs": [
    {
     "data": {
      "text/plain": [
       "{'https://en.wikipedia.org/wiki/Big_band',\n",
       " 'https://en.wikipedia.org/wiki/Blues',\n",
       " 'https://en.wikipedia.org/wiki/Danish_jazz',\n",
       " 'https://en.wikipedia.org/wiki/Institute_of_Jazz_Studies',\n",
       " 'https://en.wikipedia.org/wiki/Jazz'}"
      ]
     },
     "execution_count": 44,
     "metadata": {},
     "output_type": "execute_result"
    }
   ],
   "source": [
    "sebastian.viewed_links"
   ]
  },
  {
   "cell_type": "code",
   "execution_count": 48,
   "metadata": {},
   "outputs": [
    {
     "name": "stdout",
     "output_type": "stream",
     "text": [
      "https://en.wikipedia.org/wiki/German_jazz, score: 0.3786\n",
      "https://en.wikipedia.org/wiki/Belgian_jazz, score: 0.3561\n",
      "https://en.wikipedia.org/wiki/Orchestral_jazz, score: 0.3354\n",
      "https://en.wikipedia.org/wiki/Jazz_fusion, score: 0.324\n",
      "https://en.wikipedia.org/wiki/1950s_in_jazz, score: 0.2942\n",
      "https://en.wikipedia.org/wiki/Mainstream_jazz, score: 0.2505\n",
      "https://en.wikipedia.org/wiki/Dutch_jazz, score: 0.2493\n",
      "https://en.wikipedia.org/wiki/List_of_soul_jazz_musicians, score: 0.1828\n",
      "https://en.wikipedia.org/wiki/Miles_Davis, score: 0.1793\n",
      "https://en.wikipedia.org/wiki/Folk_jazz, score: 0.1777\n"
     ]
    }
   ],
   "source": [
    "ranker.recommend_based_on_history(sebastian, model=\"tfidf\")"
   ]
  },
  {
   "cell_type": "markdown",
   "metadata": {},
   "source": [
    "Add links handling, and the explanatory part"
   ]
  },
  {
   "cell_type": "code",
   "execution_count": 128,
   "metadata": {},
   "outputs": [
    {
     "name": "stdout",
     "output_type": "stream",
     "text": [
      "0.2361957391048741\n"
     ]
    },
    {
     "data": {
      "application/vnd.plotly.v1+json": {
       "config": {
        "displaylogo": false,
        "modeBarButtonsToRemove": [
         "sendDataToCloud",
         "lasso2d",
         "autoScale2d",
         "select2d",
         "zoom2d",
         "pan2d",
         "zoomIn2d",
         "zoomOut2d",
         "resetScale2d",
         "toggleSpikelines",
         "hoverCompareCartesian",
         "hoverClosestCartesian"
        ],
        "plotlyServerURL": "https://plot.ly",
        "staticPlot": false,
        "toImageButtonOptions": {
         "height": null,
         "width": null
        }
       },
       "data": [
        {
         "base": 0,
         "connector": {
          "line": {
           "color": "#371ea3",
           "dash": "solid",
           "width": 1
          },
          "mode": "spanning"
         },
         "decreasing": {
          "marker": {
           "color": "#f05a71"
          }
         },
         "hoverinfo": "text+delta",
         "hoverlabel": {
          "bgcolor": "rgba(0,0,0,0.8)"
         },
         "hovertext": [
          "Average response: 0.0<br>Prediction: 0.0",
          "jazz<br>increases average response by",
          "musicians<br>increases average response by",
          "in<br>increases average response by",
          "the<br>increases average response by",
          "also<br>increases average response by",
          "cotton<br>increases average response by",
          "radio<br>increases average response by",
          "given<br>increases average response by",
          "place<br>increases average response by",
          "significant<br>increases average response by",
          "+ all other factors<br>increases average response by",
          "Average response: 0.0<br>Prediction: 0.0"
         ],
         "increasing": {
          "marker": {
           "color": "#8bdcbe"
          }
         },
         "measure": [
          "relative",
          "relative",
          "relative",
          "relative",
          "relative",
          "relative",
          "relative",
          "relative",
          "relative",
          "relative",
          "relative",
          "relative",
          "total"
         ],
         "orientation": "h",
         "showlegend": false,
         "text": [
          "0.0",
          "+0.186",
          "+0.011",
          "+0.01",
          "+0.008",
          "+0.003",
          "+0.002",
          "+0.002",
          "+0.002",
          "+0.001",
          "+0.001",
          "+0.009",
          "0.0"
         ],
         "textposition": "outside",
         "totals": {
          "marker": {
           "color": "#371ea3"
          }
         },
         "type": "waterfall",
         "x": [
          0,
          0.186,
          0.011,
          0.01,
          0.008,
          0.003,
          0.002,
          0.002,
          0.002,
          0.001,
          0.001,
          0.009,
          0.236
         ],
         "xaxis": "x",
         "y": [
          "intercept",
          "jazz",
          "musicians",
          "in",
          "the",
          "also",
          "cotton",
          "radio",
          "given",
          "place",
          "significant",
          "+ all other factors",
          "prediction"
         ],
         "yaxis": "y"
        }
       ],
       "layout": {
        "annotations": [
         {
          "font": {
           "size": 16
          },
          "showarrow": false,
          "text": "Cosine similarity",
          "x": 0.5,
          "xanchor": "center",
          "xref": "paper",
          "y": 1,
          "yanchor": "bottom",
          "yref": "paper"
         },
         {
          "font": {
           "size": 16
          },
          "showarrow": false,
          "text": "contribution",
          "x": 0.5,
          "xanchor": "center",
          "xref": "paper",
          "y": 0,
          "yanchor": "top",
          "yref": "paper",
          "yshift": -30
         }
        ],
        "font": {
         "color": "#371ea3"
        },
        "height": 413,
        "margin": {
         "b": 71,
         "r": 30,
         "t": 78
        },
        "shapes": [
         {
          "line": {
           "color": "#371ea3",
           "dash": "dot",
           "width": 1.5
          },
          "type": "line",
          "x0": 0,
          "x1": 0,
          "xref": "x",
          "y0": -1,
          "y1": 13,
          "yref": "y"
         }
        ],
        "template": {
         "data": {
          "scatter": [
           {
            "type": "scatter"
           }
          ]
         }
        },
        "title": {
         "text": "Break Down",
         "x": 0.15
        },
        "xaxis": {
         "anchor": "y",
         "automargin": true,
         "domain": [
          0,
          1
         ],
         "fixedrange": true,
         "gridwidth": 2,
         "range": [
          -0.035399999999999994,
          0.2714
         ],
         "tickcolor": "white",
         "ticklen": 3,
         "ticks": "outside",
         "type": "linear",
         "zeroline": false
        },
        "yaxis": {
         "anchor": "x",
         "automargin": true,
         "autorange": "reversed",
         "domain": [
          0,
          1
         ],
         "fixedrange": true,
         "gridwidth": 2,
         "tickcolor": "white",
         "ticklen": 10,
         "ticks": "outside",
         "type": "category"
        }
       }
      }
     },
     "metadata": {},
     "output_type": "display_data"
    }
   ],
   "source": [
    "ranker.explain_similarity(\"https://en.wikipedia.org/wiki/Dutch_jazz\",\"https://en.wikipedia.org/wiki/Institute_of_Jazz_Studies\")"
   ]
  }
 ],
 "metadata": {
  "kernelspec": {
   "display_name": "Python 3.9.12 ('base')",
   "language": "python",
   "name": "python3"
  },
  "language_info": {
   "codemirror_mode": {
    "name": "ipython",
    "version": 3
   },
   "file_extension": ".py",
   "mimetype": "text/x-python",
   "name": "python",
   "nbconvert_exporter": "python",
   "pygments_lexer": "ipython3",
   "version": "3.9.12"
  },
  "orig_nbformat": 4,
  "vscode": {
   "interpreter": {
    "hash": "8c252f30e6b77a0f45cc1bbd0a26b5e9253af7ed12036af03318e246ade66513"
   }
  }
 },
 "nbformat": 4,
 "nbformat_minor": 2
}
