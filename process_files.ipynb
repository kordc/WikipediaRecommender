{
 "cells": [
  {
   "cell_type": "markdown",
   "metadata": {},
   "source": [
    "# Downloading documents from Wikipedia"
   ]
  },
  {
   "cell_type": "code",
   "execution_count": 9,
   "metadata": {},
   "outputs": [],
   "source": [
    "import requests\n",
    "import bs4\n",
    "import re\n",
    "import tqdm\n",
    "from collections import deque\n",
    "from time import sleep\n",
    "import random\n",
    "import pandas as pd\n",
    "import networkx as nx"
   ]
  },
  {
   "cell_type": "code",
   "execution_count": 10,
   "metadata": {},
   "outputs": [],
   "source": [
    "def generator(texts):\n",
    "  while len(texts) < 1500:\n",
    "    yield\n"
   ]
  },
  {
   "cell_type": "code",
   "execution_count": 11,
   "metadata": {},
   "outputs": [],
   "source": [
    "def bfs(link):\n",
    "    response = requests.get(link)\n",
    "    parsed = bs4.BeautifulSoup(response.text)\n",
    "    links = parsed.find_all(\n",
    "        'a', attrs={'href': re.compile(r'^/wiki')})  # english only\n",
    "    texts = {link: parsed}\n",
    "    q = deque()\n",
    "    for a in links:\n",
    "        q.append(\"https://en.wikipedia.org\" + a['href'])\n",
    "    for _ in (pbar := tqdm.tqdm(generator(texts))):\n",
    "        pbar.set_description(f'{len(texts)} sites already')\n",
    "        v = q.popleft()\n",
    "        response = requests.get(v)\n",
    "        if response.status_code != 200:\n",
    "            continue\n",
    "        parsed = bs4.BeautifulSoup(response.text)\n",
    "        links = parsed.find_all(\n",
    "            'a', attrs={'href': re.compile(r'^/wiki')})\n",
    "        texts[v] = parsed\n",
    "        for a in links:\n",
    "            q.append(\"https://en.wikipedia.org\" + a['href'])\n",
    "        sleep(random.random()*3)\n",
    "    return texts\n"
   ]
  },
  {
   "cell_type": "code",
   "execution_count": 12,
   "metadata": {},
   "outputs": [
    {
     "name": "stderr",
     "output_type": "stream",
     "text": [
      "1499 sites already: : 2169it [1:01:08,  1.69s/it]\n"
     ]
    }
   ],
   "source": [
    "texts = bfs('https://en.wikipedia.org/wiki/Jazz')\n"
   ]
  },
  {
   "cell_type": "code",
   "execution_count": 13,
   "metadata": {},
   "outputs": [
    {
     "data": {
      "text/html": [
       "<div>\n",
       "<style scoped>\n",
       "    .dataframe tbody tr th:only-of-type {\n",
       "        vertical-align: middle;\n",
       "    }\n",
       "\n",
       "    .dataframe tbody tr th {\n",
       "        vertical-align: top;\n",
       "    }\n",
       "\n",
       "    .dataframe thead th {\n",
       "        text-align: right;\n",
       "    }\n",
       "</style>\n",
       "<table border=\"1\" class=\"dataframe\">\n",
       "  <thead>\n",
       "    <tr style=\"text-align: right;\">\n",
       "      <th></th>\n",
       "      <th>0</th>\n",
       "    </tr>\n",
       "  </thead>\n",
       "  <tbody>\n",
       "    <tr>\n",
       "      <th>https://en.wikipedia.org/wiki/Jazz</th>\n",
       "      <td>[html, [\\n, [\\n, &lt;meta charset=\"utf-8\"/&gt;, \\n, ...</td>\n",
       "    </tr>\n",
       "    <tr>\n",
       "      <th>https://en.wikipedia.org/wiki/Wikipedia:Protection_policy#semi</th>\n",
       "      <td>[html, [\\n, [\\n, &lt;meta charset=\"utf-8\"/&gt;, \\n, ...</td>\n",
       "    </tr>\n",
       "    <tr>\n",
       "      <th>https://en.wikipedia.org/wiki/Jazz_(disambiguation)</th>\n",
       "      <td>[html, [\\n, [\\n, &lt;meta charset=\"utf-8\"/&gt;, \\n, ...</td>\n",
       "    </tr>\n",
       "    <tr>\n",
       "      <th>https://en.wikipedia.org/wiki/Blues</th>\n",
       "      <td>[html, [\\n, [\\n, &lt;meta charset=\"utf-8\"/&gt;, \\n, ...</td>\n",
       "    </tr>\n",
       "    <tr>\n",
       "      <th>https://en.wikipedia.org/wiki/Ragtime</th>\n",
       "      <td>[html, [\\n, [\\n, &lt;meta charset=\"utf-8\"/&gt;, \\n, ...</td>\n",
       "    </tr>\n",
       "  </tbody>\n",
       "</table>\n",
       "</div>"
      ],
      "text/plain": [
       "                                                                                                    0\n",
       "https://en.wikipedia.org/wiki/Jazz                  [html, [\\n, [\\n, <meta charset=\"utf-8\"/>, \\n, ...\n",
       "https://en.wikipedia.org/wiki/Wikipedia:Protect...  [html, [\\n, [\\n, <meta charset=\"utf-8\"/>, \\n, ...\n",
       "https://en.wikipedia.org/wiki/Jazz_(disambiguat...  [html, [\\n, [\\n, <meta charset=\"utf-8\"/>, \\n, ...\n",
       "https://en.wikipedia.org/wiki/Blues                 [html, [\\n, [\\n, <meta charset=\"utf-8\"/>, \\n, ...\n",
       "https://en.wikipedia.org/wiki/Ragtime               [html, [\\n, [\\n, <meta charset=\"utf-8\"/>, \\n, ..."
      ]
     },
     "execution_count": 13,
     "metadata": {},
     "output_type": "execute_result"
    }
   ],
   "source": [
    "df = pd.DataFrame([texts]).transpose()\n",
    "df.to_csv('raw_texts.csv')\n",
    "df.head()"
   ]
  },
  {
   "cell_type": "code",
   "execution_count": 14,
   "metadata": {},
   "outputs": [
    {
     "name": "stdout",
     "output_type": "stream",
     "text": [
      "1468\n"
     ]
    }
   ],
   "source": [
    "print(len(set(texts.values())))"
   ]
  },
  {
   "cell_type": "code",
   "execution_count": 19,
   "metadata": {},
   "outputs": [],
   "source": [
    "contents = [\"\".join([p.getText() for p in parsed.select('p')]) for parsed in texts.values()]"
   ]
  },
  {
   "cell_type": "code",
   "execution_count": 21,
   "metadata": {},
   "outputs": [
    {
     "name": "stdout",
     "output_type": "stream",
     "text": [
      "\n",
      "Jazz is a music genre that originated in the African-American communities of New Orleans, Louisiana\n"
     ]
    }
   ],
   "source": [
    "print(contents[0][:100])\n"
   ]
  },
  {
   "cell_type": "code",
   "execution_count": 25,
   "metadata": {},
   "outputs": [],
   "source": [
    "from nltk.stem import PorterStemmer\n",
    "from nltk.stem import LancasterStemmer\n",
    "from nltk.stem import WordNetLemmatizer\n",
    "from nltk.corpus import stopwords\n",
    "from nltk.tokenize import word_tokenize, wordpunct_tokenize\n",
    "\n",
    "from string import ascii_letters\n"
   ]
  },
  {
   "cell_type": "code",
   "execution_count": 60,
   "metadata": {},
   "outputs": [],
   "source": [
    "\n",
    "wordnet = WordNetLemmatizer()\n"
   ]
  },
  {
   "cell_type": "code",
   "execution_count": 56,
   "metadata": {},
   "outputs": [],
   "source": [
    "def custom_stemmer(string):\n",
    "    lemmatized = wordnet.lemmatize(string)\n",
    "    words = word_tokenize(lemmatized)\n",
    "    final_words = [] # can't use set to preserve order\n",
    "    for word in words:\n",
    "        if word[0] in ascii_letters:  # heuristic about non-words\n",
    "            final_words.append(word)\n",
    "    return [word for word in final_words if word not in stopwords.words('english')]\n"
   ]
  },
  {
   "cell_type": "code",
   "execution_count": 61,
   "metadata": {},
   "outputs": [],
   "source": [
    "preprocessed = [custom_stemmer(text) for text in contents]\n"
   ]
  },
  {
   "cell_type": "code",
   "execution_count": 64,
   "metadata": {},
   "outputs": [],
   "source": [
    "final = {}"
   ]
  },
  {
   "cell_type": "code",
   "execution_count": 72,
   "metadata": {},
   "outputs": [],
   "source": [
    "for key, text in zip(texts.keys(), preprocessed):\n",
    "    final[key] = \" \".join(text)"
   ]
  },
  {
   "cell_type": "code",
   "execution_count": 77,
   "metadata": {},
   "outputs": [
    {
     "data": {
      "text/html": [
       "<div>\n",
       "<style scoped>\n",
       "    .dataframe tbody tr th:only-of-type {\n",
       "        vertical-align: middle;\n",
       "    }\n",
       "\n",
       "    .dataframe tbody tr th {\n",
       "        vertical-align: top;\n",
       "    }\n",
       "\n",
       "    .dataframe thead th {\n",
       "        text-align: right;\n",
       "    }\n",
       "</style>\n",
       "<table border=\"1\" class=\"dataframe\">\n",
       "  <thead>\n",
       "    <tr style=\"text-align: right;\">\n",
       "      <th></th>\n",
       "      <th>0</th>\n",
       "    </tr>\n",
       "  </thead>\n",
       "  <tbody>\n",
       "    <tr>\n",
       "      <th>https://en.wikipedia.org/wiki/Jazz</th>\n",
       "      <td>Jazz music genre originated African-American c...</td>\n",
       "    </tr>\n",
       "    <tr>\n",
       "      <th>https://en.wikipedia.org/wiki/Wikipedia:Protection_policy#semi</th>\n",
       "      <td>In circumstances pages may need protected modi...</td>\n",
       "    </tr>\n",
       "    <tr>\n",
       "      <th>https://en.wikipedia.org/wiki/Jazz_(disambiguation)</th>\n",
       "      <td>Jazz style music subgenres Jazz may also refer</td>\n",
       "    </tr>\n",
       "    <tr>\n",
       "      <th>https://en.wikipedia.org/wiki/Blues</th>\n",
       "      <td>Blues music genre musical form originated Deep...</td>\n",
       "    </tr>\n",
       "    <tr>\n",
       "      <th>https://en.wikipedia.org/wiki/Ragtime</th>\n",
       "      <td>Ragtime also spelled rag-time rag time musical...</td>\n",
       "    </tr>\n",
       "  </tbody>\n",
       "</table>\n",
       "</div>"
      ],
      "text/plain": [
       "                                                                                                    0\n",
       "https://en.wikipedia.org/wiki/Jazz                  Jazz music genre originated African-American c...\n",
       "https://en.wikipedia.org/wiki/Wikipedia:Protect...  In circumstances pages may need protected modi...\n",
       "https://en.wikipedia.org/wiki/Jazz_(disambiguat...     Jazz style music subgenres Jazz may also refer\n",
       "https://en.wikipedia.org/wiki/Blues                 Blues music genre musical form originated Deep...\n",
       "https://en.wikipedia.org/wiki/Ragtime               Ragtime also spelled rag-time rag time musical..."
      ]
     },
     "execution_count": 77,
     "metadata": {},
     "output_type": "execute_result"
    }
   ],
   "source": [
    "df_final = pd.DataFrame(final, index=[0]).transpose()\n",
    "df_final.to_csv('preprocessed.csv')\n",
    "df_final.head()"
   ]
  },
  {
   "cell_type": "markdown",
   "metadata": {},
   "source": [
    "All files available [here](https://drive.google.com/drive/folders/1FkuFF7tCvBj8pTVDtOtFXtfSUOH7a2vw?usp=sharing), as git doesn't support so large files "
   ]
  },
  {
   "cell_type": "markdown",
   "metadata": {},
   "source": []
  }
 ],
 "metadata": {
  "kernelspec": {
   "display_name": "Python 3.9.0 64-bit",
   "language": "python",
   "name": "python3"
  },
  "language_info": {
   "codemirror_mode": {
    "name": "ipython",
    "version": 3
   },
   "file_extension": ".py",
   "mimetype": "text/x-python",
   "name": "python",
   "nbconvert_exporter": "python",
   "pygments_lexer": "ipython3",
   "version": "3.9.0"
  },
  "orig_nbformat": 4,
  "vscode": {
   "interpreter": {
    "hash": "d938c375e6e2a2b94db19e540527a5d7d80fbd1055fc33c5eeb59a5dcfa9a532"
   }
  }
 },
 "nbformat": 4,
 "nbformat_minor": 2
}
