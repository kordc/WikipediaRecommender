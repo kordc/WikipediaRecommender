{
 "cells": [
  {
   "cell_type": "markdown",
   "metadata": {},
   "source": [
    "# Downloading documents from Wikipedia"
   ]
  },
  {
   "cell_type": "code",
   "execution_count": 1,
   "metadata": {},
   "outputs": [],
   "source": [
    "import pandas as pd\n",
    "import numpy as np\n",
    "\n",
    "import matplotlib.pyplot as plt\n",
    "\n",
    "np.random.seed(0)"
   ]
  },
  {
   "cell_type": "code",
   "execution_count": 2,
   "metadata": {},
   "outputs": [],
   "source": [
    "from utils import BFSScraper, CustomStemmer, BubbleChart, Ranker\n"
   ]
  },
  {
   "cell_type": "code",
   "execution_count": 3,
   "metadata": {},
   "outputs": [
    {
     "name": "stderr",
     "output_type": "stream",
     "text": [
      "2 sites already collected: : 2it [00:05,  2.64s/it]\n"
     ]
    }
   ],
   "source": [
    "bfs_scrap = BFSScraper(n_to_visit=3)\n",
    "bfs_scrap.bfs('https://en.wikipedia.org/wiki/Jazz', 2)"
   ]
  },
  {
   "cell_type": "code",
   "execution_count": null,
   "metadata": {},
   "outputs": [],
   "source": [
    "bfs_scrap.generate_summary()"
   ]
  },
  {
   "cell_type": "code",
   "execution_count": null,
   "metadata": {},
   "outputs": [],
   "source": [
    "bfs_scrap.generate_csv()"
   ]
  },
  {
   "cell_type": "code",
   "execution_count": null,
   "metadata": {},
   "outputs": [
    {
     "data": {
      "text/html": [
       "<div>\n",
       "<style scoped>\n",
       "    .dataframe tbody tr th:only-of-type {\n",
       "        vertical-align: middle;\n",
       "    }\n",
       "\n",
       "    .dataframe tbody tr th {\n",
       "        vertical-align: top;\n",
       "    }\n",
       "\n",
       "    .dataframe thead th {\n",
       "        text-align: right;\n",
       "    }\n",
       "</style>\n",
       "<table border=\"1\" class=\"dataframe\">\n",
       "  <thead>\n",
       "    <tr style=\"text-align: right;\">\n",
       "      <th></th>\n",
       "      <th>content</th>\n",
       "      <th>num_of_links</th>\n",
       "      <th>selected_links</th>\n",
       "    </tr>\n",
       "  </thead>\n",
       "  <tbody>\n",
       "    <tr>\n",
       "      <th>https://en.wikipedia.org/wiki/Jazz</th>\n",
       "      <td>\\nJazz is a music genre that originated in the...</td>\n",
       "      <td>863</td>\n",
       "      <td>['https://en.wikipedia.org/wiki/Branford_Marsa...</td>\n",
       "    </tr>\n",
       "    <tr>\n",
       "      <th>https://en.wikipedia.org/wiki/Branford_Marsalis</th>\n",
       "      <td>Branford Marsalis (born August 26, 1960) is an...</td>\n",
       "      <td>295</td>\n",
       "      <td>['https://en.wikipedia.org/wiki/Freddie_Hubbar...</td>\n",
       "    </tr>\n",
       "  </tbody>\n",
       "</table>\n",
       "</div>"
      ],
      "text/plain": [
       "                                                                                           content  \\\n",
       "https://en.wikipedia.org/wiki/Jazz               \\nJazz is a music genre that originated in the...   \n",
       "https://en.wikipedia.org/wiki/Branford_Marsalis  Branford Marsalis (born August 26, 1960) is an...   \n",
       "\n",
       "                                                num_of_links  \\\n",
       "https://en.wikipedia.org/wiki/Jazz                       863   \n",
       "https://en.wikipedia.org/wiki/Branford_Marsalis          295   \n",
       "\n",
       "                                                                                    selected_links  \n",
       "https://en.wikipedia.org/wiki/Jazz               ['https://en.wikipedia.org/wiki/Branford_Marsa...  \n",
       "https://en.wikipedia.org/wiki/Branford_Marsalis  ['https://en.wikipedia.org/wiki/Freddie_Hubbar...  "
      ]
     },
     "execution_count": 6,
     "metadata": {},
     "output_type": "execute_result"
    }
   ],
   "source": [
    "texts = pd.read_csv('text.csv', index_col=0).T\n",
    "texts.head()"
   ]
  },
  {
   "cell_type": "code",
   "execution_count": null,
   "metadata": {},
   "outputs": [],
   "source": [
    "stemmer = CustomStemmer(texts)\n",
    "preprocessed = stemmer.process_corpus()"
   ]
  },
  {
   "cell_type": "code",
   "execution_count": null,
   "metadata": {},
   "outputs": [],
   "source": [
    "stemmer.generate_csv()"
   ]
  },
  {
   "cell_type": "markdown",
   "metadata": {},
   "source": [
    "All files available [here](https://drive.google.com/drive/folders/1FkuFF7tCvBj8pTVDtOtFXtfSUOH7a2vw?usp=sharing), as git doesn't support so large files "
   ]
  },
  {
   "cell_type": "markdown",
   "metadata": {},
   "source": [
    "## Visualization of data"
   ]
  },
  {
   "cell_type": "code",
   "execution_count": 3,
   "metadata": {},
   "outputs": [
    {
     "data": {
      "text/html": [
       "<div>\n",
       "<style scoped>\n",
       "    .dataframe tbody tr th:only-of-type {\n",
       "        vertical-align: middle;\n",
       "    }\n",
       "\n",
       "    .dataframe tbody tr th {\n",
       "        vertical-align: top;\n",
       "    }\n",
       "\n",
       "    .dataframe thead th {\n",
       "        text-align: right;\n",
       "    }\n",
       "</style>\n",
       "<table border=\"1\" class=\"dataframe\">\n",
       "  <thead>\n",
       "    <tr style=\"text-align: right;\">\n",
       "      <th></th>\n",
       "      <th>text</th>\n",
       "    </tr>\n",
       "  </thead>\n",
       "  <tbody>\n",
       "    <tr>\n",
       "      <th>https://en.wikipedia.org/wiki/Jazz</th>\n",
       "      <td>Jazz music genre originated communities New Or...</td>\n",
       "    </tr>\n",
       "    <tr>\n",
       "      <th>https://en.wikipedia.org/wiki/Branford_Marsalis</th>\n",
       "      <td>Branford Marsalis born August American saxopho...</td>\n",
       "    </tr>\n",
       "  </tbody>\n",
       "</table>\n",
       "</div>"
      ],
      "text/plain": [
       "                                                                                              text\n",
       "https://en.wikipedia.org/wiki/Jazz               Jazz music genre originated communities New Or...\n",
       "https://en.wikipedia.org/wiki/Branford_Marsalis  Branford Marsalis born August American saxopho..."
      ]
     },
     "execution_count": 3,
     "metadata": {},
     "output_type": "execute_result"
    }
   ],
   "source": [
    "data = pd.read_csv('processed.csv', index_col=0)\n",
    "data.head()"
   ]
  },
  {
   "cell_type": "code",
   "execution_count": null,
   "metadata": {},
   "outputs": [],
   "source": [
    "words = [text.split() for text in data['text']]\n",
    "words = [\n",
    "    word for document in words for word in document]\n"
   ]
  },
  {
   "cell_type": "markdown",
   "metadata": {},
   "source": [
    "Top 10 most occured words"
   ]
  },
  {
   "cell_type": "code",
   "execution_count": 11,
   "metadata": {},
   "outputs": [
    {
     "name": "stdout",
     "output_type": "stream",
     "text": [
      "jazz: 346\n",
      "music: 135\n",
      "The: 116\n",
      "In: 86\n",
      "musicians: 73\n",
      "New: 62\n",
      "Marsalis: 61\n",
      "Jazz: 49\n",
      "first: 47\n",
      "band: 41\n"
     ]
    }
   ],
   "source": [
    "from collections import Counter\n",
    "\n",
    "counter = Counter(words)\n",
    "cols = [x[0].lower() for x in counter.most_common(10)]\n",
    "for pair in counter.most_common(10):\n",
    "    print(f'{pair[0]}: {pair[1]}')"
   ]
  },
  {
   "cell_type": "code",
   "execution_count": 12,
   "metadata": {},
   "outputs": [
    {
     "data": {
      "image/png": "[encoded data removed]",
      "text/plain": [
       "<Figure size 640x480 with 1 Axes>"
      ]
     },
     "metadata": {},
     "output_type": "display_data"
    }
   ],
   "source": [
    "bubble_chart = BubbleChart(area=[x[1] for x in counter.most_common(10)],\n",
    "                           bubble_spacing=0.1)\n",
    "\n",
    "bubble_chart.collapse()\n",
    "\n",
    "fig, ax = plt.subplots(subplot_kw=dict(aspect=\"equal\"))\n",
    "colors = ['#5A69AF', '#579E65', '#F9C784', '#FC944A', '#F24C00', '#00B825',\n",
    "          '#F652A0', '#36EEE0', '#BCECE0', '#F8EA8C']\n",
    "bubble_chart.plot(\n",
    "    ax, cols, colors)\n",
    "ax.axis(\"off\")\n",
    "ax.relim()\n",
    "ax.autoscale_view()\n",
    "ax.set_title('Browser market share')\n",
    "\n",
    "plt.show()\n"
   ]
  },
  {
   "cell_type": "markdown",
   "metadata": {},
   "source": [
    "Co-occurances"
   ]
  },
  {
   "cell_type": "code",
   "execution_count": 13,
   "metadata": {},
   "outputs": [],
   "source": [
    "from sklearn.feature_extraction.text import CountVectorizer\n",
    "\n",
    "CountVec = CountVectorizer()\n",
    "CountData = CountVec.fit_transform(data['text'])\n",
    " \n",
    "wordsM = (CountData.T)@CountData"
   ]
  },
  {
   "cell_type": "code",
   "execution_count": 14,
   "metadata": {},
   "outputs": [
    {
     "data": {
      "text/html": [
       "<div>\n",
       "<style scoped>\n",
       "    .dataframe tbody tr th:only-of-type {\n",
       "        vertical-align: middle;\n",
       "    }\n",
       "\n",
       "    .dataframe tbody tr th {\n",
       "        vertical-align: top;\n",
       "    }\n",
       "\n",
       "    .dataframe thead th {\n",
       "        text-align: right;\n",
       "    }\n",
       "</style>\n",
       "<table border=\"1\" class=\"dataframe\">\n",
       "  <thead>\n",
       "    <tr style=\"text-align: right;\">\n",
       "      <th></th>\n",
       "      <th>aaron</th>\n",
       "      <th>abandoned</th>\n",
       "      <th>abandoning</th>\n",
       "      <th>abandonment</th>\n",
       "      <th>abbey</th>\n",
       "      <th>abercrombie</th>\n",
       "      <th>ability</th>\n",
       "      <th>able</th>\n",
       "      <th>abolition</th>\n",
       "      <th>abound</th>\n",
       "      <th>...</th>\n",
       "      <th>york</th>\n",
       "      <th>you</th>\n",
       "      <th>young</th>\n",
       "      <th>younger</th>\n",
       "      <th>your</th>\n",
       "      <th>youtube</th>\n",
       "      <th>zappa</th>\n",
       "      <th>zawinul</th>\n",
       "      <th>zbigniew</th>\n",
       "      <th>zorn</th>\n",
       "    </tr>\n",
       "  </thead>\n",
       "  <tbody>\n",
       "    <tr>\n",
       "      <th>aaron</th>\n",
       "      <td>1</td>\n",
       "      <td>4</td>\n",
       "      <td>3</td>\n",
       "      <td>1</td>\n",
       "      <td>1</td>\n",
       "      <td>1</td>\n",
       "      <td>2</td>\n",
       "      <td>7</td>\n",
       "      <td>1</td>\n",
       "      <td>1</td>\n",
       "      <td>...</td>\n",
       "      <td>16</td>\n",
       "      <td>1</td>\n",
       "      <td>16</td>\n",
       "      <td>6</td>\n",
       "      <td>1</td>\n",
       "      <td>1</td>\n",
       "      <td>2</td>\n",
       "      <td>3</td>\n",
       "      <td>1</td>\n",
       "      <td>1</td>\n",
       "    </tr>\n",
       "    <tr>\n",
       "      <th>abandoned</th>\n",
       "      <td>4</td>\n",
       "      <td>16</td>\n",
       "      <td>12</td>\n",
       "      <td>4</td>\n",
       "      <td>4</td>\n",
       "      <td>4</td>\n",
       "      <td>8</td>\n",
       "      <td>28</td>\n",
       "      <td>4</td>\n",
       "      <td>4</td>\n",
       "      <td>...</td>\n",
       "      <td>64</td>\n",
       "      <td>4</td>\n",
       "      <td>64</td>\n",
       "      <td>24</td>\n",
       "      <td>4</td>\n",
       "      <td>4</td>\n",
       "      <td>8</td>\n",
       "      <td>12</td>\n",
       "      <td>4</td>\n",
       "      <td>4</td>\n",
       "    </tr>\n",
       "    <tr>\n",
       "      <th>abandoning</th>\n",
       "      <td>3</td>\n",
       "      <td>12</td>\n",
       "      <td>9</td>\n",
       "      <td>3</td>\n",
       "      <td>3</td>\n",
       "      <td>3</td>\n",
       "      <td>6</td>\n",
       "      <td>21</td>\n",
       "      <td>3</td>\n",
       "      <td>3</td>\n",
       "      <td>...</td>\n",
       "      <td>48</td>\n",
       "      <td>3</td>\n",
       "      <td>48</td>\n",
       "      <td>18</td>\n",
       "      <td>3</td>\n",
       "      <td>3</td>\n",
       "      <td>6</td>\n",
       "      <td>9</td>\n",
       "      <td>3</td>\n",
       "      <td>3</td>\n",
       "    </tr>\n",
       "    <tr>\n",
       "      <th>abandonment</th>\n",
       "      <td>1</td>\n",
       "      <td>4</td>\n",
       "      <td>3</td>\n",
       "      <td>1</td>\n",
       "      <td>1</td>\n",
       "      <td>1</td>\n",
       "      <td>2</td>\n",
       "      <td>7</td>\n",
       "      <td>1</td>\n",
       "      <td>1</td>\n",
       "      <td>...</td>\n",
       "      <td>16</td>\n",
       "      <td>1</td>\n",
       "      <td>16</td>\n",
       "      <td>6</td>\n",
       "      <td>1</td>\n",
       "      <td>1</td>\n",
       "      <td>2</td>\n",
       "      <td>3</td>\n",
       "      <td>1</td>\n",
       "      <td>1</td>\n",
       "    </tr>\n",
       "    <tr>\n",
       "      <th>abbey</th>\n",
       "      <td>1</td>\n",
       "      <td>4</td>\n",
       "      <td>3</td>\n",
       "      <td>1</td>\n",
       "      <td>1</td>\n",
       "      <td>1</td>\n",
       "      <td>2</td>\n",
       "      <td>7</td>\n",
       "      <td>1</td>\n",
       "      <td>1</td>\n",
       "      <td>...</td>\n",
       "      <td>16</td>\n",
       "      <td>1</td>\n",
       "      <td>16</td>\n",
       "      <td>6</td>\n",
       "      <td>1</td>\n",
       "      <td>1</td>\n",
       "      <td>2</td>\n",
       "      <td>3</td>\n",
       "      <td>1</td>\n",
       "      <td>1</td>\n",
       "    </tr>\n",
       "    <tr>\n",
       "      <th>...</th>\n",
       "      <td>...</td>\n",
       "      <td>...</td>\n",
       "      <td>...</td>\n",
       "      <td>...</td>\n",
       "      <td>...</td>\n",
       "      <td>...</td>\n",
       "      <td>...</td>\n",
       "      <td>...</td>\n",
       "      <td>...</td>\n",
       "      <td>...</td>\n",
       "      <td>...</td>\n",
       "      <td>...</td>\n",
       "      <td>...</td>\n",
       "      <td>...</td>\n",
       "      <td>...</td>\n",
       "      <td>...</td>\n",
       "      <td>...</td>\n",
       "      <td>...</td>\n",
       "      <td>...</td>\n",
       "      <td>...</td>\n",
       "      <td>...</td>\n",
       "    </tr>\n",
       "    <tr>\n",
       "      <th>youtube</th>\n",
       "      <td>1</td>\n",
       "      <td>4</td>\n",
       "      <td>3</td>\n",
       "      <td>1</td>\n",
       "      <td>1</td>\n",
       "      <td>1</td>\n",
       "      <td>2</td>\n",
       "      <td>7</td>\n",
       "      <td>1</td>\n",
       "      <td>1</td>\n",
       "      <td>...</td>\n",
       "      <td>16</td>\n",
       "      <td>1</td>\n",
       "      <td>16</td>\n",
       "      <td>6</td>\n",
       "      <td>1</td>\n",
       "      <td>1</td>\n",
       "      <td>2</td>\n",
       "      <td>3</td>\n",
       "      <td>1</td>\n",
       "      <td>1</td>\n",
       "    </tr>\n",
       "    <tr>\n",
       "      <th>zappa</th>\n",
       "      <td>2</td>\n",
       "      <td>8</td>\n",
       "      <td>6</td>\n",
       "      <td>2</td>\n",
       "      <td>2</td>\n",
       "      <td>2</td>\n",
       "      <td>4</td>\n",
       "      <td>14</td>\n",
       "      <td>2</td>\n",
       "      <td>2</td>\n",
       "      <td>...</td>\n",
       "      <td>32</td>\n",
       "      <td>2</td>\n",
       "      <td>32</td>\n",
       "      <td>12</td>\n",
       "      <td>2</td>\n",
       "      <td>2</td>\n",
       "      <td>4</td>\n",
       "      <td>6</td>\n",
       "      <td>2</td>\n",
       "      <td>2</td>\n",
       "    </tr>\n",
       "    <tr>\n",
       "      <th>zawinul</th>\n",
       "      <td>3</td>\n",
       "      <td>12</td>\n",
       "      <td>9</td>\n",
       "      <td>3</td>\n",
       "      <td>3</td>\n",
       "      <td>3</td>\n",
       "      <td>6</td>\n",
       "      <td>21</td>\n",
       "      <td>3</td>\n",
       "      <td>3</td>\n",
       "      <td>...</td>\n",
       "      <td>48</td>\n",
       "      <td>3</td>\n",
       "      <td>48</td>\n",
       "      <td>18</td>\n",
       "      <td>3</td>\n",
       "      <td>3</td>\n",
       "      <td>6</td>\n",
       "      <td>9</td>\n",
       "      <td>3</td>\n",
       "      <td>3</td>\n",
       "    </tr>\n",
       "    <tr>\n",
       "      <th>zbigniew</th>\n",
       "      <td>1</td>\n",
       "      <td>4</td>\n",
       "      <td>3</td>\n",
       "      <td>1</td>\n",
       "      <td>1</td>\n",
       "      <td>1</td>\n",
       "      <td>2</td>\n",
       "      <td>7</td>\n",
       "      <td>1</td>\n",
       "      <td>1</td>\n",
       "      <td>...</td>\n",
       "      <td>16</td>\n",
       "      <td>1</td>\n",
       "      <td>16</td>\n",
       "      <td>6</td>\n",
       "      <td>1</td>\n",
       "      <td>1</td>\n",
       "      <td>2</td>\n",
       "      <td>3</td>\n",
       "      <td>1</td>\n",
       "      <td>1</td>\n",
       "    </tr>\n",
       "    <tr>\n",
       "      <th>zorn</th>\n",
       "      <td>1</td>\n",
       "      <td>4</td>\n",
       "      <td>3</td>\n",
       "      <td>1</td>\n",
       "      <td>1</td>\n",
       "      <td>1</td>\n",
       "      <td>2</td>\n",
       "      <td>7</td>\n",
       "      <td>1</td>\n",
       "      <td>1</td>\n",
       "      <td>...</td>\n",
       "      <td>16</td>\n",
       "      <td>1</td>\n",
       "      <td>16</td>\n",
       "      <td>6</td>\n",
       "      <td>1</td>\n",
       "      <td>1</td>\n",
       "      <td>2</td>\n",
       "      <td>3</td>\n",
       "      <td>1</td>\n",
       "      <td>1</td>\n",
       "    </tr>\n",
       "  </tbody>\n",
       "</table>\n",
       "<p>3243 rows × 3243 columns</p>\n",
       "</div>"
      ],
      "text/plain": [
       "             aaron  abandoned  abandoning  abandonment  abbey  abercrombie  \\\n",
       "aaron            1          4           3            1      1            1   \n",
       "abandoned        4         16          12            4      4            4   \n",
       "abandoning       3         12           9            3      3            3   \n",
       "abandonment      1          4           3            1      1            1   \n",
       "abbey            1          4           3            1      1            1   \n",
       "...            ...        ...         ...          ...    ...          ...   \n",
       "youtube          1          4           3            1      1            1   \n",
       "zappa            2          8           6            2      2            2   \n",
       "zawinul          3         12           9            3      3            3   \n",
       "zbigniew         1          4           3            1      1            1   \n",
       "zorn             1          4           3            1      1            1   \n",
       "\n",
       "             ability  able  abolition  abound  ...  york  you  young  younger  \\\n",
       "aaron              2     7          1       1  ...    16    1     16        6   \n",
       "abandoned          8    28          4       4  ...    64    4     64       24   \n",
       "abandoning         6    21          3       3  ...    48    3     48       18   \n",
       "abandonment        2     7          1       1  ...    16    1     16        6   \n",
       "abbey              2     7          1       1  ...    16    1     16        6   \n",
       "...              ...   ...        ...     ...  ...   ...  ...    ...      ...   \n",
       "youtube            2     7          1       1  ...    16    1     16        6   \n",
       "zappa              4    14          2       2  ...    32    2     32       12   \n",
       "zawinul            6    21          3       3  ...    48    3     48       18   \n",
       "zbigniew           2     7          1       1  ...    16    1     16        6   \n",
       "zorn               2     7          1       1  ...    16    1     16        6   \n",
       "\n",
       "             your  youtube  zappa  zawinul  zbigniew  zorn  \n",
       "aaron           1        1      2        3         1     1  \n",
       "abandoned       4        4      8       12         4     4  \n",
       "abandoning      3        3      6        9         3     3  \n",
       "abandonment     1        1      2        3         1     1  \n",
       "abbey           1        1      2        3         1     1  \n",
       "...           ...      ...    ...      ...       ...   ...  \n",
       "youtube         1        1      2        3         1     1  \n",
       "zappa           2        2      4        6         2     2  \n",
       "zawinul         3        3      6        9         3     3  \n",
       "zbigniew        1        1      2        3         1     1  \n",
       "zorn            1        1      2        3         1     1  \n",
       "\n",
       "[3243 rows x 3243 columns]"
      ]
     },
     "execution_count": 14,
     "metadata": {},
     "output_type": "execute_result"
    }
   ],
   "source": [
    "df = pd.DataFrame(wordsM.toarray(),\n",
    "                  columns=CountVec.get_feature_names_out(), index=CountVec.get_feature_names_out())\n",
    "df"
   ]
  },
  {
   "cell_type": "markdown",
   "metadata": {},
   "source": [
    "Biggest number of co-occurance"
   ]
  },
  {
   "cell_type": "code",
   "execution_count": 15,
   "metadata": {},
   "outputs": [
    {
     "name": "stdout",
     "output_type": "stream",
     "text": [
      "The most co-occurances are: music,     jazz with a value of 51325\n"
     ]
    }
   ],
   "source": [
    "a = wordsM.copy()\n",
    "for i in range(a.shape[0]):\n",
    "    a[i,i] = -1\n",
    "x, y = np.unravel_index(a.argmax(), a.shape)\n",
    "print(f'The most co-occurances are: {CountVec.get_feature_names_out()[x]},\\\n",
    "     {CountVec.get_feature_names_out()[y]} with a value of {a[x,y]}')\n"
   ]
  },
  {
   "cell_type": "code",
   "execution_count": 16,
   "metadata": {},
   "outputs": [
    {
     "name": "stderr",
     "output_type": "stream",
     "text": [
      "d:\\polibuda\\sem5\\IR\\WikipediaRecommender\\.venv\\lib\\site-packages\\nxviz\\__init__.py:18: UserWarning: \n",
      "nxviz has a new API! Version 0.7.4 onwards, the old class-based API is being\n",
      "deprecated in favour of a new API focused on advancing a grammar of network\n",
      "graphics. If your plotting code depends on the old API, please consider\n",
      "pinning nxviz at version 0.7.4, as the new API will break your old code.\n",
      "\n",
      "To check out the new API, please head over to the docs at\n",
      "https://ericmjl.github.io/nxviz/ to learn more. We hope you enjoy using it!\n",
      "\n",
      "(This deprecation message will go away in version 1.0.)\n",
      "\n",
      "  warnings.warn(\n"
     ]
    }
   ],
   "source": [
    "import networkx as nx\n",
    "from matplotlib.pyplot import figure\n",
    "import matplotlib.pyplot as plt\n",
    "\n",
    "import nxviz as nv\n",
    "from nxviz import annotate\n"
   ]
  },
  {
   "cell_type": "code",
   "execution_count": 34,
   "metadata": {},
   "outputs": [
    {
     "data": {
      "image/png": "[encoded data removed]",
      "text/plain": [
       "<Figure size 640x480 with 1 Axes>"
      ]
     },
     "metadata": {},
     "output_type": "display_data"
    }
   ],
   "source": [
    "top = df[cols].loc[cols]\n",
    "G = nx.from_numpy_array(top.values)\n",
    "mapping = {x: cols[x] for x in range(len(cols))}\n",
    "G = nx.relabel_nodes(G, mapping)\n",
    "\n",
    "for v, name in zip(G, cols):\n",
    "    G.nodes[v][\"class\"] = G.degree(v, weight=\"weight\")\n",
    "    G.nodes[v][\"name\"] = name\n",
    "\n",
    "ax = nv.circos(\n",
    "    G,\n",
    "    node_color_by=\"class\",\n",
    "    edge_alpha_by=\"weight\",\n",
    "    group_by=\"name\",\n",
    ")\n",
    "\n",
    "ax.figure.tight_layout()\n",
    "annotate.circos_labels(G, group_by=\"name\", layout=\"rotate\")\n"
   ]
  },
  {
   "cell_type": "markdown",
   "metadata": {},
   "source": [
    "## Rank"
   ]
  },
  {
   "cell_type": "code",
   "execution_count": 4,
   "metadata": {},
   "outputs": [],
   "source": [
    "ranker = Ranker(data)"
   ]
  },
  {
   "cell_type": "code",
   "execution_count": 5,
   "metadata": {},
   "outputs": [
    {
     "name": "stderr",
     "output_type": "stream",
     "text": [
      "2 sites already collected: : 2it [00:03,  1.95s/it]\n"
     ]
    }
   ],
   "source": [
    "previous = BFSScraper(n_to_visit=3)\n",
    "previous.bfs('https://en.wikipedia.org/wiki/Blues', 2)"
   ]
  },
  {
   "cell_type": "code",
   "execution_count": 6,
   "metadata": {},
   "outputs": [
    {
     "data": {
      "text/plain": [
       "{'https://en.wikipedia.org/wiki/Blues': 0.34711416872191925,\n",
       " 'https://en.wikipedia.org/wiki/Newport_Folk_Festival': 0.15612903556237884}"
      ]
     },
     "execution_count": 6,
     "metadata": {},
     "output_type": "execute_result"
    }
   ],
   "source": [
    "docs = pd.DataFrame(previous.pages).T\n",
    "ranker.rank(docs)\n"
   ]
  },
  {
   "cell_type": "code",
   "execution_count": null,
   "metadata": {},
   "outputs": [],
   "source": []
  }
 ],
 "metadata": {
  "kernelspec": {
   "display_name": "Python 3.9.0 ('.venv': poetry)",
   "language": "python",
   "name": "python3"
  },
  "language_info": {
   "codemirror_mode": {
    "name": "ipython",
    "version": 3
   },
   "file_extension": ".py",
   "mimetype": "text/x-python",
   "name": "python",
   "nbconvert_exporter": "python",
   "pygments_lexer": "ipython3",
   "version": "3.9.0"
  },
  "orig_nbformat": 4,
  "vscode": {
   "interpreter": {
    "hash": "a45b24fd2563d6dbca0e9fa6ca12fb068eb4d95c9515783f05e9042c2543b637"
   }
  }
 },
 "nbformat": 4,
 "nbformat_minor": 2
}
