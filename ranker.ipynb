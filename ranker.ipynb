{
 "cells": [
  {
   "cell_type": "code",
   "execution_count": 3,
   "metadata": {},
   "outputs": [],
   "source": [
    "%load_ext autoreload\n",
    "%autoreload 2\n",
    "\n",
    "import pandas as pd\n",
    "import numpy as np\n",
    "\n",
    "import matplotlib.pyplot as plt\n",
    "import plotly.express as px\n",
    "\n",
    "np.random.seed(0)"
   ]
  },
  {
   "cell_type": "code",
   "execution_count": 4,
   "metadata": {},
   "outputs": [],
   "source": [
    "from ranker import BFSScraper, CustomStemmer, BubbleChart, Ranker, User # Code written by us it is documented in file ranker.py"
   ]
  },
  {
   "cell_type": "markdown",
   "metadata": {},
   "source": [
    "### Downloading documents from Wikipedia\n",
    "Starting from the `Jazz` page"
   ]
  },
  {
   "cell_type": "code",
   "execution_count": 5,
   "metadata": {},
   "outputs": [
    {
     "name": "stderr",
     "output_type": "stream",
     "text": [
      "1500 sites already collected: : 1907it [55:57,  1.76s/it]\n"
     ]
    }
   ],
   "source": [
    "bfs_scrap = BFSScraper(n_to_visit=10)\n",
    "bfs_scrap.bfs('https://en.wikipedia.org/wiki/Jazz', 1500)"
   ]
  },
  {
   "cell_type": "code",
   "execution_count": 6,
   "metadata": {},
   "outputs": [],
   "source": [
    "bfs_scrap.generate_summary() # Generate summary that shows how wikipedia was traversed by scraper"
   ]
  },
  {
   "cell_type": "code",
   "execution_count": 7,
   "metadata": {},
   "outputs": [],
   "source": [
    "bfs_scrap.generate_csv() # Generate csv with scraped data"
   ]
  },
  {
   "cell_type": "markdown",
   "metadata": {},
   "source": [
    "### Preprocessing data"
   ]
  },
  {
   "cell_type": "code",
   "execution_count": 5,
   "metadata": {},
   "outputs": [
    {
     "data": {
      "text/html": [
       "<div>\n",
       "<style scoped>\n",
       "    .dataframe tbody tr th:only-of-type {\n",
       "        vertical-align: middle;\n",
       "    }\n",
       "\n",
       "    .dataframe tbody tr th {\n",
       "        vertical-align: top;\n",
       "    }\n",
       "\n",
       "    .dataframe thead th {\n",
       "        text-align: right;\n",
       "    }\n",
       "</style>\n",
       "<table border=\"1\" class=\"dataframe\">\n",
       "  <thead>\n",
       "    <tr style=\"text-align: right;\">\n",
       "      <th></th>\n",
       "      <th>content</th>\n",
       "      <th>num_of_links</th>\n",
       "      <th>selected_links</th>\n",
       "    </tr>\n",
       "  </thead>\n",
       "  <tbody>\n",
       "    <tr>\n",
       "      <th>https://en.wikipedia.org/wiki/Jazz</th>\n",
       "      <td>\\nJazz is a music genre that originated in the...</td>\n",
       "      <td>863</td>\n",
       "      <td>['https://en.wikipedia.org/wiki/Kansas_City_ja...</td>\n",
       "    </tr>\n",
       "    <tr>\n",
       "      <th>https://en.wikipedia.org/wiki/Kansas_City_jazz</th>\n",
       "      <td>Kansas City jazz is a style of jazz that devel...</td>\n",
       "      <td>236</td>\n",
       "      <td>['https://en.wikipedia.org/wiki/Ragtime', 'htt...</td>\n",
       "    </tr>\n",
       "    <tr>\n",
       "      <th>https://en.wikipedia.org/wiki/Gary_Burton</th>\n",
       "      <td>\\nGary Burton (born January 23, 1943)[1] is an...</td>\n",
       "      <td>133</td>\n",
       "      <td>['https://en.wikipedia.org/wiki/Stephane_Grapp...</td>\n",
       "    </tr>\n",
       "    <tr>\n",
       "      <th>https://en.wikipedia.org/wiki/October_Revolution_in_Jazz</th>\n",
       "      <td>The October Revolution in Jazz was a four-day ...</td>\n",
       "      <td>45</td>\n",
       "      <td>['https://en.wikipedia.org/wiki/Bill_Dixon', '...</td>\n",
       "    </tr>\n",
       "    <tr>\n",
       "      <th>https://en.wikipedia.org/wiki/Minstrel_show</th>\n",
       "      <td>\\nThe minstrel show, also called minstrelsy, w...</td>\n",
       "      <td>254</td>\n",
       "      <td>['https://en.wikipedia.org/wiki/Tall_tale', 'h...</td>\n",
       "    </tr>\n",
       "  </tbody>\n",
       "</table>\n",
       "</div>"
      ],
      "text/plain": [
       "                                                                                              content  \\\n",
       "https://en.wikipedia.org/wiki/Jazz                  \\nJazz is a music genre that originated in the...   \n",
       "https://en.wikipedia.org/wiki/Kansas_City_jazz      Kansas City jazz is a style of jazz that devel...   \n",
       "https://en.wikipedia.org/wiki/Gary_Burton           \\nGary Burton (born January 23, 1943)[1] is an...   \n",
       "https://en.wikipedia.org/wiki/October_Revolutio...  The October Revolution in Jazz was a four-day ...   \n",
       "https://en.wikipedia.org/wiki/Minstrel_show         \\nThe minstrel show, also called minstrelsy, w...   \n",
       "\n",
       "                                                   num_of_links  \\\n",
       "https://en.wikipedia.org/wiki/Jazz                          863   \n",
       "https://en.wikipedia.org/wiki/Kansas_City_jazz              236   \n",
       "https://en.wikipedia.org/wiki/Gary_Burton                   133   \n",
       "https://en.wikipedia.org/wiki/October_Revolutio...           45   \n",
       "https://en.wikipedia.org/wiki/Minstrel_show                 254   \n",
       "\n",
       "                                                                                       selected_links  \n",
       "https://en.wikipedia.org/wiki/Jazz                  ['https://en.wikipedia.org/wiki/Kansas_City_ja...  \n",
       "https://en.wikipedia.org/wiki/Kansas_City_jazz      ['https://en.wikipedia.org/wiki/Ragtime', 'htt...  \n",
       "https://en.wikipedia.org/wiki/Gary_Burton           ['https://en.wikipedia.org/wiki/Stephane_Grapp...  \n",
       "https://en.wikipedia.org/wiki/October_Revolutio...  ['https://en.wikipedia.org/wiki/Bill_Dixon', '...  \n",
       "https://en.wikipedia.org/wiki/Minstrel_show         ['https://en.wikipedia.org/wiki/Tall_tale', 'h...  "
      ]
     },
     "execution_count": 5,
     "metadata": {},
     "output_type": "execute_result"
    }
   ],
   "source": [
    "texts = pd.read_csv('text.csv', index_col=0).T\n",
    "texts.head()"
   ]
  },
  {
   "cell_type": "code",
   "execution_count": 6,
   "metadata": {},
   "outputs": [],
   "source": [
    "stemmer = CustomStemmer()\n",
    "preprocessed = stemmer.process_corpus(texts)"
   ]
  },
  {
   "cell_type": "code",
   "execution_count": 7,
   "metadata": {},
   "outputs": [],
   "source": [
    "stemmer.generate_csv(preprocessed)"
   ]
  },
  {
   "cell_type": "markdown",
   "metadata": {},
   "source": [
    "All files available [here](https://drive.google.com/drive/folders/1FkuFF7tCvBj8pTVDtOtFXtfSUOH7a2vw?usp=sharing), as git doesn't support so large files "
   ]
  },
  {
   "cell_type": "markdown",
   "metadata": {},
   "source": [
    "## Visualization of data\n",
    "\n",
    "Violing showing distribution of number of links on wikipedia pages. We can clearly see that most pages have rather small amount of links, but some have enourmous.\n",
    "\n",
    "We've additionally plotted all points so that you can hover on it and see which page has how many links."
   ]
  },
  {
   "cell_type": "code",
   "execution_count": 8,
   "metadata": {},
   "outputs": [
    {
     "data": {
      "application/vnd.plotly.v1+json": {
       "config": {
        "plotlyServerURL": "https://plot.ly"
       },
       "data": [
        {
         "alignmentgroup": "True",
         "box": {
          "visible": false
         },
         "customdata": [
          [
           "https://en.wikipedia.org/wiki/Jazz"
          ],
          [
           "https://en.wikipedia.org/wiki/Kansas_City_jazz"
          ],
          [
           "https://en.wikipedia.org/wiki/Gary_Burton"
          ],
          [
           "https://en.wikipedia.org/wiki/October_Revolution_in_Jazz"
          ],
          [
           "https://en.wikipedia.org/wiki/Minstrel_show"
          ],
          [
           "https://en.wikipedia.org/wiki/Jazz_Age"
          ],
          [
           "https://en.wikipedia.org/wiki/Mainstream_jazz"
          ],
          [
           "https://en.wikipedia.org/wiki/Jazz_poetry"
          ],
          [
           "https://en.wikipedia.org/wiki/Curtis_Lundy"
          ],
          [
           "https://en.wikipedia.org/wiki/1970s_in_jazz"
          ],
          [
           "https://en.wikipedia.org/wiki/New_Mexico_music"
          ],
          [
           "https://en.wikipedia.org/wiki/Ragtime"
          ],
          [
           "https://en.wikipedia.org/wiki/2021_in_jazz"
          ],
          [
           "https://en.wikipedia.org/wiki/List_of_bebop_musicians"
          ],
          [
           "https://en.wikipedia.org/wiki/List_of_scat_singers"
          ],
          [
           "https://en.wikipedia.org/wiki/Progressive_jazz"
          ],
          [
           "https://en.wikipedia.org/wiki/West_Coast_jazz"
          ],
          [
           "https://en.wikipedia.org/wiki/Big_Joe_Turner"
          ],
          [
           "https://en.wikipedia.org/wiki/Trumpet"
          ],
          [
           "https://en.wikipedia.org/wiki/Latin_jazz"
          ],
          [
           "https://en.wikipedia.org/wiki/List_of_jazz_fusion_musicians"
          ],
          [
           "https://en.wikipedia.org/wiki/Stephane_Grappelli"
          ],
          [
           "https://en.wikipedia.org/wiki/Fusion_jazz"
          ],
          [
           "https://en.wikipedia.org/wiki/Evelyn_Glennie"
          ],
          [
           "https://en.wikipedia.org/wiki/Seven_Songs_for_Quartet_and_Chamber_Orchestra"
          ],
          [
           "https://en.wikipedia.org/wiki/Boots_Randolph"
          ],
          [
           "https://en.wikipedia.org/wiki/Berklee_College_of_Music"
          ],
          [
           "https://en.wikipedia.org/wiki/Mitchel_Forman"
          ],
          [
           "https://en.wikipedia.org/wiki/Boston"
          ],
          [
           "https://en.wikipedia.org/wiki/Vibraphone"
          ],
          [
           "https://en.wikipedia.org/wiki/Jazz_Journalists_Association"
          ],
          [
           "https://en.wikipedia.org/wiki/Wayback_Machine"
          ],
          [
           "https://en.wikipedia.org/wiki/New_York_Contemporary_Five"
          ],
          [
           "https://en.wikipedia.org/wiki/Charles_Whittenberg"
          ],
          [
           "https://en.wikipedia.org/wiki/Free_jazz"
          ],
          [
           "https://en.wikipedia.org/wiki/Helsinki"
          ],
          [
           "https://en.wikipedia.org/wiki/Lewis_Worrell"
          ],
          [
           "https://en.wikipedia.org/wiki/Bill_Dixon"
          ],
          [
           "https://en.wikipedia.org/wiki/Association_for_the_Advancement_of_Creative_Musicians"
          ],
          [
           "https://en.wikipedia.org/wiki/Burton_Greene"
          ],
          [
           "https://en.wikipedia.org/wiki/Valdo_Williams"
          ],
          [
           "https://en.wikipedia.org/wiki/Myra_Melford"
          ],
          [
           "https://en.wikipedia.org/wiki/Tall_tale"
          ],
          [
           "https://en.wikipedia.org/wiki/G_run"
          ],
          [
           "https://en.wikipedia.org/wiki/University_Press_of_Kentucky"
          ],
          [
           "https://en.wikipedia.org/wiki/NBC"
          ],
          [
           "https://en.wikipedia.org/wiki/George_Christy"
          ],
          [
           "https://en.wikipedia.org/wiki/Tenor"
          ],
          [
           "https://en.wikipedia.org/wiki/Marjorie_Rambeau"
          ],
          [
           "https://en.wikipedia.org/wiki/Bamboozled"
          ],
          [
           "https://en.wikipedia.org/wiki/Ida_Cox"
          ],
          [
           "https://en.wikipedia.org/wiki/High_yellow"
          ],
          [
           "https://en.wikipedia.org/wiki/Primrose_and_West"
          ],
          [
           "https://en.wikipedia.org/wiki/Jazz_harmony"
          ],
          [
           "https://en.wikipedia.org/wiki/University_of_Pennsylvania_Press"
          ],
          [
           "https://en.wikipedia.org/wiki/Contradanza"
          ],
          [
           "https://en.wikipedia.org/wiki/Brass_band"
          ],
          [
           "https://en.wikipedia.org/wiki/Jump_blues"
          ],
          [
           "https://en.wikipedia.org/wiki/Hot_Five"
          ],
          [
           "https://en.wikipedia.org/wiki/Carrie_Nation"
          ],
          [
           "https://en.wikipedia.org/wiki/The_Jazz_Singer"
          ],
          [
           "https://en.wikipedia.org/wiki/The_Journal_of_Popular_Culture"
          ],
          [
           "https://en.wikipedia.org/wiki/Edmund_Wilson"
          ],
          [
           "https://en.wikipedia.org/wiki/African_Americans"
          ],
          [
           "https://en.wikipedia.org/wiki/1950s_in_jazz"
          ],
          [
           "https://en.wikipedia.org/wiki/List_of_jazz_trumpeters"
          ],
          [
           "https://en.wikipedia.org/wiki/British_dance_band"
          ],
          [
           "https://en.wikipedia.org/wiki/Cobblestone_Records"
          ],
          [
           "https://en.wikipedia.org/wiki/Continental_jazz"
          ],
          [
           "https://en.wikipedia.org/wiki/List_of_swing_musicians"
          ],
          [
           "https://en.wikipedia.org/wiki/Jazz_in_Czechoslovakia"
          ],
          [
           "https://en.wikipedia.org/wiki/List_of_jazz_trombonists"
          ],
          [
           "https://en.wikipedia.org/wiki/ECM_Records"
          ],
          [
           "https://en.wikipedia.org/wiki/Amiri_Baraka"
          ],
          [
           "https://en.wikipedia.org/wiki/List_of_jazz_contrafacts"
          ],
          [
           "https://en.wikipedia.org/wiki/Fo_Deuk_Revue"
          ],
          [
           "https://en.wikipedia.org/wiki/Organ_trio"
          ],
          [
           "https://en.wikipedia.org/wiki/Women_in_jazz"
          ],
          [
           "https://en.wikipedia.org/wiki/Hard_bop"
          ],
          [
           "https://en.wikipedia.org/wiki/List_of_jazz_guitarists"
          ],
          [
           "https://en.wikipedia.org/wiki/Saint_Lucia_Jazz_Festival"
          ],
          [
           "https://en.wikipedia.org/wiki/List_of_hard_bop_musicians"
          ],
          [
           "https://en.wikipedia.org/wiki/A_Night_in_the_Life"
          ],
          [
           "https://en.wikipedia.org/wiki/Idris_Muhammad"
          ],
          [
           "https://en.wikipedia.org/wiki/East_Side_Blues"
          ],
          [
           "https://en.wikipedia.org/wiki/Evidence_Music"
          ],
          [
           "https://en.wikipedia.org/wiki/Mark_Shim"
          ],
          [
           "https://en.wikipedia.org/wiki/Khan_Jamal"
          ],
          [
           "https://en.wikipedia.org/wiki/Chico_Freeman"
          ],
          [
           "https://en.wikipedia.org/wiki/Betty_Carter"
          ],
          [
           "https://en.wikipedia.org/wiki/Sonny_Simmons"
          ],
          [
           "https://en.wikipedia.org/wiki/Call_It_Whachawana"
          ],
          [
           "https://en.wikipedia.org/wiki/Charlie_Shavers"
          ],
          [
           "https://en.wikipedia.org/wiki/The_Topography_of_the_Lungs"
          ],
          [
           "https://en.wikipedia.org/wiki/Woody_Shaw"
          ],
          [
           "https://en.wikipedia.org/wiki/Let_My_Children_Hear_Music"
          ],
          [
           "https://en.wikipedia.org/wiki/Mainstream_Records"
          ],
          [
           "https://en.wikipedia.org/wiki/Kings_of_Mali"
          ],
          [
           "https://en.wikipedia.org/wiki/Bright_Size_Life"
          ],
          [
           "https://en.wikipedia.org/wiki/London_Jazz_Composers_Orchestra"
          ],
          [
           "https://en.wikipedia.org/wiki/Conception_Vessel"
          ],
          [
           "https://en.wikipedia.org/wiki/Lonnie_Liston_Smith"
          ],
          [
           "https://en.wikipedia.org/wiki/Bennie_Maupin"
          ],
          [
           "https://en.wikipedia.org/wiki/Paul_Gonsalves"
          ],
          [
           "https://en.wikipedia.org/wiki/Joe_Venuti"
          ],
          [
           "https://en.wikipedia.org/wiki/Lenox_Avenue_Breakdown"
          ],
          [
           "https://en.wikipedia.org/wiki/Little_Sunflower"
          ],
          [
           "https://en.wikipedia.org/wiki/1977_in_jazz"
          ],
          [
           "https://en.wikipedia.org/wiki/Wayne_Shorter"
          ],
          [
           "https://en.wikipedia.org/wiki/Ralph_Towner"
          ],
          [
           "https://en.wikipedia.org/wiki/Dewey_Redman"
          ],
          [
           "https://en.wikipedia.org/wiki/Return_to_Forever"
          ],
          [
           "https://en.wikipedia.org/wiki/Timbales"
          ],
          [
           "https://en.wikipedia.org/wiki/Music_of_South_Dakota"
          ],
          [
           "https://en.wikipedia.org/wiki/Monterey_Jazz_Festival"
          ],
          [
           "https://en.wikipedia.org/wiki/Blackfeet_music"
          ],
          [
           "https://en.wikipedia.org/wiki/American_folk_music"
          ],
          [
           "https://en.wikipedia.org/wiki/Music_of_Iowa"
          ],
          [
           "https://en.wikipedia.org/wiki/Electric_organ"
          ],
          [
           "https://en.wikipedia.org/wiki/Music_history_of_the_United_States_in_the_2000s"
          ],
          [
           "https://en.wikipedia.org/wiki/Trap_music"
          ],
          [
           "https://en.wikipedia.org/wiki/Drums"
          ],
          [
           "https://en.wikipedia.org/wiki/Canadian_fiddle"
          ],
          [
           "https://en.wikipedia.org/wiki/Creole_music"
          ],
          [
           "https://en.wikipedia.org/wiki/Ska_jazz"
          ],
          [
           "https://en.wikipedia.org/wiki/Louisiana_blues"
          ],
          [
           "https://en.wikipedia.org/wiki/Texas_blues"
          ],
          [
           "https://en.wikipedia.org/wiki/Folk_jazz"
          ],
          [
           "https://en.wikipedia.org/wiki/French_horn_in_jazz"
          ],
          [
           "https://en.wikipedia.org/wiki/1990s_in_jazz"
          ],
          [
           "https://en.wikipedia.org/wiki/Electric_blues"
          ],
          [
           "https://en.wikipedia.org/wiki/Folk_ragtime"
          ],
          [
           "https://en.wikipedia.org/wiki/The_Red_Back_Book"
          ],
          [
           "https://en.wikipedia.org/wiki/List_of_jazz_saxophonists"
          ],
          [
           "https://en.wikipedia.org/wiki/Ethno_jazz"
          ],
          [
           "https://en.wikipedia.org/wiki/Malcolm_Cecil"
          ],
          [
           "https://en.wikipedia.org/wiki/Spiritual_jazz"
          ],
          [
           "https://en.wikipedia.org/wiki/Muse_Records"
          ],
          [
           "https://en.wikipedia.org/wiki/Hammond_B3"
          ],
          [
           "https://en.wikipedia.org/wiki/1920s_in_jazz"
          ],
          [
           "https://en.wikipedia.org/wiki/Polish_jazz"
          ],
          [
           "https://en.wikipedia.org/wiki/Rolling_Stone"
          ],
          [
           "https://en.wikipedia.org/wiki/2021_in_British_music"
          ],
          [
           "https://en.wikipedia.org/wiki/TPOK_Jazz"
          ],
          [
           "https://en.wikipedia.org/wiki/Pat_Metheny"
          ],
          [
           "https://en.wikipedia.org/wiki/Max_Roach"
          ],
          [
           "https://en.wikipedia.org/wiki/List_of_vibraphonists"
          ],
          [
           "https://en.wikipedia.org/wiki/Mathias_Eick"
          ],
          [
           "https://en.wikipedia.org/wiki/Al_Jarreau"
          ],
          [
           "https://en.wikipedia.org/wiki/List_of_1920s_jazz_standards"
          ],
          [
           "https://en.wikipedia.org/wiki/Bennie_Green"
          ],
          [
           "https://en.wikipedia.org/wiki/Birth_and_Rebirth"
          ],
          [
           "https://en.wikipedia.org/wiki/Juju_Street_Songs"
          ],
          [
           "https://en.wikipedia.org/wiki/Jimmy_Rushing"
          ],
          [
           "https://en.wikipedia.org/wiki/Illusion_Suite"
          ],
          [
           "https://en.wikipedia.org/wiki/Jazz_guitar"
          ],
          [
           "https://en.wikipedia.org/wiki/Dixieland"
          ],
          [
           "https://en.wikipedia.org/wiki/Zimbabwean_jazz"
          ],
          [
           "https://en.wikipedia.org/wiki/Terry_Gibbs"
          ],
          [
           "https://en.wikipedia.org/wiki/Red_Rodney"
          ],
          [
           "https://en.wikipedia.org/wiki/Cool_jazz"
          ],
          [
           "https://en.wikipedia.org/wiki/Bud_Powell"
          ],
          [
           "https://en.wikipedia.org/wiki/DuPree_Bolton"
          ],
          [
           "https://en.wikipedia.org/wiki/European_free_jazz"
          ],
          [
           "https://en.wikipedia.org/wiki/JMT_Records"
          ],
          [
           "https://en.wikipedia.org/wiki/Dave_Matthews"
          ],
          [
           "https://en.wikipedia.org/wiki/Montreal_International_Jazz_Festival"
          ],
          [
           "https://en.wikipedia.org/wiki/Jazz_violin"
          ],
          [
           "https://en.wikipedia.org/wiki/List_of_jazz_vocalists"
          ],
          [
           "https://en.wikipedia.org/wiki/Punk_jazz"
          ],
          [
           "https://en.wikipedia.org/wiki/Micky_Dolenz"
          ],
          [
           "https://en.wikipedia.org/wiki/Blue_Note_Records_discography"
          ],
          [
           "https://en.wikipedia.org/wiki/List_of_jazz_pianists"
          ],
          [
           "https://en.wikipedia.org/wiki/Cab_Calloway"
          ],
          [
           "https://en.wikipedia.org/wiki/Nu_jazz"
          ],
          [
           "https://en.wikipedia.org/wiki/List_of_popular_music_genres"
          ],
          [
           "https://en.wikipedia.org/wiki/Progressive_house"
          ],
          [
           "https://en.wikipedia.org/wiki/Music_auteur"
          ],
          [
           "https://en.wikipedia.org/wiki/Geoffrey_Himes"
          ],
          [
           "https://en.wikipedia.org/wiki/Generation_Z"
          ],
          [
           "https://en.wikipedia.org/wiki/Tribal_house"
          ],
          [
           "https://en.wikipedia.org/wiki/The_Byrds"
          ],
          [
           "https://en.wikipedia.org/wiki/Marvin_Gaye"
          ],
          [
           "https://en.wikipedia.org/wiki/Religion_of_black_Americans"
          ],
          [
           "https://en.wikipedia.org/wiki/Acid_rock"
          ],
          [
           "https://en.wikipedia.org/wiki/Modern_classical"
          ],
          [
           "https://en.wikipedia.org/wiki/Scat_singing"
          ],
          [
           "https://en.wikipedia.org/wiki/Blue_Note_Records"
          ],
          [
           "https://en.wikipedia.org/wiki/Cape_jazz"
          ],
          [
           "https://en.wikipedia.org/wiki/Jazz_trombone"
          ],
          [
           "https://en.wikipedia.org/wiki/World_War_II"
          ],
          [
           "https://en.wikipedia.org/wiki/List_of_jazz_organists"
          ],
          [
           "https://en.wikipedia.org/wiki/GNP_Crescendo_Records"
          ],
          [
           "https://en.wikipedia.org/wiki/Dexter_Gordon"
          ],
          [
           "https://en.wikipedia.org/wiki/Jazz_royalty"
          ],
          [
           "https://en.wikipedia.org/wiki/Cornell_Gunter"
          ],
          [
           "https://en.wikipedia.org/wiki/Billie_Holiday"
          ],
          [
           "https://en.wikipedia.org/wiki/Traditional_blues_verses"
          ],
          [
           "https://en.wikipedia.org/wiki/National_Records"
          ],
          [
           "https://en.wikipedia.org/wiki/Rock_and_roll"
          ],
          [
           "https://en.wikipedia.org/wiki/The_Trumpet_Kings_Meet_Joe_Turner"
          ],
          [
           "https://en.wikipedia.org/wiki/Soundies"
          ],
          [
           "https://en.wikipedia.org/wiki/Louis_Jordan"
          ],
          [
           "https://en.wikipedia.org/wiki/Record_label"
          ],
          [
           "https://en.wikipedia.org/wiki/Bo_Diddley"
          ],
          [
           "https://en.wikipedia.org/wiki/Rhino_Records"
          ],
          [
           "https://en.wikipedia.org/wiki/Alphorn"
          ],
          [
           "https://en.wikipedia.org/wiki/Larco_Museum"
          ],
          [
           "https://en.wikipedia.org/wiki/Leadpipe"
          ],
          [
           "https://en.wikipedia.org/wiki/Tenor_horn"
          ],
          [
           "https://en.wikipedia.org/wiki/Baritone_horn"
          ],
          [
           "https://en.wikipedia.org/wiki/Alonso_Lobo"
          ],
          [
           "https://en.wikipedia.org/wiki/John_Taverner"
          ],
          [
           "https://en.wikipedia.org/wiki/Superbone"
          ],
          [
           "https://en.wikipedia.org/wiki/Valerio_Dorico"
          ],
          [
           "https://en.wikipedia.org/wiki/Luciano_Berio"
          ],
          [
           "https://en.wikipedia.org/wiki/Brian_Eno"
          ],
          [
           "https://en.wikipedia.org/wiki/Milestone_Records_discography"
          ],
          [
           "https://en.wikipedia.org/wiki/Latin_Christian_music"
          ],
          [
           "https://en.wikipedia.org/wiki/Machito"
          ],
          [
           "https://en.wikipedia.org/wiki/Tecnocumbia"
          ],
          [
           "https://en.wikipedia.org/wiki/Flamenco"
          ],
          [
           "https://en.wikipedia.org/wiki/Gary_Husband"
          ],
          [
           "https://en.wikipedia.org/wiki/Herbie_Hancock"
          ],
          [
           "https://en.wikipedia.org/wiki/Journey_Thru_an_Electric_Tube"
          ],
          [
           "https://en.wikipedia.org/wiki/Dave_Holland"
          ],
          [
           "https://en.wikipedia.org/wiki/Alex_Acuna"
          ],
          [
           "https://en.wikipedia.org/wiki/Jazz_rap"
          ],
          [
           "https://en.wikipedia.org/wiki/Jonathan_Chua"
          ],
          [
           "https://en.wikipedia.org/wiki/List_of_jazz_musicians"
          ],
          [
           "https://en.wikipedia.org/wiki/Moroccan_Roll"
          ],
          [
           "https://en.wikipedia.org/wiki/Tony_Bunn"
          ],
          [
           "https://en.wikipedia.org/wiki/John_Etheridge"
          ],
          [
           "https://en.wikipedia.org/wiki/Martial_Solal"
          ],
          [
           "https://en.wikipedia.org/wiki/George_Gershwin"
          ],
          [
           "https://en.wikipedia.org/wiki/Solfeggio"
          ],
          [
           "https://en.wikipedia.org/wiki/Daniel_Humair"
          ],
          [
           "https://en.wikipedia.org/wiki/George_Golla"
          ],
          [
           "https://en.wikipedia.org/wiki/Joseph_Reinhardt"
          ],
          [
           "https://en.wikipedia.org/wiki/Mickey_Roker"
          ],
          [
           "https://en.wikipedia.org/wiki/The_Washington_Post"
          ],
          [
           "https://en.wikipedia.org/wiki/Mel_Lewis"
          ],
          [
           "https://en.wikipedia.org/wiki/Duke_Ellington"
          ],
          [
           "https://en.wikipedia.org/wiki/Folk_rock"
          ],
          [
           "https://en.wikipedia.org/wiki/Chicano_rock"
          ],
          [
           "https://en.wikipedia.org/wiki/Birds_of_Fire"
          ],
          [
           "https://en.wikipedia.org/wiki/Spanish_jazz"
          ],
          [
           "https://en.wikipedia.org/wiki/Modal_jazz"
          ],
          [
           "https://en.wikipedia.org/wiki/Rock_music_in_Albania"
          ],
          [
           "https://en.wikipedia.org/wiki/Bibliography_of_jazz"
          ],
          [
           "https://en.wikipedia.org/wiki/Wes_Montgomery"
          ],
          [
           "https://en.wikipedia.org/wiki/Colombian_rock"
          ],
          [
           "https://en.wikipedia.org/wiki/Rahsaan_Roland_Kirk"
          ],
          [
           "https://en.wikipedia.org/wiki/Rock_music_in_Australia"
          ],
          [
           "https://en.wikipedia.org/wiki/Peter_Sellars"
          ],
          [
           "https://en.wikipedia.org/wiki/Robert_Gordon_University"
          ],
          [
           "https://en.wikipedia.org/wiki/Los_Angeles_Times"
          ],
          [
           "https://en.wikipedia.org/wiki/National_Youth_Orchestra_of_Scotland"
          ],
          [
           "https://en.wikipedia.org/wiki/Methlick"
          ],
          [
           "https://en.wikipedia.org/wiki/2012_Summer_Olympics_opening_ceremony"
          ],
          [
           "https://en.wikipedia.org/wiki/El_Sistema"
          ],
          [
           "https://en.wikipedia.org/wiki/Chuck_Berry"
          ],
          [
           "https://en.wikipedia.org/wiki/Sound_World"
          ],
          [
           "https://en.wikipedia.org/wiki/Grammy_Award_for_Best_Chamber_Music_Performance"
          ],
          [
           "https://en.wikipedia.org/wiki/Guitar"
          ],
          [
           "https://en.wikipedia.org/wiki/Getz_Au_Go_Go"
          ],
          [
           "https://en.wikipedia.org/wiki/Paris_Encounter"
          ],
          [
           "https://en.wikipedia.org/wiki/Alone_at_Last"
          ],
          [
           "https://en.wikipedia.org/wiki/After_the_Riot_at_Newport"
          ],
          [
           "https://en.wikipedia.org/wiki/Lofty_Fake_Anagram"
          ],
          [
           "https://en.wikipedia.org/wiki/Drum_kit"
          ],
          [
           "https://en.wikipedia.org/wiki/Fluid_Rustle"
          ],
          [
           "https://en.wikipedia.org/wiki/Eberhard_Weber"
          ],
          [
           "https://en.wikipedia.org/wiki/The_New_Quartet"
          ],
          [
           "https://en.wikipedia.org/wiki/Record_producer"
          ],
          [
           "https://en.wikipedia.org/wiki/Hey_Jude"
          ],
          [
           "https://en.wikipedia.org/wiki/Saxophone"
          ],
          [
           "https://en.wikipedia.org/wiki/Virgin_Books"
          ],
          [
           "https://en.wikipedia.org/wiki/Encyclopedia_of_Popular_Music"
          ],
          [
           "https://en.wikipedia.org/wiki/Down_Yonder"
          ],
          [
           "https://en.wikipedia.org/wiki/Chet_Atkins"
          ],
          [
           "https://en.wikipedia.org/wiki/Film"
          ],
          [
           "https://en.wikipedia.org/wiki/Jerry_Lee_Lewis"
          ],
          [
           "https://en.wikipedia.org/wiki/IMDb"
          ],
          [
           "https://en.wikipedia.org/wiki/Turn_On_Your_Love_Light"
          ],
          [
           "https://en.wikipedia.org/wiki/Rock_music"
          ],
          [
           "https://en.wikipedia.org/wiki/Simmons_University"
          ],
          [
           "https://en.wikipedia.org/wiki/Film_score"
          ],
          [
           "https://en.wikipedia.org/wiki/Associated_Press"
          ],
          [
           "https://en.wikipedia.org/wiki/MGH_Institute_of_Health_Professions"
          ],
          [
           "https://en.wikipedia.org/wiki/Joseph_Schillinger"
          ],
          [
           "https://en.wikipedia.org/wiki/Music_therapy"
          ],
          [
           "https://en.wikipedia.org/wiki/Latin_language"
          ],
          [
           "https://en.wikipedia.org/wiki/Lee_Eliot_Berk"
          ],
          [
           "https://en.wikipedia.org/wiki/Hip_hop_music"
          ],
          [
           "https://en.wikipedia.org/wiki/Mick_Goodrick"
          ],
          [
           "https://en.wikipedia.org/wiki/Alphonso_Johnson"
          ],
          [
           "https://en.wikipedia.org/wiki/The_Manhattan_Transfer"
          ],
          [
           "https://en.wikipedia.org/wiki/James_Senese"
          ],
          [
           "https://en.wikipedia.org/wiki/Keith_Jarrett"
          ],
          [
           "https://en.wikipedia.org/wiki/Newport_Jazz_Festival"
          ],
          [
           "https://en.wikipedia.org/wiki/Jazz_fusion"
          ],
          [
           "https://en.wikipedia.org/wiki/Sandeep_Chowta"
          ],
          [
           "https://en.wikipedia.org/wiki/John_Scofield"
          ],
          [
           "https://en.wikipedia.org/wiki/Dave_Valentin"
          ],
          [
           "https://en.wikipedia.org/wiki/Jeff_Beal"
          ],
          [
           "https://en.wikipedia.org/wiki/Massachusett_people"
          ],
          [
           "https://en.wikipedia.org/wiki/Bicycle_commuting"
          ],
          [
           "https://en.wikipedia.org/wiki/2028_Summer_Olympics"
          ],
          [
           "https://en.wikipedia.org/wiki/MBTA_Commuter_Rail"
          ],
          [
           "https://en.wikipedia.org/wiki/Newbury_Street"
          ],
          [
           "https://en.wikipedia.org/wiki/Cheers"
          ],
          [
           "https://en.wikipedia.org/wiki/Statue_of_Bill_Russell"
          ],
          [
           "https://en.wikipedia.org/wiki/Microsoft"
          ],
          [
           "https://en.wikipedia.org/wiki/Hawaii"
          ],
          [
           "https://en.wikipedia.org/wiki/Americas"
          ],
          [
           "https://en.wikipedia.org/wiki/Baltimore_metropolitan_area"
          ],
          [
           "https://en.wikipedia.org/wiki/Marching_arts"
          ],
          [
           "https://en.wikipedia.org/wiki/Exotica"
          ],
          [
           "https://en.wikipedia.org/wiki/Conga"
          ],
          [
           "https://en.wikipedia.org/wiki/Cymbals"
          ],
          [
           "https://en.wikipedia.org/wiki/Bass_drum"
          ],
          [
           "https://en.wikipedia.org/wiki/Florida_Atlantic_University"
          ],
          [
           "https://en.wikipedia.org/wiki/Classical_music"
          ],
          [
           "https://en.wikipedia.org/wiki/Julian_Lage"
          ],
          [
           "https://en.wikipedia.org/wiki/Hal_Leonard"
          ],
          [
           "https://en.wikipedia.org/wiki/Grand_Canyon_Suite"
          ],
          [
           "https://en.wikipedia.org/wiki/UNESCO"
          ],
          [
           "https://en.wikipedia.org/wiki/Smithsonian_Institution"
          ],
          [
           "https://en.wikipedia.org/wiki/Chicago"
          ],
          [
           "https://en.wikipedia.org/wiki/JazzTimes"
          ],
          [
           "https://en.wikipedia.org/wiki/Jazz_Appreciation_Month"
          ],
          [
           "https://en.wikipedia.org/wiki/Knitting_Factory"
          ],
          [
           "https://en.wikipedia.org/wiki/Jazz_Notes"
          ],
          [
           "https://en.wikipedia.org/wiki/International_Jazz_Day"
          ],
          [
           "https://en.wikipedia.org/wiki/Thelonious_Monk_Institute_of_Jazz"
          ],
          [
           "https://en.wikipedia.org/wiki/Internet_Archive"
          ],
          [
           "https://en.wikipedia.org/wiki/Digital_dark_age"
          ],
          [
           "https://en.wikipedia.org/wiki/Terabyte"
          ],
          [
           "https://en.wikipedia.org/wiki/Alexa_Internet"
          ],
          [
           "https://en.wikipedia.org/wiki/The_Daily_Beast"
          ],
          [
           "https://en.wikipedia.org/wiki/Marion_Stokes"
          ],
          [
           "https://en.wikipedia.org/wiki/Prior_art"
          ],
          [
           "https://en.wikipedia.org/wiki/Toolbar"
          ],
          [
           "https://en.wikipedia.org/wiki/Digital_forensics"
          ],
          [
           "https://en.wikipedia.org/wiki/Common_Crawl"
          ],
          [
           "https://en.wikipedia.org/wiki/David_Rumsey"
          ],
          [
           "https://en.wikipedia.org/wiki/AllMusic"
          ],
          [
           "https://en.wikipedia.org/wiki/Jazzhus_Montmartre"
          ],
          [
           "https://en.wikipedia.org/wiki/Ronnie_Boykins"
          ],
          [
           "https://en.wikipedia.org/wiki/Cecil_Taylor"
          ],
          [
           "https://en.wikipedia.org/wiki/Savoy_Records"
          ],
          [
           "https://en.wikipedia.org/wiki/Four_for_Trane"
          ],
          [
           "https://en.wikipedia.org/wiki/Ted_Curson"
          ],
          [
           "https://en.wikipedia.org/wiki/Fontana_Records"
          ],
          [
           "https://en.wikipedia.org/wiki/Sunny_Murray"
          ],
          [
           "https://en.wikipedia.org/wiki/Sonny_Rollins"
          ],
          [
           "https://en.wikipedia.org/wiki/Archie_Shepp"
          ],
          [
           "https://en.wikipedia.org/wiki/Joe_McPhee"
          ],
          [
           "https://en.wikipedia.org/wiki/Joe_Maneri"
          ],
          [
           "https://en.wikipedia.org/wiki/Columbia_Daily_Spectator"
          ],
          [
           "https://en.wikipedia.org/wiki/Marshall_Allen"
          ],
          [
           "https://en.wikipedia.org/wiki/Alan_Silva"
          ],
          [
           "https://en.wikipedia.org/wiki/Connecticut"
          ],
          [
           "https://en.wikipedia.org/wiki/University_of_Massachusetts_Amherst"
          ],
          [
           "https://en.wikipedia.org/wiki/Eastman_School_of_Music"
          ],
          [
           "https://en.wikipedia.org/wiki/New_York_City"
          ],
          [
           "https://en.wikipedia.org/wiki/Bachelor_of_Music"
          ],
          [
           "https://en.wikipedia.org/wiki/Bennington_College"
          ],
          [
           "https://en.wikipedia.org/wiki/Guggenheim_Fellowship"
          ],
          [
           "https://en.wikipedia.org/wiki/Missouri"
          ],
          [
           "https://en.wikipedia.org/wiki/Riverside_Records_discography"
          ],
          [
           "https://en.wikipedia.org/wiki/Stan_Kenton"
          ],
          [
           "https://en.wikipedia.org/wiki/Dogme_95"
          ],
          [
           "https://en.wikipedia.org/wiki/Art_Nouveau"
          ],
          [
           "https://en.wikipedia.org/wiki/Cyberpunk"
          ],
          [
           "https://en.wikipedia.org/wiki/Second_Viennese_School"
          ],
          [
           "https://en.wikipedia.org/wiki/2008_Summer_Olympics"
          ],
          [
           "https://en.wikipedia.org/wiki/List_of_busiest_cruise_ports_by_passengers"
          ],
          [
           "https://en.wikipedia.org/wiki/Finlandia_Hall"
          ],
          [
           "https://en.wikipedia.org/wiki/Irja_Agnes_Browallius"
          ],
          [
           "https://en.wikipedia.org/wiki/Sister_city"
          ],
          [
           "https://en.wikipedia.org/wiki/University_of_the_Arts_Helsinki"
          ],
          [
           "https://en.wikipedia.org/wiki/Yle_Transmission_Tower"
          ],
          [
           "https://en.wikipedia.org/wiki/Gustaf_Molander"
          ],
          [
           "https://en.wikipedia.org/wiki/Tennispalatsi"
          ],
          [
           "https://en.wikipedia.org/wiki/Flag_of_Finland"
          ],
          [
           "https://en.wikipedia.org/wiki/Helsinki_City_Marathon"
          ],
          [
           "https://en.wikipedia.org/wiki/New_York_Art_Quartet"
          ],
          [
           "https://en.wikipedia.org/wiki/Orchestra_USA"
          ],
          [
           "https://en.wikipedia.org/wiki/Roswell_Rudd"
          ],
          [
           "https://en.wikipedia.org/wiki/Double_bassist"
          ],
          [
           "https://en.wikipedia.org/wiki/Albert_Ayler"
          ],
          [
           "https://en.wikipedia.org/wiki/Archie_Shepp_Live_in_San_Francisco"
          ],
          [
           "https://en.wikipedia.org/wiki/The_New_Wave_in_Jazz"
          ],
          [
           "https://en.wikipedia.org/wiki/The_Enchanted_Messenger"
          ],
          [
           "https://en.wikipedia.org/wiki/Relativity_Suite"
          ],
          [
           "https://en.wikipedia.org/wiki/Imagine_the_Sound"
          ],
          [
           "https://en.wikipedia.org/wiki/Soul_Note_Records"
          ],
          [
           "https://en.wikipedia.org/wiki/Washington_City_Paper"
          ],
          [
           "https://en.wikipedia.org/wiki/Carla_Bley"
          ],
          [
           "https://en.wikipedia.org/wiki/Boston_University"
          ],
          [
           "https://en.wikipedia.org/wiki/BYG_Actuel"
          ],
          [
           "https://en.wikipedia.org/wiki/Nonprofit_organization"
          ],
          [
           "https://en.wikipedia.org/wiki/MacArthur_Foundation"
          ],
          [
           "https://en.wikipedia.org/wiki/Don_Moye"
          ],
          [
           "https://en.wikipedia.org/wiki/Gene_Dinwiddie"
          ],
          [
           "https://en.wikipedia.org/wiki/Rasul_Siddik"
          ],
          [
           "https://en.wikipedia.org/wiki/India_Navigation"
          ],
          [
           "https://en.wikipedia.org/wiki/Guinness_Publishing"
          ],
          [
           "https://en.wikipedia.org/wiki/Art_Ensemble_of_Chicago"
          ],
          [
           "https://en.wikipedia.org/wiki/Douglas_Ewart"
          ],
          [
           "https://en.wikipedia.org/wiki/Phil_Cohran"
          ],
          [
           "https://en.wikipedia.org/wiki/Rashied_Ali"
          ],
          [
           "https://en.wikipedia.org/wiki/Klezmer"
          ],
          [
           "https://en.wikipedia.org/wiki/John_Zorn"
          ],
          [
           "https://en.wikipedia.org/wiki/Maarten_Altena"
          ],
          [
           "https://en.wikipedia.org/wiki/Gato_Barbieri"
          ],
          [
           "https://en.wikipedia.org/wiki/Canada"
          ],
          [
           "https://en.wikipedia.org/wiki/Charlie_Parker"
          ],
          [
           "https://en.wikipedia.org/wiki/Pianist"
          ],
          [
           "https://en.wikipedia.org/wiki/Scott_Yanow"
          ],
          [
           "https://en.wikipedia.org/wiki/The_Village_Voice"
          ],
          [
           "https://en.wikipedia.org/wiki/Post_bop"
          ],
          [
           "https://en.wikipedia.org/wiki/Hal_Singer"
          ],
          [
           "https://en.wikipedia.org/wiki/Savoy"
          ],
          [
           "https://en.wikipedia.org/wiki/Erwin_Helfer"
          ],
          [
           "https://en.wikipedia.org/wiki/Zeena_Parkins"
          ],
          [
           "https://en.wikipedia.org/wiki/Ben_Goldberg"
          ],
          [
           "https://en.wikipedia.org/wiki/Hathut_Records"
          ],
          [
           "https://en.wikipedia.org/wiki/Hindustani_classical_music"
          ],
          [
           "https://en.wikipedia.org/wiki/Environmental_science"
          ],
          [
           "https://en.wikipedia.org/wiki/Ron_Miles"
          ],
          [
           "https://en.wikipedia.org/wiki/Cryptogramophone_Records"
          ],
          [
           "https://en.wikipedia.org/wiki/Fulbright_Program"
          ],
          [
           "https://en.wikipedia.org/wiki/Kenny_Wollesen"
          ],
          [
           "https://en.wikipedia.org/wiki/Yerba_Buena_Center_for_the_Arts"
          ],
          [
           "https://en.wikipedia.org/wiki/Folklore_of_the_United_States"
          ],
          [
           "https://en.wikipedia.org/wiki/Battle_of_the_Alamo"
          ],
          [
           "https://en.wikipedia.org/wiki/Average_Joe"
          ],
          [
           "https://en.wikipedia.org/wiki/Sidehill_gouger"
          ],
          [
           "https://en.wikipedia.org/wiki/Windwagon_Smith"
          ],
          [
           "https://en.wikipedia.org/wiki/Charlie_McKeahnie"
          ],
          [
           "https://en.wikipedia.org/wiki/Theodore_Roosevelt"
          ],
          [
           "https://en.wikipedia.org/wiki/Belled_buzzard"
          ],
          [
           "https://en.wikipedia.org/wiki/The_Most_Interesting_Man_in_the_World"
          ],
          [
           "https://en.wikipedia.org/wiki/Hugag"
          ],
          [
           "https://en.wikipedia.org/wiki/Banjo_guitar"
          ],
          [
           "https://en.wikipedia.org/wiki/Music"
          ],
          [
           "https://en.wikipedia.org/wiki/Banjo_ukulele"
          ],
          [
           "https://en.wikipedia.org/wiki/Major_and_minor"
          ],
          [
           "https://en.wikipedia.org/wiki/Shave_and_a_Haircut"
          ],
          [
           "https://en.wikipedia.org/wiki/Emily_Strayer"
          ],
          [
           "https://en.wikipedia.org/wiki/Rhiannon_Giddens"
          ],
          [
           "https://en.wikipedia.org/wiki/Music_theory"
          ],
          [
           "https://en.wikipedia.org/wiki/Pete_Seeger"
          ],
          [
           "https://en.wikipedia.org/wiki/University_of_Louisville"
          ],
          [
           "https://en.wikipedia.org/wiki/Consortium"
          ],
          [
           "https://en.wikipedia.org/wiki/Publisher"
          ],
          [
           "https://en.wikipedia.org/wiki/Association_of_University_Presses"
          ],
          [
           "https://en.wikipedia.org/wiki/Kentucky_State_University"
          ],
          [
           "https://en.wikipedia.org/wiki/University_of_Kentucky_Libraries"
          ],
          [
           "https://en.wikipedia.org/wiki/Bellarmine_University"
          ],
          [
           "https://en.wikipedia.org/wiki/Kentucky"
          ],
          [
           "https://en.wikipedia.org/wiki/Morehead_State_University"
          ],
          [
           "https://en.wikipedia.org/wiki/Parent_company"
          ],
          [
           "https://en.wikipedia.org/wiki/HSN"
          ],
          [
           "https://en.wikipedia.org/wiki/Channel_America"
          ],
          [
           "https://en.wikipedia.org/wiki/Gary_David_Goldberg"
          ],
          [
           "https://en.wikipedia.org/wiki/Crossing_Jordan"
          ],
          [
           "https://en.wikipedia.org/wiki/First_Nations_Experience"
          ],
          [
           "https://en.wikipedia.org/wiki/1st_Look"
          ],
          [
           "https://en.wikipedia.org/wiki/RAI"
          ],
          [
           "https://en.wikipedia.org/wiki/Norman_Lear"
          ],
          [
           "https://en.wikipedia.org/wiki/Discovery_Kids"
          ],
          [
           "https://en.wikipedia.org/wiki/NBC_Sports_Boston"
          ],
          [
           "https://en.wikipedia.org/wiki/NASCAR_on_USA"
          ],
          [
           "https://en.wikipedia.org/wiki/Blackface"
          ],
          [
           "https://en.wikipedia.org/wiki/Cerebral_edema"
          ],
          [
           "https://en.wikipedia.org/wiki/Basso_profondo"
          ],
          [
           "https://en.wikipedia.org/wiki/Baroque"
          ],
          [
           "https://en.wikipedia.org/wiki/Jacques_Offenbach"
          ],
          [
           "https://en.wikipedia.org/wiki/Francesco_Tamagno"
          ],
          [
           "https://en.wikipedia.org/wiki/Fach"
          ],
          [
           "https://en.wikipedia.org/wiki/Die_Frau_ohne_Schatten"
          ],
          [
           "https://en.wikipedia.org/wiki/High_C"
          ],
          [
           "https://en.wikipedia.org/wiki/Richard_Strauss"
          ],
          [
           "https://en.wikipedia.org/wiki/Enrico_Caruso"
          ],
          [
           "https://en.wikipedia.org/wiki/Baritone"
          ],
          [
           "https://en.wikipedia.org/wiki/Le_postillon_de_Lonjumeau"
          ],
          [
           "https://en.wikipedia.org/wiki/Sybil_Thorndike"
          ],
          [
           "https://en.wikipedia.org/wiki/Valerie_Perrine"
          ],
          [
           "https://en.wikipedia.org/wiki/Sudden_Money"
          ],
          [
           "https://en.wikipedia.org/wiki/New_Sweden"
          ],
          [
           "https://en.wikipedia.org/wiki/A_Modern_Hero"
          ],
          [
           "https://en.wikipedia.org/wiki/Kay_Walsh"
          ],
          [
           "https://en.wikipedia.org/wiki/Talia_Shire"
          ],
          [
           "https://en.wikipedia.org/wiki/James_Cagney"
          ],
          [
           "https://en.wikipedia.org/wiki/The_Easiest_Way"
          ],
          [
           "https://en.wikipedia.org/wiki/Eva_Le_Gallienne"
          ],
          [
           "https://en.wikipedia.org/wiki/CNN"
          ],
          [
           "https://en.wikipedia.org/wiki/Hip_hop"
          ],
          [
           "https://en.wikipedia.org/wiki/Girl_6"
          ],
          [
           "https://en.wikipedia.org/wiki/He_Got_Game"
          ],
          [
           "https://en.wikipedia.org/wiki/Spike_Lee"
          ],
          [
           "https://en.wikipedia.org/wiki/Cronies"
          ],
          [
           "https://en.wikipedia.org/wiki/Damon_Wayans"
          ],
          [
           "https://en.wikipedia.org/wiki/Criterion_Collection"
          ],
          [
           "https://en.wikipedia.org/wiki/Canibus"
          ],
          [
           "https://en.wikipedia.org/wiki/Riverside_Records"
          ],
          [
           "https://en.wikipedia.org/wiki/Apollo_Theater"
          ],
          [
           "https://en.wikipedia.org/wiki/Bessie_Smith"
          ],
          [
           "https://en.wikipedia.org/wiki/Red_Allen"
          ],
          [
           "https://en.wikipedia.org/wiki/Mamie_Smith"
          ],
          [
           "https://en.wikipedia.org/wiki/Lionel_Hampton"
          ],
          [
           "https://en.wikipedia.org/wiki/Blues"
          ],
          [
           "https://en.wikipedia.org/wiki/Milt_Hinton"
          ],
          [
           "https://en.wikipedia.org/wiki/Tommy_Ladnier"
          ],
          [
           "https://en.wikipedia.org/wiki/American_Civil_War"
          ],
          [
           "https://en.wikipedia.org/wiki/Wayne_State_University"
          ],
          [
           "https://en.wikipedia.org/wiki/Wilberforce_University"
          ],
          [
           "https://en.wikipedia.org/wiki/Pulitzer_Prize"
          ],
          [
           "https://en.wikipedia.org/wiki/Mississippi_John_Hurt"
          ],
          [
           "https://en.wikipedia.org/wiki/Colorism"
          ],
          [
           "https://en.wikipedia.org/wiki/Teena_Marie"
          ],
          [
           "https://en.wikipedia.org/wiki/Social_class"
          ],
          [
           "https://en.wikipedia.org/wiki/Alexandre_Dumas"
          ],
          [
           "https://en.wikipedia.org/wiki/Irving_Berlin"
          ],
          [
           "https://en.wikipedia.org/wiki/Rhythm_and_blues"
          ],
          [
           "https://en.wikipedia.org/wiki/Fox_hunting"
          ],
          [
           "https://en.wikipedia.org/wiki/Ballet"
          ],
          [
           "https://en.wikipedia.org/wiki/George_Thatcher"
          ],
          [
           "https://en.wikipedia.org/wiki/New_York_Clipper"
          ],
          [
           "https://en.wikipedia.org/wiki/Milt_Barlow"
          ],
          [
           "https://en.wikipedia.org/wiki/Low_comedy"
          ],
          [
           "https://en.wikipedia.org/wiki/Lawn_tennis"
          ],
          [
           "https://en.wikipedia.org/wiki/Orchestra"
          ],
          [
           "https://en.wikipedia.org/wiki/Jazz_improvisation"
          ],
          [
           "https://en.wikipedia.org/wiki/Landmark_Records"
          ],
          [
           "https://en.wikipedia.org/wiki/List_of_jazz_bassists"
          ],
          [
           "https://en.wikipedia.org/wiki/Secondary_dominant"
          ],
          [
           "https://en.wikipedia.org/wiki/Major_seventh_chord"
          ],
          [
           "https://en.wikipedia.org/wiki/1980s_in_jazz"
          ],
          [
           "https://en.wikipedia.org/wiki/Marabi"
          ],
          [
           "https://en.wikipedia.org/wiki/Penn_Relays"
          ],
          [
           "https://en.wikipedia.org/wiki/Statue_of_George_Whitefield"
          ],
          [
           "https://en.wikipedia.org/wiki/University_of_Pennsylvania_School_of_Engineering_and_Applied_Science"
          ],
          [
           "https://en.wikipedia.org/wiki/University_of_Pennsylvania_Campus_Historic_District"
          ],
          [
           "https://en.wikipedia.org/wiki/University_of_Pennsylvania_School_of_Design"
          ],
          [
           "https://en.wikipedia.org/wiki/New_Bolton_Center"
          ],
          [
           "https://en.wikipedia.org/wiki/Philomathean_Society"
          ],
          [
           "https://en.wikipedia.org/wiki/Fisher_Fine_Arts_Library"
          ],
          [
           "https://en.wikipedia.org/wiki/Penn_Club_of_New_York"
          ],
          [
           "https://en.wikipedia.org/wiki/Coros_de_clave"
          ],
          [
           "https://en.wikipedia.org/wiki/Reggaeton"
          ],
          [
           "https://en.wikipedia.org/wiki/Georges_Bizet"
          ],
          [
           "https://en.wikipedia.org/wiki/Son_cubano"
          ],
          [
           "https://en.wikipedia.org/wiki/Latin_pop"
          ],
          [
           "https://en.wikipedia.org/wiki/Latin_ballad"
          ],
          [
           "https://en.wikipedia.org/wiki/Huayno"
          ],
          [
           "https://en.wikipedia.org/wiki/Music_of_Saint_Kitts_and_Nevis"
          ],
          [
           "https://en.wikipedia.org/wiki/Peruvian_rock"
          ],
          [
           "https://en.wikipedia.org/wiki/Music_of_the_Virgin_Islands"
          ],
          [
           "https://en.wikipedia.org/wiki/Havana"
          ],
          [
           "https://en.wikipedia.org/wiki/Philip_Wilby"
          ],
          [
           "https://en.wikipedia.org/wiki/Hot_8_Brass_Band"
          ],
          [
           "https://en.wikipedia.org/wiki/Carnyx"
          ],
          [
           "https://en.wikipedia.org/wiki/Brass_instrument"
          ],
          [
           "https://en.wikipedia.org/wiki/Kenneth_Downie"
          ],
          [
           "https://en.wikipedia.org/wiki/Tuba"
          ],
          [
           "https://en.wikipedia.org/wiki/Grimethorpe_Colliery_Band"
          ],
          [
           "https://en.wikipedia.org/wiki/Musical_ensemble"
          ],
          [
           "https://en.wikipedia.org/wiki/Funk"
          ],
          [
           "https://en.wikipedia.org/wiki/Bugle"
          ],
          [
           "https://en.wikipedia.org/wiki/International_Staff_Band"
          ],
          [
           "https://en.wikipedia.org/wiki/List_of_blues_standards"
          ],
          [
           "https://en.wikipedia.org/wiki/Walking_bass"
          ],
          [
           "https://en.wikipedia.org/wiki/Helen_Humes"
          ],
          [
           "https://en.wikipedia.org/wiki/Blues_scale"
          ],
          [
           "https://en.wikipedia.org/wiki/Alan_Freed"
          ],
          [
           "https://en.wikipedia.org/wiki/Big_Jay_McNeely"
          ],
          [
           "https://en.wikipedia.org/wiki/Delta_blues"
          ],
          [
           "https://en.wikipedia.org/wiki/Country_blues"
          ],
          [
           "https://en.wikipedia.org/wiki/Blues_ballad"
          ],
          [
           "https://en.wikipedia.org/wiki/British_rhythm_and_blues"
          ],
          [
           "https://en.wikipedia.org/wiki/Earl_Hines"
          ],
          [
           "https://en.wikipedia.org/wiki/Rhythm"
          ],
          [
           "https://en.wikipedia.org/wiki/Basin_Street_Blues"
          ],
          [
           "https://en.wikipedia.org/wiki/Muskrat_Ramble"
          ],
          [
           "https://en.wikipedia.org/wiki/Louis_Armstrong_Hot_Five_and_Hot_Seven_Sessions"
          ],
          [
           "https://en.wikipedia.org/wiki/Paul_Barbarin"
          ],
          [
           "https://en.wikipedia.org/wiki/Tenor_saxophone"
          ],
          [
           "https://en.wikipedia.org/wiki/Recording_studio"
          ],
          [
           "https://en.wikipedia.org/wiki/Melody"
          ],
          [
           "https://en.wikipedia.org/wiki/Vocabulary"
          ],
          [
           "https://en.wikipedia.org/wiki/University_of_Central_Missouri"
          ],
          [
           "https://en.wikipedia.org/wiki/Music_hall"
          ],
          [
           "https://en.wikipedia.org/wiki/TV_series"
          ],
          [
           "https://en.wikipedia.org/wiki/Assassination_of_William_McKinley"
          ],
          [
           "https://en.wikipedia.org/wiki/Corset"
          ],
          [
           "https://en.wikipedia.org/wiki/Texas_State_Historical_Association"
          ],
          [
           "https://en.wikipedia.org/wiki/The_Brooklyn_Daily_Eagle"
          ],
          [
           "https://en.wikipedia.org/wiki/Hatchet"
          ],
          [
           "https://en.wikipedia.org/wiki/Annie_Edson_Taylor"
          ],
          [
           "https://en.wikipedia.org/wiki/National_Historic_Landmark"
          ],
          [
           "https://en.wikipedia.org/wiki/Otto_Lederer"
          ],
          [
           "https://en.wikipedia.org/wiki/Brazilian_jazz"
          ],
          [
           "https://en.wikipedia.org/wiki/The_Five_Pennies"
          ],
          [
           "https://en.wikipedia.org/wiki/The_New_York_Times"
          ],
          [
           "https://en.wikipedia.org/wiki/British_jazz"
          ],
          [
           "https://en.wikipedia.org/wiki/1st_Academy_Awards"
          ],
          [
           "https://en.wikipedia.org/wiki/Tex_Avery"
          ],
          [
           "https://en.wikipedia.org/wiki/Chris_and_His_Wonderful_Lamp"
          ],
          [
           "https://en.wikipedia.org/wiki/Photoplay"
          ],
          [
           "https://en.wikipedia.org/wiki/Red_Hot_Tires"
          ],
          [
           "https://en.wikipedia.org/wiki/Outline_of_academic_disciplines"
          ],
          [
           "https://en.wikipedia.org/wiki/MLA_International_Bibliography"
          ],
          [
           "https://en.wikipedia.org/wiki/Web_of_Science"
          ],
          [
           "https://en.wikipedia.org/wiki/Thomson_Reuters"
          ],
          [
           "https://en.wikipedia.org/wiki/Bowling_Green_State_University"
          ],
          [
           "https://en.wikipedia.org/wiki/Arts_and_Humanities_Citation_Index"
          ],
          [
           "https://en.wikipedia.org/wiki/Popular_culture"
          ],
          [
           "https://en.wikipedia.org/wiki/ProQuest_Central"
          ],
          [
           "https://en.wikipedia.org/wiki/Journal_Citation_Reports"
          ],
          [
           "https://en.wikipedia.org/wiki/United_States"
          ],
          [
           "https://en.wikipedia.org/wiki/Oxford_University_Press"
          ],
          [
           "https://en.wikipedia.org/wiki/New_Jersey_Attorney_General"
          ],
          [
           "https://en.wikipedia.org/wiki/Patriotic_Gore"
          ],
          [
           "https://en.wikipedia.org/wiki/Karl_Marx"
          ],
          [
           "https://en.wikipedia.org/wiki/Saint_Petersburg"
          ],
          [
           "https://en.wikipedia.org/wiki/Princeton_University"
          ],
          [
           "https://en.wikipedia.org/wiki/Internal_Revenue_Service"
          ],
          [
           "https://en.wikipedia.org/wiki/Edmund_Wilson_House"
          ],
          [
           "https://en.wikipedia.org/wiki/The_New_Yorker"
          ],
          [
           "https://en.wikipedia.org/wiki/Soviet_Union"
          ],
          [
           "https://en.wikipedia.org/wiki/Affluence_in_the_United_States"
          ],
          [
           "https://en.wikipedia.org/wiki/Queens"
          ],
          [
           "https://en.wikipedia.org/wiki/Black_Hispanic_and_Latino_Americans"
          ],
          [
           "https://en.wikipedia.org/wiki/Harlem_Renaissance"
          ],
          [
           "https://en.wikipedia.org/wiki/First_Great_Awakening"
          ],
          [
           "https://en.wikipedia.org/wiki/Panamanian_Americans"
          ],
          [
           "https://en.wikipedia.org/wiki/Roman_Catholic"
          ],
          [
           "https://en.wikipedia.org/wiki/Racial_inequality_in_the_United_States"
          ],
          [
           "https://en.wikipedia.org/wiki/Boycott"
          ],
          [
           "https://en.wikipedia.org/wiki/Slavic_Americans"
          ],
          [
           "https://en.wikipedia.org/wiki/Tajik_Americans"
          ],
          [
           "https://en.wikipedia.org/wiki/2000s_in_jazz"
          ],
          [
           "https://en.wikipedia.org/wiki/Timba"
          ],
          [
           "https://en.wikipedia.org/wiki/Latin_house"
          ],
          [
           "https://en.wikipedia.org/wiki/New_Chilean_cumbia"
          ],
          [
           "https://en.wikipedia.org/wiki/Boogaloo"
          ],
          [
           "https://en.wikipedia.org/wiki/Australian_jazz"
          ],
          [
           "https://en.wikipedia.org/wiki/Samba"
          ],
          [
           "https://en.wikipedia.org/wiki/Third_stream"
          ],
          [
           "https://en.wikipedia.org/wiki/Villancico"
          ],
          [
           "https://en.wikipedia.org/wiki/Straight_rhythm"
          ],
          [
           "https://en.wikipedia.org/wiki/Milt_Jackson"
          ],
          [
           "https://en.wikipedia.org/wiki/Hank_Mobley"
          ],
          [
           "https://en.wikipedia.org/wiki/Jimmy_Dorsey"
          ],
          [
           "https://en.wikipedia.org/wiki/Jordu"
          ],
          [
           "https://en.wikipedia.org/wiki/Vinicius_de_Moraes"
          ],
          [
           "https://en.wikipedia.org/wiki/Wolfgang_Puschnig"
          ],
          [
           "https://en.wikipedia.org/wiki/Earl_Zindars"
          ],
          [
           "https://en.wikipedia.org/wiki/Au_Privave"
          ],
          [
           "https://en.wikipedia.org/wiki/Freddie_Freeloader"
          ],
          [
           "https://en.wikipedia.org/wiki/Thelonious_Monk"
          ],
          [
           "https://en.wikipedia.org/wiki/Grammy_Award_for_Best_Latin_Jazz_Album"
          ],
          [
           "https://en.wikipedia.org/wiki/Trad_jazz"
          ],
          [
           "https://en.wikipedia.org/wiki/Rumba_flamenca"
          ],
          [
           "https://en.wikipedia.org/wiki/Plena"
          ],
          [
           "https://en.wikipedia.org/wiki/Venezuelan_rock"
          ],
          [
           "https://en.wikipedia.org/wiki/Bop_City"
          ],
          [
           "https://en.wikipedia.org/wiki/Pachanga"
          ],
          [
           "https://en.wikipedia.org/wiki/Trival"
          ],
          [
           "https://en.wikipedia.org/wiki/Henry_Busse"
          ],
          [
           "https://en.wikipedia.org/wiki/Fanfare_trumpet"
          ],
          [
           "https://en.wikipedia.org/wiki/Freedom_Records"
          ],
          [
           "https://en.wikipedia.org/wiki/Kid_Thomas_Valentine"
          ],
          [
           "https://en.wikipedia.org/wiki/Billy_Butterfield"
          ],
          [
           "https://en.wikipedia.org/wiki/Chamber_jazz"
          ],
          [
           "https://en.wikipedia.org/wiki/Herb_Phillips"
          ],
          [
           "https://en.wikipedia.org/wiki/Anthony_Gorruso"
          ],
          [
           "https://en.wikipedia.org/wiki/List_of_tuba_players"
          ],
          [
           "https://en.wikipedia.org/wiki/Josh_Deutsch"
          ],
          [
           "https://en.wikipedia.org/wiki/Harold_Shorty_Baker"
          ],
          [
           "https://en.wikipedia.org/wiki/Jam_session"
          ],
          [
           "https://en.wikipedia.org/wiki/Facebook"
          ],
          [
           "https://en.wikipedia.org/wiki/Isle_of_Wight_Festival"
          ],
          [
           "https://en.wikipedia.org/wiki/Glastonbury_Festival"
          ],
          [
           "https://en.wikipedia.org/wiki/Free_improvisation"
          ],
          [
           "https://en.wikipedia.org/wiki/Harry_Roy"
          ],
          [
           "https://en.wikipedia.org/wiki/British_pop_music"
          ],
          [
           "https://en.wikipedia.org/wiki/List_of_soul_jazz_musicians"
          ],
          [
           "https://en.wikipedia.org/wiki/Cedar_Walton"
          ],
          [
           "https://en.wikipedia.org/wiki/Contemporary_Records"
          ],
          [
           "https://en.wikipedia.org/wiki/Soul_jazz"
          ],
          [
           "https://en.wikipedia.org/wiki/Afrobeat"
          ],
          [
           "https://en.wikipedia.org/wiki/Jazz_standard"
          ],
          [
           "https://en.wikipedia.org/wiki/List_of_jazz_drummers"
          ],
          [
           "https://en.wikipedia.org/wiki/Steve_Kuhn_Live_in_New_York"
          ],
          [
           "https://en.wikipedia.org/wiki/Armenian_jazz"
          ],
          [
           "https://en.wikipedia.org/wiki/Sacred_jazz"
          ],
          [
           "https://en.wikipedia.org/wiki/Bebop"
          ],
          [
           "https://en.wikipedia.org/wiki/Chicago_Jazz_Festival"
          ],
          [
           "https://en.wikipedia.org/wiki/Pori_Jazz"
          ],
          [
           "https://en.wikipedia.org/wiki/Jakarta_International_Java_Jazz_Festival"
          ],
          [
           "https://en.wikipedia.org/wiki/Free_funk"
          ],
          [
           "https://en.wikipedia.org/wiki/Musical_improvisation"
          ],
          [
           "https://en.wikipedia.org/wiki/Paris_Combo"
          ],
          [
           "https://en.wikipedia.org/wiki/The_Quebe_Sisters_Band"
          ],
          [
           "https://en.wikipedia.org/wiki/Music_of_West_Africa"
          ],
          [
           "https://en.wikipedia.org/wiki/2010s_in_jazz"
          ],
          [
           "https://en.wikipedia.org/wiki/Hank_Jones"
          ],
          [
           "https://en.wikipedia.org/wiki/The_Squadronaires"
          ],
          [
           "https://en.wikipedia.org/wiki/George_Paxton"
          ],
          [
           "https://en.wikipedia.org/wiki/Chubby_Wise"
          ],
          [
           "https://en.wikipedia.org/wiki/George_Duvivier"
          ],
          [
           "https://en.wikipedia.org/wiki/Orchestral_jazz"
          ],
          [
           "https://en.wikipedia.org/wiki/Prague_Spring"
          ],
          [
           "https://en.wikipedia.org/wiki/Gypsy_jazz"
          ],
          [
           "https://en.wikipedia.org/wiki/BYG_Records"
          ],
          [
           "https://en.wikipedia.org/wiki/Rare_groove"
          ],
          [
           "https://en.wikipedia.org/wiki/List_of_smooth_jazz_musicians"
          ],
          [
           "https://en.wikipedia.org/wiki/Eugenie_Besserer"
          ],
          [
           "https://en.wikipedia.org/wiki/South_African_jazz"
          ],
          [
           "https://en.wikipedia.org/wiki/Biopics"
          ],
          [
           "https://en.wikipedia.org/wiki/Rin_Tin_Tin"
          ],
          [
           "https://en.wikipedia.org/wiki/New_York_Herald_Tribune"
          ],
          [
           "https://en.wikipedia.org/wiki/The_Cabin_in_the_Cotton"
          ],
          [
           "https://en.wikipedia.org/wiki/Krusty_the_Clown"
          ],
          [
           "https://en.wikipedia.org/wiki/Hal_Mohr"
          ],
          [
           "https://en.wikipedia.org/wiki/Swedish_jazz"
          ],
          [
           "https://en.wikipedia.org/wiki/Delfeayo_Marsalis"
          ],
          [
           "https://en.wikipedia.org/wiki/Post_horn"
          ],
          [
           "https://en.wikipedia.org/wiki/Tom_Brantley"
          ],
          [
           "https://en.wikipedia.org/wiki/Luis_Bonilla"
          ],
          [
           "https://en.wikipedia.org/wiki/Marshall_Gilkes"
          ],
          [
           "https://en.wikipedia.org/wiki/Danish_jazz"
          ],
          [
           "https://en.wikipedia.org/wiki/List_of_jazz_violinists"
          ],
          [
           "https://en.wikipedia.org/wiki/Nyele"
          ],
          [
           "https://en.wikipedia.org/wiki/Bethlehem_Records"
          ],
          [
           "https://en.wikipedia.org/wiki/Sheb_Wooley"
          ],
          [
           "https://en.wikipedia.org/wiki/List_of_jazz_percussionists"
          ],
          [
           "https://en.wikipedia.org/wiki/List_of_jazz_venues"
          ],
          [
           "https://en.wikipedia.org/wiki/Don_Byas"
          ],
          [
           "https://en.wikipedia.org/wiki/Frank_Sinatra"
          ],
          [
           "https://en.wikipedia.org/wiki/Art_Tatum"
          ],
          [
           "https://en.wikipedia.org/wiki/Louis_Armstrong"
          ],
          [
           "https://en.wikipedia.org/wiki/Evan_Parker"
          ],
          [
           "https://en.wikipedia.org/wiki/Giorgos_Seferis"
          ],
          [
           "https://en.wikipedia.org/wiki/Louis_Sclavis"
          ],
          [
           "https://en.wikipedia.org/wiki/Giovanni_Pierluigi_da_Palestrina"
          ],
          [
           "https://en.wikipedia.org/wiki/Vivendi_Games"
          ],
          [
           "https://en.wikipedia.org/wiki/Wolfgang_Amadeus_Mozart"
          ],
          [
           "https://en.wikipedia.org/wiki/Jazz_drumming"
          ],
          [
           "https://en.wikipedia.org/wiki/Animation_Magic"
          ],
          [
           "https://en.wikipedia.org/wiki/Red_Production_Company"
          ],
          [
           "https://en.wikipedia.org/wiki/Him_Mark_Lai"
          ],
          [
           "https://en.wikipedia.org/wiki/September_11th_attacks"
          ],
          [
           "https://en.wikipedia.org/wiki/Jessica_Tarahata_Hagedorn"
          ],
          [
           "https://en.wikipedia.org/wiki/Ed_Sanders"
          ],
          [
           "https://en.wikipedia.org/wiki/Municipal_Council_of_Newark"
          ],
          [
           "https://en.wikipedia.org/wiki/Maurice_Kenny"
          ],
          [
           "https://en.wikipedia.org/wiki/Black_Arts_Movement"
          ],
          [
           "https://en.wikipedia.org/wiki/American_Book_Award"
          ],
          [
           "https://en.wikipedia.org/wiki/Cherry_Muhanji"
          ],
          [
           "https://en.wikipedia.org/wiki/Emory_Elliott"
          ],
          [
           "https://en.wikipedia.org/wiki/Diane_Glancy"
          ],
          [
           "https://en.wikipedia.org/wiki/Intertextuality"
          ],
          [
           "https://en.wikipedia.org/wiki/Vocal_jazz"
          ],
          [
           "https://en.wikipedia.org/wiki/Mitchell_Parish"
          ],
          [
           "https://en.wikipedia.org/wiki/Reets_and_I"
          ],
          [
           "https://en.wikipedia.org/wiki/Biting_the_Apple"
          ],
          [
           "https://en.wikipedia.org/wiki/List_of_set_classes"
          ],
          [
           "https://en.wikipedia.org/wiki/Plagiarism"
          ],
          [
           "https://en.wikipedia.org/wiki/Dick_Oatts"
          ],
          [
           "https://en.wikipedia.org/wiki/Gerald_Marks"
          ],
          [
           "https://en.wikipedia.org/wiki/Bulgarian_jazz"
          ],
          [
           "https://en.wikipedia.org/wiki/I_Want_to_Talk_About_You"
          ],
          [
           "https://en.wikipedia.org/wiki/Now_Is_Another_Time"
          ],
          [
           "https://en.wikipedia.org/wiki/Jack_DeJohnette"
          ],
          [
           "https://en.wikipedia.org/wiki/Live_at_Brooklyn_Academy_of_Music"
          ],
          [
           "https://en.wikipedia.org/wiki/World_Saxophone_Quartet"
          ],
          [
           "https://en.wikipedia.org/wiki/Mal_Waldron"
          ],
          [
           "https://en.wikipedia.org/wiki/Waltz_Again"
          ],
          [
           "https://en.wikipedia.org/wiki/Live_at_the_Lower_Manhattan_Ocean_Club"
          ],
          [
           "https://en.wikipedia.org/wiki/Death_of_a_Sideman"
          ],
          [
           "https://en.wikipedia.org/wiki/Live_at_Sweet_Basil_Volume_1"
          ],
          [
           "https://en.wikipedia.org/wiki/Sweet_Lovely"
          ],
          [
           "https://en.wikipedia.org/wiki/Nic_Potter"
          ],
          [
           "https://en.wikipedia.org/wiki/Keyboard_amplifier"
          ],
          [
           "https://en.wikipedia.org/wiki/Pedal_keyboard"
          ],
          [
           "https://en.wikipedia.org/wiki/Leslie_speaker"
          ],
          [
           "https://en.wikipedia.org/wiki/Greg_Lake"
          ],
          [
           "https://en.wikipedia.org/wiki/Moog_synthesizer"
          ],
          [
           "https://en.wikipedia.org/wiki/Carl_Palmer"
          ],
          [
           "https://en.wikipedia.org/wiki/Women_in_Iraq"
          ],
          [
           "https://en.wikipedia.org/wiki/Women_in_India"
          ],
          [
           "https://en.wikipedia.org/wiki/Women_in_geology"
          ],
          [
           "https://en.wikipedia.org/wiki/International_Sweethearts_of_Rhythm"
          ],
          [
           "https://en.wikipedia.org/wiki/Bandleader"
          ],
          [
           "https://en.wikipedia.org/wiki/Women_in_France"
          ],
          [
           "https://en.wikipedia.org/wiki/Women_in_Islam"
          ],
          [
           "https://en.wikipedia.org/wiki/Women_in_the_Catholic_Church"
          ],
          [
           "https://en.wikipedia.org/wiki/List_of_sports"
          ],
          [
           "https://en.wikipedia.org/wiki/Horace_Silver"
          ],
          [
           "https://en.wikipedia.org/wiki/One_Night_with_Blue_Note"
          ],
          [
           "https://en.wikipedia.org/wiki/List_of_jazz_genres"
          ],
          [
           "https://en.wikipedia.org/wiki/Gospel_music"
          ],
          [
           "https://en.wikipedia.org/wiki/Kenny_Drew"
          ],
          [
           "https://en.wikipedia.org/wiki/Jymie_Merritt"
          ],
          [
           "https://en.wikipedia.org/wiki/Mark_Whitfield"
          ],
          [
           "https://en.wikipedia.org/wiki/Johnny_Smith"
          ],
          [
           "https://en.wikipedia.org/wiki/Scott_Fields"
          ],
          [
           "https://en.wikipedia.org/wiki/Hans_Reichel"
          ],
          [
           "https://en.wikipedia.org/wiki/2020_in_jazz"
          ],
          [
           "https://en.wikipedia.org/wiki/Ryo_Kawasaki"
          ],
          [
           "https://en.wikipedia.org/wiki/Flying_Dutchman_Records"
          ],
          [
           "https://en.wikipedia.org/wiki/Branford_Marsalis"
          ],
          [
           "https://en.wikipedia.org/wiki/Gerald_Albright"
          ],
          [
           "https://en.wikipedia.org/wiki/Geographic_coordinate_system"
          ],
          [
           "https://en.wikipedia.org/wiki/Swing_music"
          ],
          [
           "https://en.wikipedia.org/wiki/Tommy_Flanagan"
          ],
          [
           "https://en.wikipedia.org/wiki/Pat_Martino"
          ],
          [
           "https://en.wikipedia.org/wiki/Red_Mitchell"
          ],
          [
           "https://en.wikipedia.org/wiki/Beaches_International_Jazz_Festival"
          ],
          [
           "https://en.wikipedia.org/wiki/Alan_Dawson"
          ],
          [
           "https://en.wikipedia.org/wiki/Buster_Williams"
          ],
          [
           "https://en.wikipedia.org/wiki/Western_swing"
          ],
          [
           "https://en.wikipedia.org/wiki/Double_bass"
          ],
          [
           "https://en.wikipedia.org/wiki/Harold_Arlen"
          ],
          [
           "https://en.wikipedia.org/wiki/All_About_Jazz"
          ],
          [
           "https://en.wikipedia.org/wiki/George_Cables"
          ],
          [
           "https://en.wikipedia.org/wiki/Ned_Washington"
          ],
          [
           "https://en.wikipedia.org/wiki/Piano"
          ],
          [
           "https://en.wikipedia.org/wiki/Billy_Hart"
          ],
          [
           "https://en.wikipedia.org/wiki/Miles_Davis"
          ],
          [
           "https://en.wikipedia.org/wiki/29th_Street_Saxophone_Quartet"
          ],
          [
           "https://en.wikipedia.org/wiki/Raising_the_Standard"
          ],
          [
           "https://en.wikipedia.org/wiki/Steve_Houben"
          ],
          [
           "https://en.wikipedia.org/wiki/Jeri_Brown"
          ],
          [
           "https://en.wikipedia.org/wiki/DIW_Records"
          ],
          [
           "https://en.wikipedia.org/wiki/Mardi_Gras_in_New_Orleans"
          ],
          [
           "https://en.wikipedia.org/wiki/Beastie_Boys"
          ],
          [
           "https://en.wikipedia.org/wiki/Beat_Bobby_Flay"
          ],
          [
           "https://en.wikipedia.org/wiki/Arabic_language"
          ],
          [
           "https://en.wikipedia.org/wiki/Island_Records"
          ],
          [
           "https://en.wikipedia.org/wiki/Tisziji_Munoz"
          ],
          [
           "https://en.wikipedia.org/wiki/Benjamin_Herman"
          ],
          [
           "https://en.wikipedia.org/wiki/Reggie_Workman"
          ],
          [
           "https://en.wikipedia.org/wiki/Roy_Hargrove"
          ],
          [
           "https://en.wikipedia.org/wiki/Sam_Cooke"
          ],
          [
           "https://en.wikipedia.org/wiki/Art_Blakey"
          ],
          [
           "https://en.wikipedia.org/wiki/The_Outside_Within"
          ],
          [
           "https://en.wikipedia.org/wiki/Jay_McShann"
          ],
          [
           "https://en.wikipedia.org/wiki/Love_and_Sorrow"
          ],
          [
           "https://en.wikipedia.org/wiki/Charles_Tolliver"
          ],
          [
           "https://en.wikipedia.org/wiki/Booker_Ervin"
          ],
          [
           "https://en.wikipedia.org/wiki/Journey_to_the_One"
          ],
          [
           "https://en.wikipedia.org/wiki/Hicks_Time"
          ],
          [
           "https://en.wikipedia.org/wiki/Sweet_Love_of_Mine"
          ],
          [
           "https://en.wikipedia.org/wiki/Theresa_Records"
          ],
          [
           "https://en.wikipedia.org/wiki/Otis_Rush"
          ],
          [
           "https://en.wikipedia.org/wiki/Black_and_Blue_Records"
          ],
          [
           "https://en.wikipedia.org/wiki/Discogs"
          ],
          [
           "https://en.wikipedia.org/wiki/Nat_Adderley"
          ],
          [
           "https://en.wikipedia.org/wiki/Buddy_Guy"
          ],
          [
           "https://en.wikipedia.org/wiki/Sun_Ra"
          ],
          [
           "https://en.wikipedia.org/wiki/Hamiett_Bluiett"
          ],
          [
           "https://en.wikipedia.org/wiki/Stefon_Harris"
          ],
          [
           "https://en.wikipedia.org/wiki/Greg_Osby"
          ],
          [
           "https://en.wikipedia.org/wiki/Blue_Note"
          ],
          [
           "https://en.wikipedia.org/wiki/William_Paterson_College"
          ],
          [
           "https://en.wikipedia.org/wiki/Virginia_Commonwealth_University"
          ],
          [
           "https://en.wikipedia.org/wiki/Vijay_Iyer"
          ],
          [
           "https://en.wikipedia.org/wiki/WBGO"
          ],
          [
           "https://en.wikipedia.org/wiki/Reissue"
          ],
          [
           "https://en.wikipedia.org/wiki/Monnette_Sudler"
          ],
          [
           "https://en.wikipedia.org/wiki/Percussion_instrument"
          ],
          [
           "https://en.wikipedia.org/wiki/Pennsylvania"
          ],
          [
           "https://en.wikipedia.org/wiki/Sounds_of_Liberation"
          ],
          [
           "https://en.wikipedia.org/wiki/Ron_Wynn"
          ],
          [
           "https://en.wikipedia.org/wiki/Kidney_failure"
          ],
          [
           "https://en.wikipedia.org/wiki/Vision_Festival"
          ],
          [
           "https://en.wikipedia.org/wiki/New_School_University"
          ],
          [
           "https://en.wikipedia.org/wiki/John_Coltrane"
          ],
          [
           "https://en.wikipedia.org/wiki/Northwestern_University"
          ],
          [
           "https://en.wikipedia.org/wiki/Cecil_McBee"
          ],
          [
           "https://en.wikipedia.org/wiki/Bass_clarinet"
          ],
          [
           "https://en.wikipedia.org/wiki/Out_Here_Like_This"
          ],
          [
           "https://en.wikipedia.org/wiki/Tomasz_Stanko"
          ],
          [
           "https://en.wikipedia.org/wiki/Von_Freeman"
          ],
          [
           "https://en.wikipedia.org/wiki/Erick_Hawkins"
          ],
          [
           "https://en.wikipedia.org/wiki/Bill_Monroe"
          ],
          [
           "https://en.wikipedia.org/wiki/Barbara_Handman"
          ],
          [
           "https://en.wikipedia.org/wiki/Living_for_the_City"
          ],
          [
           "https://en.wikipedia.org/wiki/Vera_List"
          ],
          [
           "https://en.wikipedia.org/wiki/Drown_in_My_Own_Tears"
          ],
          [
           "https://en.wikipedia.org/wiki/Jazz_Number_II"
          ],
          [
           "https://en.wikipedia.org/wiki/Hume_Cronyn"
          ],
          [
           "https://en.wikipedia.org/wiki/Double_album"
          ],
          [
           "https://en.wikipedia.org/wiki/Staying_on_the_Watch"
          ],
          [
           "https://en.wikipedia.org/wiki/Qwest_Records"
          ],
          [
           "https://en.wikipedia.org/wiki/Music_from_the_Spheres"
          ],
          [
           "https://en.wikipedia.org/wiki/Marge_Records"
          ],
          [
           "https://en.wikipedia.org/wiki/Arhoolie_Records"
          ],
          [
           "https://en.wikipedia.org/wiki/Anthony_Braxton"
          ],
          [
           "https://en.wikipedia.org/wiki/Quincy_Jones"
          ],
          [
           "https://en.wikipedia.org/wiki/Eric_Dolphy"
          ],
          [
           "https://en.wikipedia.org/wiki/Return_of_the_Griffin"
          ],
          [
           "https://en.wikipedia.org/wiki/Night_Lady"
          ],
          [
           "https://en.wikipedia.org/wiki/Mulgrew_Miller"
          ],
          [
           "https://en.wikipedia.org/wiki/Galaxy_Records"
          ],
          [
           "https://en.wikipedia.org/wiki/Blues_for_Harvey"
          ],
          [
           "https://en.wikipedia.org/wiki/Birds_and_Ballads"
          ],
          [
           "https://en.wikipedia.org/wiki/Rose_Murphy"
          ],
          [
           "https://en.wikipedia.org/wiki/Midge_Williams"
          ],
          [
           "https://en.wikipedia.org/wiki/Jackie_Gleason"
          ],
          [
           "https://en.wikipedia.org/wiki/Charlie_Barnet"
          ],
          [
           "https://en.wikipedia.org/wiki/Claude_Hopkins"
          ],
          [
           "https://en.wikipedia.org/wiki/Coleman_Hawkins"
          ],
          [
           "https://en.wikipedia.org/wiki/The_Hawk_in_Hi_Fi"
          ],
          [
           "https://en.wikipedia.org/wiki/The_Driving_Louis_Bellson"
          ],
          [
           "https://en.wikipedia.org/wiki/Sarah_Vaughan"
          ],
          [
           "https://en.wikipedia.org/wiki/First_Duo_Concert"
          ],
          [
           "https://en.wikipedia.org/wiki/Improvisations_for_Cello_and_Guitar"
          ],
          [
           "https://en.wikipedia.org/wiki/Harras"
          ],
          [
           "https://en.wikipedia.org/wiki/Spontaneous_Music_Ensemble"
          ],
          [
           "https://en.wikipedia.org/wiki/Jamie_Muir"
          ],
          [
           "https://en.wikipedia.org/wiki/Allmusic"
          ],
          [
           "https://en.wikipedia.org/wiki/Soprano_saxophone"
          ],
          [
           "https://en.wikipedia.org/wiki/Paris_Jam_Session"
          ],
          [
           "https://en.wikipedia.org/wiki/Bobby_Hutcherson_Live_at_Montreux"
          ],
          [
           "https://en.wikipedia.org/wiki/Joanne_Brackeen"
          ],
          [
           "https://en.wikipedia.org/wiki/Drums_Around_the_Corner"
          ],
          [
           "https://en.wikipedia.org/wiki/Blackstone_Legacy"
          ],
          [
           "https://en.wikipedia.org/wiki/Setting_Standards"
          ],
          [
           "https://en.wikipedia.org/wiki/North_Carolina"
          ],
          [
           "https://en.wikipedia.org/wiki/The_Cool_Voice_of_Rita_Reys"
          ],
          [
           "https://en.wikipedia.org/wiki/Harmonic"
          ],
          [
           "https://en.wikipedia.org/wiki/Sam_Dockery"
          ],
          [
           "https://en.wikipedia.org/wiki/Randy_Weston"
          ],
          [
           "https://en.wikipedia.org/wiki/Richie_Powell"
          ],
          [
           "https://en.wikipedia.org/wiki/Herbie_Lewis"
          ],
          [
           "https://en.wikipedia.org/wiki/Cannonball_Adderley"
          ],
          [
           "https://en.wikipedia.org/wiki/Emily_Remler"
          ],
          [
           "https://en.wikipedia.org/wiki/Freddie_Hubbard"
          ],
          [
           "https://en.wikipedia.org/wiki/Charles_Mingus"
          ],
          [
           "https://en.wikipedia.org/wiki/Roland_Hanna"
          ],
          [
           "https://en.wikipedia.org/wiki/Mingus_Big_Band"
          ],
          [
           "https://en.wikipedia.org/wiki/Mingus_in_Europe_Volume_I"
          ],
          [
           "https://en.wikipedia.org/wiki/Album"
          ],
          [
           "https://en.wikipedia.org/wiki/Money_Jungle"
          ],
          [
           "https://en.wikipedia.org/wiki/Mingus_Moves"
          ],
          [
           "https://en.wikipedia.org/wiki/Mingus_at_Carnegie_Hall"
          ],
          [
           "https://en.wikipedia.org/wiki/Charles_Mingus_with_Orchestra"
          ],
          [
           "https://en.wikipedia.org/wiki/Just_Be_Bop"
          ],
          [
           "https://en.wikipedia.org/wiki/Woman_Talk"
          ],
          [
           "https://en.wikipedia.org/wiki/Kittie_Doswell"
          ],
          [
           "https://en.wikipedia.org/wiki/BBC_Records"
          ],
          [
           "https://en.wikipedia.org/wiki/Elmer_Bernstein"
          ],
          [
           "https://en.wikipedia.org/wiki/List_of_cool_jazz_and_West_Coast_jazz_musicians"
          ],
          [
           "https://en.wikipedia.org/wiki/Totie_Fields"
          ],
          [
           "https://en.wikipedia.org/wiki/Graffiti_Blues"
          ],
          [
           "https://en.wikipedia.org/wiki/Percussion"
          ],
          [
           "https://en.wikipedia.org/wiki/The_Rolling_Stone_Jazz_Record_Guide"
          ],
          [
           "https://en.wikipedia.org/wiki/Keita_dynasty"
          ],
          [
           "https://en.wikipedia.org/wiki/Beyond_the_Rain"
          ],
          [
           "https://en.wikipedia.org/wiki/Whistle"
          ],
          [
           "https://en.wikipedia.org/wiki/Music_genre"
          ],
          [
           "https://en.wikipedia.org/wiki/Ludwigsburg"
          ],
          [
           "https://en.wikipedia.org/wiki/The_Unity_Sessions"
          ],
          [
           "https://en.wikipedia.org/wiki/Quartet_Live"
          ],
          [
           "https://en.wikipedia.org/wiki/Pat_Metheny_Group"
          ],
          [
           "https://en.wikipedia.org/wiki/From_This_Place"
          ],
          [
           "https://en.wikipedia.org/wiki/The_Sound_of_Summer_Running"
          ],
          [
           "https://en.wikipedia.org/wiki/One_Quiet_Night"
          ],
          [
           "https://en.wikipedia.org/wiki/Imaginary_Day"
          ],
          [
           "https://en.wikipedia.org/wiki/Manfred_Eicher"
          ],
          [
           "https://en.wikipedia.org/wiki/Buxton_Orr"
          ],
          [
           "https://en.wikipedia.org/wiki/Gentlemen_Take_Polaroids"
          ],
          [
           "https://en.wikipedia.org/wiki/Contemporary_classical_music"
          ],
          [
           "https://en.wikipedia.org/wiki/Marilyn_Crispell"
          ],
          [
           "https://en.wikipedia.org/wiki/JAPO_Records"
          ],
          [
           "https://en.wikipedia.org/wiki/Early_music"
          ],
          [
           "https://en.wikipedia.org/wiki/Vade_Mecum"
          ],
          [
           "https://en.wikipedia.org/wiki/Stockhausen"
          ],
          [
           "https://en.wikipedia.org/wiki/Tony_Oxley"
          ],
          [
           "https://en.wikipedia.org/wiki/Smooth_jazz"
          ],
          [
           "https://en.wikipedia.org/wiki/On_Broadway_Volume_1"
          ],
          [
           "https://en.wikipedia.org/wiki/At_the_Village_Vanguard"
          ],
          [
           "https://en.wikipedia.org/wiki/Paul_Motian"
          ],
          [
           "https://en.wikipedia.org/wiki/Motian_in_Tokyo"
          ],
          [
           "https://en.wikipedia.org/wiki/One_Time_Out"
          ],
          [
           "https://en.wikipedia.org/wiki/I_Have_the_Room_Above_Her"
          ],
          [
           "https://en.wikipedia.org/wiki/Flight_of_the_Blue_Jay"
          ],
          [
           "https://en.wikipedia.org/wiki/Geri_Allen"
          ],
          [
           "https://en.wikipedia.org/wiki/Reflections_of_a_Golden_Dream"
          ],
          [
           "https://en.wikipedia.org/wiki/Grand_Theft_Auto_IV"
          ],
          [
           "https://en.wikipedia.org/wiki/Burning_Spirits"
          ],
          [
           "https://en.wikipedia.org/wiki/Rhodes_piano"
          ],
          [
           "https://en.wikipedia.org/wiki/YouTube"
          ],
          [
           "https://en.wikipedia.org/wiki/Astral_projection"
          ],
          [
           "https://en.wikipedia.org/wiki/Detroit"
          ],
          [
           "https://en.wikipedia.org/wiki/Dis_Is_da_Drum"
          ],
          [
           "https://en.wikipedia.org/wiki/Nothing_Records"
          ],
          [
           "https://en.wikipedia.org/wiki/The_DeJohnette_Complex"
          ],
          [
           "https://en.wikipedia.org/wiki/Marion_Brown_Quartet"
          ],
          [
           "https://en.wikipedia.org/wiki/Roy_Haynes"
          ],
          [
           "https://en.wikipedia.org/wiki/The_Headhunters"
          ],
          [
           "https://en.wikipedia.org/wiki/Meat_Beat_Manifesto"
          ],
          [
           "https://en.wikipedia.org/wiki/Live_at_the_Whitney"
          ],
          [
           "https://en.wikipedia.org/wiki/Fred_Guy"
          ],
          [
           "https://en.wikipedia.org/wiki/Day_Dream"
          ],
          [
           "https://en.wikipedia.org/wiki/Liberian_Suite"
          ],
          [
           "https://en.wikipedia.org/wiki/Latin_American_Suite"
          ],
          [
           "https://en.wikipedia.org/wiki/Kay_Davis"
          ],
          [
           "https://en.wikipedia.org/wiki/Barney_Bigard"
          ],
          [
           "https://en.wikipedia.org/wiki/C_Jam_Blues"
          ],
          [
           "https://en.wikipedia.org/wiki/Clark_Terry"
          ],
          [
           "https://en.wikipedia.org/wiki/Johnny_Coles"
          ],
          [
           "https://en.wikipedia.org/wiki/Louie_Bellson"
          ],
          [
           "https://en.wikipedia.org/wiki/1940_United_States_Census"
          ],
          [
           "https://en.wikipedia.org/wiki/Everest_Records"
          ],
          [
           "https://en.wikipedia.org/wiki/Paul_Whiteman_Orchestra"
          ],
          [
           "https://en.wikipedia.org/wiki/Columbia_Records"
          ],
          [
           "https://en.wikipedia.org/wiki/Boswell_Sisters"
          ],
          [
           "https://en.wikipedia.org/wiki/Paul_Whiteman"
          ],
          [
           "https://en.wikipedia.org/wiki/LP_album"
          ],
          [
           "https://en.wikipedia.org/wiki/Blythe_Byte"
          ],
          [
           "https://en.wikipedia.org/wiki/Guilherme_Franco"
          ],
          [
           "https://en.wikipedia.org/wiki/Flute"
          ],
          [
           "https://en.wikipedia.org/wiki/The_Grip"
          ],
          [
           "https://en.wikipedia.org/wiki/Compact_disc"
          ],
          [
           "https://en.wikipedia.org/wiki/Robert_Christgau"
          ],
          [
           "https://en.wikipedia.org/wiki/Electric_guitar"
          ],
          [
           "https://en.wikipedia.org/wiki/Liner_notes"
          ],
          [
           "https://en.wikipedia.org/wiki/Helianthella"
          ],
          [
           "https://en.wikipedia.org/wiki/Common_name"
          ],
          [
           "https://en.wikipedia.org/wiki/Helianthus_pumilus"
          ],
          [
           "https://en.wikipedia.org/wiki/Vernacular"
          ],
          [
           "https://en.wikipedia.org/wiki/Little_sunflower"
          ],
          [
           "https://en.wikipedia.org/wiki/Jane_Monheit"
          ],
          [
           "https://en.wikipedia.org/wiki/Arthur_Blythe"
          ],
          [
           "https://en.wikipedia.org/wiki/1973_in_jazz"
          ],
          [
           "https://en.wikipedia.org/wiki/Sevda_Alekbarzadeh"
          ],
          [
           "https://en.wikipedia.org/wiki/Paloma_Efron"
          ],
          [
           "https://en.wikipedia.org/wiki/1929_in_jazz"
          ],
          [
           "https://en.wikipedia.org/wiki/Vertical_Form_6"
          ],
          [
           "https://en.wikipedia.org/wiki/Mads_Berven"
          ],
          [
           "https://en.wikipedia.org/wiki/Michael_Urbaniak"
          ],
          [
           "https://en.wikipedia.org/wiki/Al_Green"
          ],
          [
           "https://en.wikipedia.org/wiki/Barbara_Hannigan"
          ],
          [
           "https://en.wikipedia.org/wiki/Peter_Gabriel"
          ],
          [
           "https://en.wikipedia.org/wiki/Bobby_Timmons"
          ],
          [
           "https://en.wikipedia.org/wiki/Cutler_Majestic_Theatre"
          ],
          [
           "https://en.wikipedia.org/wiki/Dizzy_Gillespie"
          ],
          [
           "https://en.wikipedia.org/wiki/Alphonse_Mouzon"
          ],
          [
           "https://en.wikipedia.org/wiki/Wayne_Shorter_discography"
          ],
          [
           "https://en.wikipedia.org/wiki/Kennedy_Center_Honors"
          ],
          [
           "https://en.wikipedia.org/wiki/Javon_Jackson"
          ],
          [
           "https://en.wikipedia.org/wiki/Synthesizer"
          ],
          [
           "https://en.wikipedia.org/wiki/Jerry_Granelli"
          ],
          [
           "https://en.wikipedia.org/wiki/Gerri_Granger"
          ],
          [
           "https://en.wikipedia.org/wiki/Pino_Daniele"
          ],
          [
           "https://en.wikipedia.org/wiki/Paolo_Fresu"
          ],
          [
           "https://en.wikipedia.org/wiki/Homer_Keller"
          ],
          [
           "https://en.wikipedia.org/wiki/Terry_Plumeri"
          ],
          [
           "https://en.wikipedia.org/wiki/The_Sydney_Morning_Herald"
          ],
          [
           "https://en.wikipedia.org/wiki/Leonard_Feather"
          ],
          [
           "https://en.wikipedia.org/wiki/Alto_saxophone"
          ],
          [
           "https://en.wikipedia.org/wiki/A_Tribute_to_Blackwell"
          ],
          [
           "https://en.wikipedia.org/wiki/The_Ballad_of_the_Fallen"
          ],
          [
           "https://en.wikipedia.org/wiki/Live_in_Paris_1971"
          ],
          [
           "https://en.wikipedia.org/wiki/Fort_Yawuh"
          ],
          [
           "https://en.wikipedia.org/wiki/Monk_in_Motian"
          ],
          [
           "https://en.wikipedia.org/wiki/Joshua_Redman"
          ],
          [
           "https://en.wikipedia.org/wiki/Jane_Bunnett"
          ],
          [
           "https://en.wikipedia.org/wiki/Ed_Blackwell"
          ],
          [
           "https://en.wikipedia.org/wiki/Zappa_Plays_Zappa"
          ],
          [
           "https://en.wikipedia.org/wiki/Onondaga_Community_College"
          ],
          [
           "https://en.wikipedia.org/wiki/Earl_Klugh"
          ],
          [
           "https://en.wikipedia.org/wiki/Keyboard_instrument"
          ],
          [
           "https://en.wikipedia.org/wiki/Polydor"
          ],
          [
           "https://en.wikipedia.org/wiki/Chick_Corea"
          ],
          [
           "https://en.wikipedia.org/wiki/Mahavishnu_Orchestra"
          ],
          [
           "https://en.wikipedia.org/wiki/Classification_of_percussion_instruments"
          ],
          [
           "https://en.wikipedia.org/wiki/Percussion_ensemble"
          ],
          [
           "https://en.wikipedia.org/wiki/Songo_groups"
          ],
          [
           "https://en.wikipedia.org/wiki/Handpan"
          ],
          [
           "https://en.wikipedia.org/wiki/List_of_drum_manufacturers"
          ],
          [
           "https://en.wikipedia.org/wiki/John_Dolmayan"
          ],
          [
           "https://en.wikipedia.org/wiki/List_of_vibraphone_manufacturers"
          ],
          [
           "https://en.wikipedia.org/wiki/Pitched_percussion_instrument"
          ],
          [
           "https://en.wikipedia.org/wiki/Nicky_Marrero"
          ],
          [
           "https://en.wikipedia.org/wiki/List_of_colleges_and_universities_in_South_Dakota"
          ],
          [
           "https://en.wikipedia.org/wiki/Roy_Rogers"
          ],
          [
           "https://en.wikipedia.org/wiki/Music_of_Virginia"
          ],
          [
           "https://en.wikipedia.org/wiki/Music_of_North_Carolina"
          ],
          [
           "https://en.wikipedia.org/wiki/Music_of_Minnesota"
          ],
          [
           "https://en.wikipedia.org/wiki/Shawn_Colvin"
          ],
          [
           "https://en.wikipedia.org/wiki/Siouxland"
          ],
          [
           "https://en.wikipedia.org/wiki/Music_of_Maryland"
          ],
          [
           "https://en.wikipedia.org/wiki/Music_of_Kansas"
          ],
          [
           "https://en.wikipedia.org/wiki/Music_of_Nebraska"
          ],
          [
           "https://en.wikipedia.org/wiki/Monterey_Motorsports_Reunion"
          ],
          [
           "https://en.wikipedia.org/wiki/George_Coleman"
          ],
          [
           "https://en.wikipedia.org/wiki/Jazz_band"
          ],
          [
           "https://en.wikipedia.org/wiki/James_Cotton"
          ],
          [
           "https://en.wikipedia.org/wiki/Irma_Thomas"
          ],
          [
           "https://en.wikipedia.org/wiki/The_Roots"
          ],
          [
           "https://en.wikipedia.org/wiki/Marcia_Ball"
          ],
          [
           "https://en.wikipedia.org/wiki/Perfect_fourth"
          ],
          [
           "https://en.wikipedia.org/wiki/Accompaniment"
          ],
          [
           "https://en.wikipedia.org/wiki/Stanza"
          ],
          [
           "https://en.wikipedia.org/wiki/Kainai_Nation"
          ],
          [
           "https://en.wikipedia.org/wiki/Tessitura"
          ],
          [
           "https://en.wikipedia.org/wiki/Experimental_music"
          ],
          [
           "https://en.wikipedia.org/wiki/Yuman_music"
          ],
          [
           "https://en.wikipedia.org/wiki/Navajo_music"
          ],
          [
           "https://en.wikipedia.org/wiki/Lament"
          ],
          [
           "https://en.wikipedia.org/wiki/Clapper_stick"
          ],
          [
           "https://en.wikipedia.org/wiki/George_Bird_Grinnell"
          ],
          [
           "https://en.wikipedia.org/wiki/Folk_punk"
          ],
          [
           "https://en.wikipedia.org/wiki/Manila_sound"
          ],
          [
           "https://en.wikipedia.org/wiki/Fiddle"
          ],
          [
           "https://en.wikipedia.org/wiki/Cajun_music"
          ],
          [
           "https://en.wikipedia.org/wiki/Scottish_country_dance"
          ],
          [
           "https://en.wikipedia.org/wiki/American_pop"
          ],
          [
           "https://en.wikipedia.org/wiki/American_Southwest"
          ],
          [
           "https://en.wikipedia.org/wiki/Kundiman"
          ],
          [
           "https://en.wikipedia.org/wiki/Iranian_folk_music"
          ],
          [
           "https://en.wikipedia.org/wiki/Trade_union"
          ],
          [
           "https://en.wikipedia.org/wiki/Music_of_Ohio"
          ],
          [
           "https://en.wikipedia.org/wiki/Thurlow_Lieurance"
          ],
          [
           "https://en.wikipedia.org/wiki/Music_of_Louisiana"
          ],
          [
           "https://en.wikipedia.org/wiki/Music_of_Montana"
          ],
          [
           "https://en.wikipedia.org/wiki/Music_of_the_United_States"
          ],
          [
           "https://en.wikipedia.org/wiki/Music_of_West_Virginia"
          ],
          [
           "https://en.wikipedia.org/wiki/List_of_Iowa_area_codes"
          ],
          [
           "https://en.wikipedia.org/wiki/Des_Moines_metropolitan_area"
          ],
          [
           "https://en.wikipedia.org/wiki/Quad_City_Symphony_Orchestra"
          ],
          [
           "https://en.wikipedia.org/wiki/Nordic_Choir"
          ],
          [
           "https://en.wikipedia.org/wiki/Allen_Organ_Company"
          ],
          [
           "https://en.wikipedia.org/wiki/Cassette_deck"
          ],
          [
           "https://en.wikipedia.org/wiki/Curlie"
          ],
          [
           "https://en.wikipedia.org/wiki/Johannus_Orgelbouw"
          ],
          [
           "https://en.wikipedia.org/wiki/Scientific_pitch_notation"
          ],
          [
           "https://en.wikipedia.org/wiki/Stevie_Wonder"
          ],
          [
           "https://en.wikipedia.org/wiki/Bell_Labs"
          ],
          [
           "https://en.wikipedia.org/wiki/Pedal_clavier"
          ],
          [
           "https://en.wikipedia.org/wiki/Electronic_keyboard"
          ],
          [
           "https://en.wikipedia.org/wiki/The_Carpenters"
          ],
          [
           "https://en.wikipedia.org/wiki/Radiohead"
          ],
          [
           "https://en.wikipedia.org/wiki/Ghost_Riding"
          ],
          [
           "https://en.wikipedia.org/wiki/Lonestar"
          ],
          [
           "https://en.wikipedia.org/wiki/B2K"
          ],
          [
           "https://en.wikipedia.org/wiki/Who_Knew_Pink"
          ],
          [
           "https://en.wikipedia.org/wiki/1980s_in_music"
          ],
          [
           "https://en.wikipedia.org/wiki/Get_Busy"
          ],
          [
           "https://en.wikipedia.org/wiki/Electronic_music"
          ],
          [
           "https://en.wikipedia.org/wiki/House_music"
          ],
          [
           "https://en.wikipedia.org/wiki/Alanis_Morissette"
          ],
          [
           "https://en.wikipedia.org/wiki/Metro_Boomin"
          ],
          [
           "https://en.wikipedia.org/wiki/Comedy_hip_hop"
          ],
          [
           "https://en.wikipedia.org/wiki/Guest_appearance"
          ],
          [
           "https://en.wikipedia.org/wiki/Nerdcore"
          ],
          [
           "https://en.wikipedia.org/wiki/Tay_Keith"
          ],
          [
           "https://en.wikipedia.org/wiki/21_Savage"
          ],
          [
           "https://en.wikipedia.org/wiki/Disc_jockey"
          ],
          [
           "https://en.wikipedia.org/wiki/Field_holler"
          ],
          [
           "https://en.wikipedia.org/wiki/Golden_age_hip_hop"
          ],
          [
           "https://en.wikipedia.org/wiki/Justin_Bieber"
          ],
          [
           "https://en.wikipedia.org/wiki/Double_bass_pedal"
          ],
          [
           "https://en.wikipedia.org/wiki/Brake_drum"
          ],
          [
           "https://en.wikipedia.org/wiki/Marimba_Lumina"
          ],
          [
           "https://en.wikipedia.org/wiki/Gong_drum"
          ],
          [
           "https://en.wikipedia.org/wiki/Percussion_mallet"
          ],
          [
           "https://en.wikipedia.org/wiki/Drum_cadence"
          ],
          [
           "https://en.wikipedia.org/wiki/MIDI"
          ],
          [
           "https://en.wikipedia.org/wiki/Sound_reinforcement_system"
          ],
          [
           "https://en.wikipedia.org/wiki/Drum_module"
          ],
          [
           "https://en.wikipedia.org/wiki/Electronic_drum"
          ],
          [
           "https://en.wikipedia.org/wiki/Talking_blues"
          ],
          [
           "https://en.wikipedia.org/wiki/Folk_club"
          ],
          [
           "https://en.wikipedia.org/wiki/Country_and_Irish"
          ],
          [
           "https://en.wikipedia.org/wiki/Arapaho_music"
          ],
          [
           "https://en.wikipedia.org/wiki/Music_of_the_Cook_Islands"
          ],
          [
           "https://en.wikipedia.org/wiki/Bhawaiya"
          ],
          [
           "https://en.wikipedia.org/wiki/Country_rap"
          ],
          [
           "https://en.wikipedia.org/wiki/Roots_rock"
          ],
          [
           "https://en.wikipedia.org/wiki/Heartland_rock"
          ],
          [
           "https://en.wikipedia.org/wiki/Country_music_in_Nigeria"
          ],
          [
           "https://en.wikipedia.org/wiki/Scottish_Gaelic"
          ],
          [
           "https://en.wikipedia.org/wiki/Louisiana_Creole"
          ],
          [
           "https://en.wikipedia.org/wiki/Quadrille"
          ],
          [
           "https://en.wikipedia.org/wiki/Country_music"
          ],
          [
           "https://en.wikipedia.org/wiki/Cajun_Jitterbug"
          ],
          [
           "https://en.wikipedia.org/wiki/Southern_hip_hop"
          ],
          [
           "https://en.wikipedia.org/wiki/Red_dirt_music"
          ],
          [
           "https://en.wikipedia.org/wiki/Louisiana_Territory"
          ],
          [
           "https://en.wikipedia.org/wiki/Indigenous_music_of_North_America"
          ],
          [
           "https://en.wikipedia.org/wiki/Moon_Ska_Records"
          ],
          [
           "https://en.wikipedia.org/wiki/Trombone"
          ],
          [
           "https://en.wikipedia.org/wiki/Victor_Rice"
          ],
          [
           "https://en.wikipedia.org/wiki/Instrumental"
          ],
          [
           "https://en.wikipedia.org/wiki/Novelty_piano"
          ],
          [
           "https://en.wikipedia.org/wiki/Jazz_mugham"
          ],
          [
           "https://en.wikipedia.org/wiki/Swamp_blues"
          ],
          [
           "https://en.wikipedia.org/wiki/Southern_rock"
          ],
          [
           "https://en.wikipedia.org/wiki/Piedmont_blues"
          ],
          [
           "https://en.wikipedia.org/wiki/List_of_blues_musicians"
          ],
          [
           "https://en.wikipedia.org/wiki/Louisiana"
          ],
          [
           "https://en.wikipedia.org/wiki/Indian_blues"
          ],
          [
           "https://en.wikipedia.org/wiki/Blue_note"
          ],
          [
           "https://en.wikipedia.org/wiki/Desert_blues"
          ],
          [
           "https://en.wikipedia.org/wiki/Professor_Longhair"
          ],
          [
           "https://en.wikipedia.org/wiki/Origins_of_the_blues"
          ],
          [
           "https://en.wikipedia.org/wiki/Duke_University_Press"
          ],
          [
           "https://en.wikipedia.org/wiki/Edgar_Winter"
          ],
          [
           "https://en.wikipedia.org/wiki/Blues_rock"
          ],
          [
           "https://en.wikipedia.org/wiki/Peacock_Records"
          ],
          [
           "https://en.wikipedia.org/wiki/Memphis_blues"
          ],
          [
           "https://en.wikipedia.org/wiki/Goree_Carter"
          ],
          [
           "https://en.wikipedia.org/wiki/Turkish_folk_music"
          ],
          [
           "https://en.wikipedia.org/wiki/Greek_folk_music"
          ],
          [
           "https://en.wikipedia.org/wiki/Dutch_jazz"
          ],
          [
           "https://en.wikipedia.org/wiki/Belgian_jazz"
          ],
          [
           "https://en.wikipedia.org/wiki/War_song"
          ],
          [
           "https://en.wikipedia.org/wiki/Kaiso"
          ],
          [
           "https://en.wikipedia.org/wiki/Jazz_bass"
          ],
          [
           "https://en.wikipedia.org/wiki/Verve_Records_discography"
          ],
          [
           "https://en.wikipedia.org/wiki/1949_in_jazz"
          ],
          [
           "https://en.wikipedia.org/wiki/Prestige_Records_discography"
          ],
          [
           "https://en.wikipedia.org/wiki/Composer"
          ],
          [
           "https://en.wikipedia.org/wiki/Manhattan_School_of_Music"
          ],
          [
           "https://en.wikipedia.org/wiki/List_of_jazz_institutions_and_organizations"
          ],
          [
           "https://en.wikipedia.org/wiki/Atonality"
          ],
          [
           "https://en.wikipedia.org/wiki/New_Orleans_blues"
          ],
          [
           "https://en.wikipedia.org/wiki/1998_in_jazz"
          ],
          [
           "https://en.wikipedia.org/wiki/Sony_Music"
          ],
          [
           "https://en.wikipedia.org/wiki/Big_band"
          ],
          [
           "https://en.wikipedia.org/wiki/Kurt_Rosenwinkel"
          ],
          [
           "https://en.wikipedia.org/wiki/David_Sanborn"
          ],
          [
           "https://en.wikipedia.org/wiki/Connie_Kay"
          ],
          [
           "https://en.wikipedia.org/wiki/Stevie_Ray_Vaughan"
          ],
          [
           "https://en.wikipedia.org/wiki/Classic_female_blues"
          ],
          [
           "https://en.wikipedia.org/wiki/Gary_Moore"
          ],
          [
           "https://en.wikipedia.org/wiki/Jack_Bruce"
          ],
          [
           "https://en.wikipedia.org/wiki/Magic_Slim"
          ],
          [
           "https://en.wikipedia.org/wiki/Jonny_Lang"
          ],
          [
           "https://en.wikipedia.org/wiki/West_Coast_blues"
          ],
          [
           "https://en.wikipedia.org/wiki/Marshall_Amplification"
          ],
          [
           "https://en.wikipedia.org/wiki/Johnny_Winter"
          ],
          [
           "https://en.wikipedia.org/wiki/The_Black_Crowes"
          ],
          [
           "https://en.wikipedia.org/wiki/Fife_and_drum_blues"
          ],
          [
           "https://en.wikipedia.org/wiki/Scott_Joplin"
          ],
          [
           "https://en.wikipedia.org/wiki/Brun_Campbell"
          ],
          [
           "https://en.wikipedia.org/wiki/Trebor_Jay_Tichenor"
          ],
          [
           "https://en.wikipedia.org/wiki/Syncopated"
          ],
          [
           "https://en.wikipedia.org/wiki/African_American"
          ],
          [
           "https://en.wikipedia.org/wiki/Gunther_Schuller"
          ],
          [
           "https://en.wikipedia.org/wiki/Jordan_Hall"
          ],
          [
           "https://en.wikipedia.org/wiki/New_England_Ragtime_Ensemble"
          ],
          [
           "https://en.wikipedia.org/wiki/Capitol_Records"
          ],
          [
           "https://en.wikipedia.org/wiki/Budd_Johnson"
          ],
          [
           "https://en.wikipedia.org/wiki/Ron_Blake"
          ],
          [
           "https://en.wikipedia.org/wiki/Carter_Jefferson"
          ],
          [
           "https://en.wikipedia.org/wiki/Henning_Gravrok"
          ],
          [
           "https://en.wikipedia.org/wiki/Joel_Frahm"
          ],
          [
           "https://en.wikipedia.org/wiki/Tim_Berne"
          ],
          [
           "https://en.wikipedia.org/wiki/Paul_Desmond"
          ],
          [
           "https://en.wikipedia.org/wiki/Buster_Smith"
          ],
          [
           "https://en.wikipedia.org/wiki/Lester_Bowie"
          ],
          [
           "https://en.wikipedia.org/wiki/Stan_Getz"
          ],
          [
           "https://en.wikipedia.org/wiki/The_Shin"
          ],
          [
           "https://en.wikipedia.org/wiki/Folk_dance"
          ],
          [
           "https://en.wikipedia.org/wiki/Western_world"
          ],
          [
           "https://en.wikipedia.org/wiki/Milcho_Leviev"
          ],
          [
           "https://en.wikipedia.org/wiki/Cut_time"
          ],
          [
           "https://en.wikipedia.org/wiki/Steps_and_skips"
          ],
          [
           "https://en.wikipedia.org/wiki/Jazz_Samba"
          ],
          [
           "https://en.wikipedia.org/wiki/The_Isley_Brothers"
          ],
          [
           "https://en.wikipedia.org/wiki/Rainbow_Dome_Musick"
          ],
          [
           "https://en.wikipedia.org/wiki/Tony_Crombie"
          ],
          [
           "https://en.wikipedia.org/wiki/Los_Angeles"
          ],
          [
           "https://en.wikipedia.org/wiki/Talking_Book"
          ],
          [
           "https://en.wikipedia.org/wiki/Music_of_My_Mind"
          ],
          [
           "https://en.wikipedia.org/wiki/CTI_Records"
          ],
          [
           "https://en.wikipedia.org/wiki/Joe_Chambers"
          ],
          [
           "https://en.wikipedia.org/wiki/Save_Your_Love_for_Me"
          ],
          [
           "https://en.wikipedia.org/wiki/Eric_Kloss"
          ],
          [
           "https://en.wikipedia.org/wiki/HighNote_Records"
          ],
          [
           "https://en.wikipedia.org/wiki/Esther_Phillips"
          ],
          [
           "https://en.wikipedia.org/wiki/Muddy_Waters"
          ],
          [
           "https://en.wikipedia.org/wiki/Jamaica"
          ],
          [
           "https://en.wikipedia.org/wiki/Tonewheel"
          ],
          [
           "https://en.wikipedia.org/wiki/University_of_North_Texas_Press"
          ],
          [
           "https://en.wikipedia.org/wiki/Clonewheel_organ"
          ],
          [
           "https://en.wikipedia.org/wiki/The_Times"
          ],
          [
           "https://en.wikipedia.org/wiki/Alternator"
          ],
          [
           "https://en.wikipedia.org/wiki/Power_amplifier"
          ],
          [
           "https://en.wikipedia.org/wiki/Compression_driver"
          ],
          [
           "https://en.wikipedia.org/wiki/Farfisa"
          ],
          [
           "https://en.wikipedia.org/wiki/Procol_Harum"
          ],
          [
           "https://en.wikipedia.org/wiki/Nord_C_Series"
          ],
          [
           "https://en.wikipedia.org/wiki/May_Alix"
          ],
          [
           "https://en.wikipedia.org/wiki/Sigmund_Romberg"
          ],
          [
           "https://en.wikipedia.org/wiki/1920_in_jazz"
          ],
          [
           "https://en.wikipedia.org/wiki/Jazz_piano"
          ],
          [
           "https://en.wikipedia.org/wiki/Big_Butter_and_Egg_Man"
          ],
          [
           "https://en.wikipedia.org/wiki/Acid_jazz"
          ],
          [
           "https://en.wikipedia.org/wiki/Billy_Stewart"
          ],
          [
           "https://en.wikipedia.org/wiki/Mike_Patton"
          ],
          [
           "https://en.wikipedia.org/wiki/The_Andrews_Sisters"
          ],
          [
           "https://en.wikipedia.org/wiki/Indo_jazz"
          ],
          [
           "https://en.wikipedia.org/wiki/Jazz_funeral"
          ],
          [
           "https://en.wikipedia.org/wiki/Slim_Gaillard"
          ],
          [
           "https://en.wikipedia.org/wiki/Quiet_storm"
          ],
          [
           "https://en.wikipedia.org/wiki/Zbigniew_Seifert"
          ],
          [
           "https://en.wikipedia.org/wiki/List_of_Polish_jazz_groups"
          ],
          [
           "https://en.wikipedia.org/wiki/Sitar_in_jazz"
          ],
          [
           "https://en.wikipedia.org/wiki/Toronto"
          ],
          [
           "https://en.wikipedia.org/wiki/Jacek_Kochan"
          ],
          [
           "https://en.wikipedia.org/wiki/Krzysztof_Komeda"
          ],
          [
           "https://en.wikipedia.org/wiki/Entertainment_Monitoring_Africa"
          ],
          [
           "https://en.wikipedia.org/wiki/Susan_Lydon"
          ],
          [
           "https://en.wikipedia.org/wiki/Cumberland_Farms"
          ],
          [
           "https://en.wikipedia.org/wiki/Songwriter"
          ],
          [
           "https://en.wikipedia.org/wiki/Boston_Herald"
          ],
          [
           "https://en.wikipedia.org/wiki/Music_festival"
          ],
          [
           "https://en.wikipedia.org/wiki/Apollo_17"
          ],
          [
           "https://en.wikipedia.org/wiki/Turkey"
          ],
          [
           "https://en.wikipedia.org/wiki/Independent_record_label"
          ],
          [
           "https://en.wikipedia.org/wiki/Serbia"
          ],
          [
           "https://en.wikipedia.org/wiki/Toi_music"
          ],
          [
           "https://en.wikipedia.org/wiki/Pub_session"
          ],
          [
           "https://en.wikipedia.org/wiki/Romani_music"
          ],
          [
           "https://en.wikipedia.org/wiki/Industrial_folk_music"
          ],
          [
           "https://en.wikipedia.org/wiki/Music_of_Brittany"
          ],
          [
           "https://en.wikipedia.org/wiki/List_of_Central_American_folk_music_traditions"
          ],
          [
           "https://en.wikipedia.org/wiki/2022_in_jazz"
          ],
          [
           "https://en.wikipedia.org/wiki/Indigenous_music_of_Canada"
          ],
          [
           "https://en.wikipedia.org/wiki/Future_Nostalgia"
          ],
          [
           "https://en.wikipedia.org/wiki/21_November"
          ],
          [
           "https://en.wikipedia.org/wiki/Georg_Solti"
          ],
          [
           "https://en.wikipedia.org/wiki/MNEK"
          ],
          [
           "https://en.wikipedia.org/wiki/Judas_Priest"
          ],
          [
           "https://en.wikipedia.org/wiki/6_August"
          ],
          [
           "https://en.wikipedia.org/wiki/Dominic_Lewis"
          ],
          [
           "https://en.wikipedia.org/wiki/Download_Festival"
          ],
          [
           "https://en.wikipedia.org/wiki/Shane_Codd"
          ],
          [
           "https://en.wikipedia.org/wiki/15_September"
          ],
          [
           "https://en.wikipedia.org/wiki/Eleanor_Alberga"
          ],
          [
           "https://en.wikipedia.org/wiki/Malage_de_Lugendo"
          ],
          [
           "https://en.wikipedia.org/wiki/Jean_Serge_Essous"
          ],
          [
           "https://en.wikipedia.org/wiki/Sudan"
          ],
          [
           "https://en.wikipedia.org/wiki/Sam_Mangwana"
          ],
          [
           "https://en.wikipedia.org/wiki/Mpundi_Decca"
          ],
          [
           "https://en.wikipedia.org/wiki/Congolese_rumba"
          ],
          [
           "https://en.wikipedia.org/wiki/Tabu_Ley"
          ],
          [
           "https://en.wikipedia.org/wiki/Ndombe_Opetum"
          ],
          [
           "https://en.wikipedia.org/wiki/Ntesa_Dalienst"
          ],
          [
           "https://en.wikipedia.org/wiki/France"
          ],
          [
           "https://en.wikipedia.org/wiki/African_Rumba"
          ],
          [
           "https://en.wikipedia.org/wiki/Flugelhorn"
          ],
          [
           "https://en.wikipedia.org/wiki/TV_Globo"
          ],
          [
           "https://en.wikipedia.org/wiki/Geffen_Records"
          ],
          [
           "https://en.wikipedia.org/wiki/Improvising_Artists"
          ],
          [
           "https://en.wikipedia.org/wiki/MCA_Records"
          ],
          [
           "https://en.wikipedia.org/wiki/Zero_Tolerance_for_Silence"
          ],
          [
           "https://en.wikipedia.org/wiki/Autoharp"
          ],
          [
           "https://en.wikipedia.org/wiki/Brown_and_Roach_Incorporated"
          ],
          [
           "https://en.wikipedia.org/wiki/Greater_London_Council"
          ],
          [
           "https://en.wikipedia.org/wiki/Abbey_Lincoln"
          ],
          [
           "https://en.wikipedia.org/wiki/Epic_Records"
          ],
          [
           "https://en.wikipedia.org/wiki/Emancipation_Proclamation"
          ],
          [
           "https://en.wikipedia.org/wiki/Val_Wilmer"
          ],
          [
           "https://en.wikipedia.org/wiki/Civil_rights_movement"
          ],
          [
           "https://en.wikipedia.org/wiki/MPS_Records_discography"
          ],
          [
           "https://en.wikipedia.org/wiki/Anthony_Kerr"
          ],
          [
           "https://en.wikipedia.org/wiki/Mulatu_Astatke"
          ],
          [
           "https://en.wikipedia.org/wiki/Luigi_Waites"
          ],
          [
           "https://en.wikipedia.org/wiki/Christian_Burchard"
          ],
          [
           "https://en.wikipedia.org/wiki/2011_in_music"
          ],
          [
           "https://en.wikipedia.org/wiki/Anders_Hana"
          ],
          [
           "https://en.wikipedia.org/wiki/The_Stix"
          ],
          [
           "https://en.wikipedia.org/wiki/Ellen_Andrea_Wang"
          ],
          [
           "https://en.wikipedia.org/wiki/Trygve_Seim"
          ],
          [
           "https://en.wikipedia.org/wiki/Kongsberg_Jazz_Award"
          ],
          [
           "https://en.wikipedia.org/wiki/Stian_Carstensen"
          ],
          [
           "https://en.wikipedia.org/wiki/Lars_Danielsson"
          ],
          [
           "https://en.wikipedia.org/wiki/Eidsfoss"
          ],
          [
           "https://en.wikipedia.org/wiki/Turboneger"
          ],
          [
           "https://en.wikipedia.org/wiki/Hollywood_in_Vienna"
          ],
          [
           "https://en.wikipedia.org/wiki/Grammy_Award"
          ],
          [
           "https://en.wikipedia.org/wiki/Rhino_Entertainment"
          ],
          [
           "https://en.wikipedia.org/wiki/The_Genius_of_Ray_Charles"
          ],
          [
           "https://en.wikipedia.org/wiki/Bruno_Mars"
          ],
          [
           "https://en.wikipedia.org/wiki/Phil_Collins"
          ],
          [
           "https://en.wikipedia.org/wiki/Vocational_rehabilitation"
          ],
          [
           "https://en.wikipedia.org/wiki/1982_World_Series"
          ],
          [
           "https://en.wikipedia.org/wiki/Margalit_Fox"
          ],
          [
           "https://en.wikipedia.org/wiki/Respiratory_failure"
          ],
          [
           "https://en.wikipedia.org/wiki/Sitcom"
          ],
          [
           "https://en.wikipedia.org/wiki/Show_tune"
          ],
          [
           "https://en.wikipedia.org/wiki/Somebody_Loves_Me"
          ],
          [
           "https://en.wikipedia.org/wiki/Belle_Baker"
          ],
          [
           "https://en.wikipedia.org/wiki/Sonny_Stitt"
          ],
          [
           "https://en.wikipedia.org/wiki/Back_on_the_Scene"
          ],
          [
           "https://en.wikipedia.org/wiki/Howard_McGhee"
          ],
          [
           "https://en.wikipedia.org/wiki/Cecil_Payne"
          ],
          [
           "https://en.wikipedia.org/wiki/Walking_Down"
          ],
          [
           "https://en.wikipedia.org/wiki/Anthony_Braxton_discography"
          ],
          [
           "https://en.wikipedia.org/wiki/Best_Coast_Jazz"
          ],
          [
           "https://en.wikipedia.org/wiki/Seven_Compositions_1978"
          ],
          [
           "https://en.wikipedia.org/wiki/3_Compositions_of_New_Jazz"
          ],
          [
           "https://en.wikipedia.org/wiki/Live_at_Vielharmonie"
          ],
          [
           "https://en.wikipedia.org/wiki/Electric_bass"
          ],
          [
           "https://en.wikipedia.org/wiki/Leon_Ware"
          ],
          [
           "https://en.wikipedia.org/wiki/Gary_Bartz"
          ],
          [
           "https://en.wikipedia.org/wiki/Fantasy_Studios"
          ],
          [
           "https://en.wikipedia.org/wiki/Prestige_Records"
          ],
          [
           "https://en.wikipedia.org/wiki/Andy_Bey"
          ],
          [
           "https://en.wikipedia.org/wiki/Sopranino_saxophone"
          ],
          [
           "https://en.wikipedia.org/wiki/Harry_James"
          ],
          [
           "https://en.wikipedia.org/wiki/Nat_Hentoff"
          ],
          [
           "https://en.wikipedia.org/wiki/Gary_Giddins"
          ],
          [
           "https://en.wikipedia.org/wiki/The_Penguin_Guide_to_Jazz"
          ],
          [
           "https://en.wikipedia.org/wiki/Oklahoma_City_Blue_Devils"
          ],
          [
           "https://en.wikipedia.org/wiki/Down_Beat"
          ],
          [
           "https://en.wikipedia.org/wiki/Copenhagen_Concert"
          ],
          [
           "https://en.wikipedia.org/wiki/Humphrey_Lyttelton"
          ],
          [
           "https://en.wikipedia.org/wiki/Limb_Music"
          ],
          [
           "https://en.wikipedia.org/wiki/Progressive_metal"
          ],
          [
           "https://en.wikipedia.org/wiki/Heavy_metal_music"
          ],
          [
           "https://en.wikipedia.org/wiki/Norway"
          ],
          [
           "https://en.wikipedia.org/wiki/Oslo"
          ],
          [
           "https://en.wikipedia.org/wiki/Germany"
          ],
          [
           "https://en.wikipedia.org/wiki/ProgPower_USA"
          ],
          [
           "https://en.wikipedia.org/wiki/Atlanta"
          ],
          [
           "https://en.wikipedia.org/wiki/Guitar_wiring"
          ],
          [
           "https://en.wikipedia.org/wiki/Iranian_jazz"
          ],
          [
           "https://en.wikipedia.org/wiki/Rhythm_guitar"
          ],
          [
           "https://en.wikipedia.org/wiki/Cape_Town_International_Jazz_Festival"
          ],
          [
           "https://en.wikipedia.org/wiki/Tenor_guitar"
          ],
          [
           "https://en.wikipedia.org/wiki/Synthesizer_guitar"
          ],
          [
           "https://en.wikipedia.org/wiki/Chitarra_battente"
          ],
          [
           "https://en.wikipedia.org/wiki/Graeme_Bell"
          ],
          [
           "https://en.wikipedia.org/wiki/Bluegrass_music"
          ],
          [
           "https://en.wikipedia.org/wiki/Japanese_jazz"
          ],
          [
           "https://en.wikipedia.org/wiki/Dippermouth_Blues"
          ],
          [
           "https://en.wikipedia.org/wiki/Madiaba"
          ],
          [
           "https://en.wikipedia.org/wiki/Shangaan_electro"
          ],
          [
           "https://en.wikipedia.org/wiki/Mahraganat"
          ],
          [
           "https://en.wikipedia.org/wiki/Dion_DiMucci"
          ],
          [
           "https://en.wikipedia.org/wiki/Buddy_DeFranco"
          ],
          [
           "https://en.wikipedia.org/wiki/Joe_Maini"
          ],
          [
           "https://en.wikipedia.org/wiki/Liza_Minnelli"
          ],
          [
           "https://en.wikipedia.org/wiki/Med_Flory"
          ],
          [
           "https://en.wikipedia.org/wiki/Al_Porcino"
          ],
          [
           "https://en.wikipedia.org/wiki/Harry_Biss"
          ],
          [
           "https://en.wikipedia.org/wiki/Manny_Albam"
          ],
          [
           "https://en.wikipedia.org/wiki/Dot_Records"
          ],
          [
           "https://en.wikipedia.org/wiki/Live_at_Laren"
          ],
          [
           "https://en.wikipedia.org/wiki/Ricky_Ford"
          ],
          [
           "https://en.wikipedia.org/wiki/Steeplechase_Records"
          ],
          [
           "https://en.wikipedia.org/wiki/Red_Giant"
          ],
          [
           "https://en.wikipedia.org/wiki/JVC_Jazz_Festival"
          ],
          [
           "https://en.wikipedia.org/wiki/Superbop"
          ],
          [
           "https://en.wikipedia.org/wiki/Fantasy_Records"
          ],
          [
           "https://en.wikipedia.org/wiki/Georgie_Auld"
          ],
          [
           "https://en.wikipedia.org/wiki/MC5"
          ],
          [
           "https://en.wikipedia.org/wiki/Folk_music"
          ],
          [
           "https://en.wikipedia.org/wiki/Counterpoint"
          ],
          [
           "https://en.wikipedia.org/wiki/List_of_1940s_jazz_standards"
          ],
          [
           "https://en.wikipedia.org/wiki/Jimmie_Noone"
          ],
          [
           "https://en.wikipedia.org/wiki/List_of_chamber_jazz_musicians"
          ],
          [
           "https://en.wikipedia.org/wiki/Compilation_album"
          ],
          [
           "https://en.wikipedia.org/wiki/Wally_Fawkes"
          ],
          [
           "https://en.wikipedia.org/wiki/Swing_revival"
          ],
          [
           "https://en.wikipedia.org/wiki/Gigi_Gryce"
          ],
          [
           "https://en.wikipedia.org/wiki/Atle_Nymo"
          ],
          [
           "https://en.wikipedia.org/wiki/Everette_Harp"
          ],
          [
           "https://en.wikipedia.org/wiki/North_Sea_Jazz_Festival"
          ],
          [
           "https://en.wikipedia.org/wiki/Harald_Lassen"
          ],
          [
           "https://en.wikipedia.org/wiki/Boney_James"
          ],
          [
           "https://en.wikipedia.org/wiki/Cootie_Williams"
          ],
          [
           "https://en.wikipedia.org/wiki/Art_Taylor"
          ],
          [
           "https://en.wikipedia.org/wiki/Harold_Bloom"
          ],
          [
           "https://en.wikipedia.org/wiki/Piano_Interpretations_by_Bud_Powell"
          ],
          [
           "https://en.wikipedia.org/wiki/Creedmoor_State_Hospital"
          ],
          [
           "https://en.wikipedia.org/wiki/Perfect_fifth"
          ],
          [
           "https://en.wikipedia.org/wiki/Bellevue_Hospital_Center"
          ],
          [
           "https://en.wikipedia.org/wiki/Percy_Heath"
          ],
          [
           "https://en.wikipedia.org/wiki/Correctional_Training_Facility"
          ],
          [
           "https://en.wikipedia.org/wiki/San_Quentin"
          ],
          [
           "https://en.wikipedia.org/wiki/Ernie_Henry"
          ],
          [
           "https://en.wikipedia.org/wiki/Victor_Gaskin"
          ],
          [
           "https://en.wikipedia.org/wiki/Bobby_Hutcherson"
          ]
         ],
         "hovertemplate": "Number of links on a page=%{x}<br>index=%{customdata[0]}<extra></extra>",
         "legendgroup": "",
         "marker": {
          "color": "#636efa"
         },
         "name": "",
         "offsetgroup": "",
         "orientation": "h",
         "points": "all",
         "scalegroup": "True",
         "showlegend": false,
         "type": "violin",
         "x": [
          863,
          236,
          133,
          45,
          254,
          394,
          194,
          205,
          32,
          585,
          326,
          365,
          292,
          413,
          267,
          238,
          256,
          149,
          401,
          427,
          603,
          128,
          533,
          130,
          62,
          44,
          158,
          81,
          1067,
          182,
          12,
          139,
          29,
          13,
          459,
          1119,
          22,
          57,
          67,
          25,
          12,
          88,
          169,
          30,
          36,
          1012,
          5,
          195,
          141,
          113,
          47,
          60,
          16,
          264,
          80,
          244,
          241,
          107,
          39,
          42,
          384,
          25,
          83,
          1344,
          399,
          573,
          341,
          211,
          189,
          272,
          201,
          395,
          372,
          389,
          556,
          69,
          286,
          533,
          284,
          541,
          250,
          422,
          28,
          126,
          72,
          19,
          21,
          49,
          49,
          250,
          36,
          36,
          86,
          28,
          257,
          77,
          347,
          37,
          63,
          44,
          38,
          98,
          63,
          205,
          65,
          44,
          7,
          357,
          391,
          79,
          78,
          76,
          116,
          108,
          624,
          105,
          517,
          146,
          192,
          833,
          412,
          318,
          274,
          67,
          245,
          73,
          81,
          396,
          306,
          442,
          208,
          9,
          16,
          638,
          93,
          61,
          235,
          413,
          215,
          378,
          253,
          402,
          522,
          76,
          169,
          283,
          286,
          103,
          169,
          436,
          49,
          77,
          27,
          57,
          12,
          376,
          338,
          275,
          66,
          48,
          281,
          118,
          42,
          212,
          256,
          178,
          286,
          233,
          634,
          324,
          148,
          603,
          838,
          480,
          514,
          1271,
          171,
          504,
          6,
          264,
          101,
          379,
          581,
          880,
          500,
          837,
          315,
          266,
          308,
          217,
          1559,
          251,
          38,
          238,
          200,
          77,
          961,
          10,
          18,
          508,
          234,
          88,
          111,
          269,
          204,
          143,
          177,
          70,
          97,
          146,
          167,
          125,
          129,
          149,
          8,
          292,
          513,
          317,
          217,
          79,
          28,
          551,
          197,
          498,
          18,
          186,
          207,
          494,
          27,
          381,
          33,
          20,
          67,
          43,
          214,
          91,
          88,
          20,
          7,
          104,
          498,
          130,
          544,
          632,
          563,
          115,
          311,
          226,
          105,
          188,
          93,
          238,
          120,
          604,
          163,
          347,
          465,
          47,
          122,
          824,
          201,
          480,
          15,
          431,
          551,
          80,
          72,
          71,
          122,
          68,
          318,
          73,
          55,
          69,
          652,
          454,
          351,
          251,
          36,
          30,
          397,
          845,
          326,
          267,
          102,
          1103,
          253,
          350,
          407,
          117,
          65,
          690,
          727,
          12,
          1286,
          43,
          83,
          108,
          17,
          256,
          571,
          533,
          44,
          233,
          43,
          143,
          129,
          107,
          300,
          355,
          183,
          468,
          81,
          826,
          1193,
          1751,
          218,
          20,
          249,
          116,
          149,
          352,
          327,
          1619,
          54,
          24,
          86,
          939,
          491,
          1512,
          13,
          8,
          39,
          12,
          207,
          176,
          423,
          76,
          225,
          187,
          209,
          61,
          97,
          56,
          194,
          28,
          50,
          37,
          105,
          105,
          162,
          223,
          77,
          68,
          104,
          83,
          383,
          73,
          107,
          75,
          254,
          95,
          88,
          823,
          498,
          181,
          2288,
          70,
          388,
          117,
          1152,
          422,
          253,
          546,
          1150,
          1065,
          244,
          698,
          159,
          134,
          135,
          361,
          91,
          11,
          41,
          78,
          248,
          35,
          47,
          29,
          113,
          571,
          110,
          68,
          42,
          17,
          63,
          30,
          299,
          52,
          77,
          747,
          237,
          80,
          27,
          118,
          41,
          22,
          221,
          241,
          95,
          62,
          78,
          73,
          421,
          387,
          27,
          119,
          1394,
          177,
          90,
          29,
          115,
          213,
          51,
          147,
          30,
          105,
          39,
          203,
          687,
          357,
          46,
          35,
          220,
          101,
          217,
          582,
          174,
          709,
          91,
          92,
          11,
          1633,
          89,
          29,
          84,
          64,
          1074,
          64,
          78,
          69,
          308,
          177,
          795,
          592,
          377,
          115,
          195,
          78,
          293,
          500,
          326,
          1034,
          290,
          207,
          762,
          265,
          159,
          74,
          96,
          35,
          725,
          597,
          256,
          855,
          275,
          500,
          332,
          58,
          1257,
          213,
          97,
          237,
          147,
          64,
          1007,
          531,
          311,
          39,
          167,
          267,
          48,
          201,
          40,
          112,
          168,
          545,
          82,
          424,
          940,
          1286,
          85,
          109,
          866,
          8,
          76,
          125,
          97,
          75,
          235,
          660,
          54,
          60,
          541,
          663,
          106,
          70,
          1325,
          379,
          389,
          562,
          76,
          532,
          111,
          335,
          455,
          642,
          440,
          306,
          341,
          350,
          29,
          16,
          144,
          512,
          436,
          288,
          241,
          660,
          190,
          127,
          469,
          282,
          215,
          123,
          88,
          131,
          122,
          81,
          170,
          164,
          399,
          57,
          587,
          238,
          212,
          324,
          178,
          27,
          89,
          250,
          202,
          800,
          24,
          52,
          244,
          245,
          14,
          292,
          51,
          169,
          467,
          158,
          75,
          251,
          180,
          58,
          156,
          135,
          45,
          103,
          69,
          67,
          313,
          213,
          333,
          52,
          68,
          132,
          20,
          118,
          183,
          92,
          123,
          174,
          401,
          299,
          104,
          312,
          203,
          94,
          99,
          33,
          178,
          35,
          260,
          53,
          770,
          466,
          298,
          721,
          41,
          54,
          127,
          1934,
          59,
          141,
          174,
          661,
          13,
          553,
          47,
          23,
          1714,
          213,
          232,
          36,
          1522,
          1219,
          856,
          208,
          27,
          328,
          1667,
          885,
          985,
          570,
          567,
          565,
          779,
          3809,
          104,
          412,
          78,
          33,
          479,
          254,
          463,
          154,
          89,
          433,
          292,
          312,
          232,
          313,
          136,
          197,
          92,
          20,
          337,
          43,
          10,
          25,
          90,
          271,
          291,
          238,
          247,
          196,
          223,
          71,
          199,
          159,
          43,
          122,
          229,
          11,
          39,
          220,
          46,
          24,
          205,
          17,
          167,
          283,
          796,
          414,
          835,
          504,
          63,
          494,
          293,
          270,
          355,
          306,
          368,
          407,
          439,
          23,
          194,
          221,
          365,
          393,
          272,
          602,
          214,
          736,
          33,
          74,
          174,
          411,
          318,
          32,
          37,
          198,
          188,
          244,
          761,
          282,
          237,
          299,
          397,
          57,
          270,
          482,
          155,
          188,
          161,
          229,
          122,
          240,
          27,
          220,
          17,
          90,
          43,
          284,
          239,
          118,
          308,
          70,
          207,
          281,
          88,
          1310,
          143,
          608,
          140,
          244,
          66,
          206,
          349,
          366,
          240,
          217,
          101,
          220,
          1297,
          220,
          251,
          14,
          232,
          437,
          415,
          197,
          209,
          206,
          202,
          214,
          70,
          25,
          28,
          110,
          255,
          47,
          10,
          188,
          114,
          80,
          134,
          71,
          32,
          141,
          68,
          67,
          85,
          71,
          65,
          41,
          77,
          234,
          92,
          116,
          179,
          113,
          479,
          1044,
          111,
          87,
          37,
          442,
          1033,
          407,
          1351,
          209,
          151,
          259,
          183,
          117,
          127,
          35,
          59,
          17,
          39,
          269,
          121,
          281,
          295,
          57,
          274,
          357,
          89,
          59,
          146,
          242,
          85,
          293,
          324,
          571,
          237,
          10,
          186,
          394,
          402,
          271,
          843,
          19,
          31,
          19,
          31,
          126,
          239,
          378,
          1027,
          915,
          320,
          11,
          32,
          226,
          124,
          203,
          159,
          82,
          49,
          117,
          47,
          70,
          102,
          67,
          72,
          22,
          64,
          155,
          60,
          139,
          287,
          288,
          61,
          43,
          47,
          266,
          243,
          451,
          162,
          198,
          56,
          36,
          320,
          995,
          14,
          22,
          161,
          37,
          422,
          265,
          867,
          160,
          240,
          38,
          99,
          60,
          172,
          431,
          118,
          192,
          118,
          109,
          67,
          545,
          322,
          76,
          22,
          11,
          40,
          72,
          124,
          841,
          203,
          44,
          43,
          158,
          78,
          37,
          98,
          15,
          39,
          329,
          63,
          38,
          186,
          333,
          28,
          253,
          53,
          22,
          99,
          34,
          104,
          37,
          137,
          197,
          86,
          148,
          123,
          85,
          188,
          1181,
          304,
          153,
          98,
          168,
          44,
          45,
          106,
          67,
          311,
          192,
          125,
          75,
          168,
          634,
          282,
          63,
          93,
          57,
          93,
          50,
          17,
          132,
          307,
          306,
          37,
          100,
          320,
          136,
          38,
          38,
          223,
          502,
          148,
          55,
          93,
          91,
          66,
          37,
          64,
          76,
          45,
          30,
          101,
          660,
          153,
          32,
          102,
          28,
          563,
          85,
          350,
          69,
          63,
          78,
          64,
          62,
          65,
          53,
          106,
          19,
          254,
          30,
          85,
          1462,
          599,
          899,
          79,
          703,
          68,
          20,
          235,
          24,
          74,
          173,
          160,
          184,
          178,
          176,
          160,
          212,
          171,
          262,
          210,
          275,
          151,
          78,
          170,
          406,
          116,
          170,
          176,
          90,
          72,
          338,
          27,
          478,
          207,
          252,
          36,
          54,
          69,
          39,
          218,
          7,
          33,
          97,
          321,
          10,
          7,
          342,
          58,
          19,
          69,
          383,
          160,
          702,
          188,
          54,
          326,
          100,
          327,
          335,
          142,
          412,
          27,
          5,
          89,
          106,
          17,
          56,
          212,
          35,
          149,
          55,
          105,
          14,
          85,
          88,
          153,
          23,
          95,
          183,
          216,
          63,
          107,
          219,
          303,
          135,
          140,
          95,
          82,
          12,
          104,
          82,
          57,
          72,
          49,
          200,
          194,
          326,
          251,
          428,
          302,
          175,
          297,
          143,
          118,
          169,
          135,
          246,
          101,
          88,
          358,
          60,
          184,
          126,
          48,
          164,
          122,
          192,
          51,
          111,
          107,
          72,
          54,
          403,
          339,
          247,
          135,
          140,
          150,
          2168,
          64,
          347,
          930,
          463,
          36,
          289,
          111,
          1419,
          132,
          164,
          304,
          112,
          32,
          20,
          176,
          129,
          7,
          129,
          1000,
          640,
          234,
          87,
          334,
          448,
          17,
          126,
          100,
          145,
          655,
          122,
          876,
          638,
          583,
          105,
          426,
          35,
          308,
          129,
          187,
          723,
          57,
          335,
          783,
          352,
          236,
          15,
          29,
          87,
          85,
          392,
          156,
          31,
          81,
          87,
          275,
          82,
          240,
          235,
          513,
          368,
          529,
          293,
          68,
          583,
          462,
          27,
          1104,
          22,
          340,
          102,
          179,
          315,
          75,
          362,
          38,
          151,
          22,
          249,
          83,
          398,
          91,
          433,
          1399,
          137,
          111,
          423,
          86,
          166,
          86,
          114,
          344,
          33,
          75,
          54,
          324,
          474,
          275,
          360,
          71,
          302,
          328,
          546,
          385,
          748,
          443,
          244,
          230,
          161,
          269,
          323,
          450,
          328,
          86,
          231,
          103,
          301,
          107,
          213,
          332,
          46,
          78,
          69,
          146,
          218,
          117,
          84,
          168,
          11,
          9,
          105,
          1342,
          152,
          136,
          55,
          309,
          77,
          33,
          114,
          19,
          12,
          82,
          139,
          35,
          152,
          354,
          126,
          355,
          955,
          34,
          13,
          41,
          81,
          170,
          30,
          63,
          1087,
          150,
          110,
          322,
          79,
          147,
          31,
          172,
          75,
          208,
          953,
          50,
          40,
          80,
          524,
          148,
          119,
          15,
          136,
          198,
          48,
          15,
          65,
          316,
          225,
          20,
          582,
          46,
          511,
          310,
          247,
          224,
          57,
          361,
          21,
          11,
          24,
          1223,
          15,
          44,
          78,
          77,
          169,
          224,
          222,
          263,
          601,
          1700,
          479,
          1342,
          206,
          43,
          346,
          255,
          150,
          37,
          294,
          740,
          446,
          975,
          422,
          73,
          244,
          910,
          47,
          984,
          41,
          1060,
          38,
          35,
          13,
          709,
          38,
          16,
          166,
          57,
          28,
          18,
          1910,
          166,
          233,
          330,
          256,
          18,
          120,
          56,
          93,
          74,
          230,
          54,
          218,
          1274,
          97,
          1457,
          348,
          21,
          54,
          22,
          38,
          139,
          21,
          34,
          43,
          28,
          57,
          54,
          44,
          11,
          154,
          47,
          502,
          143,
          304,
          934,
          1122,
          137,
          810,
          58,
          203,
          235,
          126,
          152,
          44,
          168,
          29,
          74,
          70,
          31,
          98,
          67,
          49,
          64,
          56,
          180,
          82,
          127,
          142,
          60,
          71,
          63,
          120,
          117,
          196,
          23,
          20,
          243,
          63,
          124,
          34,
          224,
          875,
          1249,
          1286,
          1146,
          141,
          1117,
          97,
          230,
          164,
          739,
          141,
          75,
          135,
          98,
          454,
          362,
          25,
          92,
          118,
          179,
          235,
          67,
          36,
          644,
          50,
          57,
          19,
          58,
          237,
          73,
          76,
          213,
          262,
          571,
          27,
          91,
          49,
          143,
          770,
          117,
          332,
          117,
          227,
          376,
          151,
          221,
          110,
          32,
          59,
          250,
          28,
          38,
          187,
          145,
          201,
          75,
          131,
          164,
          269,
          182,
          63,
          368,
          38,
          199,
          107
         ],
         "x0": " ",
         "xaxis": "x",
         "y0": " ",
         "yaxis": "y"
        }
       ],
       "layout": {
        "legend": {
         "tracegroupgap": 0
        },
        "template": {
         "data": {
          "bar": [
           {
            "error_x": {
             "color": "#2a3f5f"
            },
            "error_y": {
             "color": "#2a3f5f"
            },
            "marker": {
             "line": {
              "color": "#E5ECF6",
              "width": 0.5
             },
             "pattern": {
              "fillmode": "overlay",
              "size": 10,
              "solidity": 0.2
             }
            },
            "type": "bar"
           }
          ],
          "barpolar": [
           {
            "marker": {
             "line": {
              "color": "#E5ECF6",
              "width": 0.5
             },
             "pattern": {
              "fillmode": "overlay",
              "size": 10,
              "solidity": 0.2
             }
            },
            "type": "barpolar"
           }
          ],
          "carpet": [
           {
            "aaxis": {
             "endlinecolor": "#2a3f5f",
             "gridcolor": "white",
             "linecolor": "white",
             "minorgridcolor": "white",
             "startlinecolor": "#2a3f5f"
            },
            "baxis": {
             "endlinecolor": "#2a3f5f",
             "gridcolor": "white",
             "linecolor": "white",
             "minorgridcolor": "white",
             "startlinecolor": "#2a3f5f"
            },
            "type": "carpet"
           }
          ],
          "choropleth": [
           {
            "colorbar": {
             "outlinewidth": 0,
             "ticks": ""
            },
            "type": "choropleth"
           }
          ],
          "contour": [
           {
            "colorbar": {
             "outlinewidth": 0,
             "ticks": ""
            },
            "colorscale": [
             [
              0,
              "#0d0887"
             ],
             [
              0.1111111111111111,
              "#46039f"
             ],
             [
              0.2222222222222222,
              "#7201a8"
             ],
             [
              0.3333333333333333,
              "#9c179e"
             ],
             [
              0.4444444444444444,
              "#bd3786"
             ],
             [
              0.5555555555555556,
              "#d8576b"
             ],
             [
              0.6666666666666666,
              "#ed7953"
             ],
             [
              0.7777777777777778,
              "#fb9f3a"
             ],
             [
              0.8888888888888888,
              "#fdca26"
             ],
             [
              1,
              "#f0f921"
             ]
            ],
            "type": "contour"
           }
          ],
          "contourcarpet": [
           {
            "colorbar": {
             "outlinewidth": 0,
             "ticks": ""
            },
            "type": "contourcarpet"
           }
          ],
          "heatmap": [
           {
            "colorbar": {
             "outlinewidth": 0,
             "ticks": ""
            },
            "colorscale": [
             [
              0,
              "#0d0887"
             ],
             [
              0.1111111111111111,
              "#46039f"
             ],
             [
              0.2222222222222222,
              "#7201a8"
             ],
             [
              0.3333333333333333,
              "#9c179e"
             ],
             [
              0.4444444444444444,
              "#bd3786"
             ],
             [
              0.5555555555555556,
              "#d8576b"
             ],
             [
              0.6666666666666666,
              "#ed7953"
             ],
             [
              0.7777777777777778,
              "#fb9f3a"
             ],
             [
              0.8888888888888888,
              "#fdca26"
             ],
             [
              1,
              "#f0f921"
             ]
            ],
            "type": "heatmap"
           }
          ],
          "heatmapgl": [
           {
            "colorbar": {
             "outlinewidth": 0,
             "ticks": ""
            },
            "colorscale": [
             [
              0,
              "#0d0887"
             ],
             [
              0.1111111111111111,
              "#46039f"
             ],
             [
              0.2222222222222222,
              "#7201a8"
             ],
             [
              0.3333333333333333,
              "#9c179e"
             ],
             [
              0.4444444444444444,
              "#bd3786"
             ],
             [
              0.5555555555555556,
              "#d8576b"
             ],
             [
              0.6666666666666666,
              "#ed7953"
             ],
             [
              0.7777777777777778,
              "#fb9f3a"
             ],
             [
              0.8888888888888888,
              "#fdca26"
             ],
             [
              1,
              "#f0f921"
             ]
            ],
            "type": "heatmapgl"
           }
          ],
          "histogram": [
           {
            "marker": {
             "pattern": {
              "fillmode": "overlay",
              "size": 10,
              "solidity": 0.2
             }
            },
            "type": "histogram"
           }
          ],
          "histogram2d": [
           {
            "colorbar": {
             "outlinewidth": 0,
             "ticks": ""
            },
            "colorscale": [
             [
              0,
              "#0d0887"
             ],
             [
              0.1111111111111111,
              "#46039f"
             ],
             [
              0.2222222222222222,
              "#7201a8"
             ],
             [
              0.3333333333333333,
              "#9c179e"
             ],
             [
              0.4444444444444444,
              "#bd3786"
             ],
             [
              0.5555555555555556,
              "#d8576b"
             ],
             [
              0.6666666666666666,
              "#ed7953"
             ],
             [
              0.7777777777777778,
              "#fb9f3a"
             ],
             [
              0.8888888888888888,
              "#fdca26"
             ],
             [
              1,
              "#f0f921"
             ]
            ],
            "type": "histogram2d"
           }
          ],
          "histogram2dcontour": [
           {
            "colorbar": {
             "outlinewidth": 0,
             "ticks": ""
            },
            "colorscale": [
             [
              0,
              "#0d0887"
             ],
             [
              0.1111111111111111,
              "#46039f"
             ],
             [
              0.2222222222222222,
              "#7201a8"
             ],
             [
              0.3333333333333333,
              "#9c179e"
             ],
             [
              0.4444444444444444,
              "#bd3786"
             ],
             [
              0.5555555555555556,
              "#d8576b"
             ],
             [
              0.6666666666666666,
              "#ed7953"
             ],
             [
              0.7777777777777778,
              "#fb9f3a"
             ],
             [
              0.8888888888888888,
              "#fdca26"
             ],
             [
              1,
              "#f0f921"
             ]
            ],
            "type": "histogram2dcontour"
           }
          ],
          "mesh3d": [
           {
            "colorbar": {
             "outlinewidth": 0,
             "ticks": ""
            },
            "type": "mesh3d"
           }
          ],
          "parcoords": [
           {
            "line": {
             "colorbar": {
              "outlinewidth": 0,
              "ticks": ""
             }
            },
            "type": "parcoords"
           }
          ],
          "pie": [
           {
            "automargin": true,
            "type": "pie"
           }
          ],
          "scatter": [
           {
            "fillpattern": {
             "fillmode": "overlay",
             "size": 10,
             "solidity": 0.2
            },
            "type": "scatter"
           }
          ],
          "scatter3d": [
           {
            "line": {
             "colorbar": {
              "outlinewidth": 0,
              "ticks": ""
             }
            },
            "marker": {
             "colorbar": {
              "outlinewidth": 0,
              "ticks": ""
             }
            },
            "type": "scatter3d"
           }
          ],
          "scattercarpet": [
           {
            "marker": {
             "colorbar": {
              "outlinewidth": 0,
              "ticks": ""
             }
            },
            "type": "scattercarpet"
           }
          ],
          "scattergeo": [
           {
            "marker": {
             "colorbar": {
              "outlinewidth": 0,
              "ticks": ""
             }
            },
            "type": "scattergeo"
           }
          ],
          "scattergl": [
           {
            "marker": {
             "colorbar": {
              "outlinewidth": 0,
              "ticks": ""
             }
            },
            "type": "scattergl"
           }
          ],
          "scattermapbox": [
           {
            "marker": {
             "colorbar": {
              "outlinewidth": 0,
              "ticks": ""
             }
            },
            "type": "scattermapbox"
           }
          ],
          "scatterpolar": [
           {
            "marker": {
             "colorbar": {
              "outlinewidth": 0,
              "ticks": ""
             }
            },
            "type": "scatterpolar"
           }
          ],
          "scatterpolargl": [
           {
            "marker": {
             "colorbar": {
              "outlinewidth": 0,
              "ticks": ""
             }
            },
            "type": "scatterpolargl"
           }
          ],
          "scatterternary": [
           {
            "marker": {
             "colorbar": {
              "outlinewidth": 0,
              "ticks": ""
             }
            },
            "type": "scatterternary"
           }
          ],
          "surface": [
           {
            "colorbar": {
             "outlinewidth": 0,
             "ticks": ""
            },
            "colorscale": [
             [
              0,
              "#0d0887"
             ],
             [
              0.1111111111111111,
              "#46039f"
             ],
             [
              0.2222222222222222,
              "#7201a8"
             ],
             [
              0.3333333333333333,
              "#9c179e"
             ],
             [
              0.4444444444444444,
              "#bd3786"
             ],
             [
              0.5555555555555556,
              "#d8576b"
             ],
             [
              0.6666666666666666,
              "#ed7953"
             ],
             [
              0.7777777777777778,
              "#fb9f3a"
             ],
             [
              0.8888888888888888,
              "#fdca26"
             ],
             [
              1,
              "#f0f921"
             ]
            ],
            "type": "surface"
           }
          ],
          "table": [
           {
            "cells": {
             "fill": {
              "color": "#EBF0F8"
             },
             "line": {
              "color": "white"
             }
            },
            "header": {
             "fill": {
              "color": "#C8D4E3"
             },
             "line": {
              "color": "white"
             }
            },
            "type": "table"
           }
          ]
         },
         "layout": {
          "annotationdefaults": {
           "arrowcolor": "#2a3f5f",
           "arrowhead": 0,
           "arrowwidth": 1
          },
          "autotypenumbers": "strict",
          "coloraxis": {
           "colorbar": {
            "outlinewidth": 0,
            "ticks": ""
           }
          },
          "colorscale": {
           "diverging": [
            [
             0,
             "#8e0152"
            ],
            [
             0.1,
             "#c51b7d"
            ],
            [
             0.2,
             "#de77ae"
            ],
            [
             0.3,
             "#f1b6da"
            ],
            [
             0.4,
             "#fde0ef"
            ],
            [
             0.5,
             "#f7f7f7"
            ],
            [
             0.6,
             "#e6f5d0"
            ],
            [
             0.7,
             "#b8e186"
            ],
            [
             0.8,
             "#7fbc41"
            ],
            [
             0.9,
             "#4d9221"
            ],
            [
             1,
             "#276419"
            ]
           ],
           "sequential": [
            [
             0,
             "#0d0887"
            ],
            [
             0.1111111111111111,
             "#46039f"
            ],
            [
             0.2222222222222222,
             "#7201a8"
            ],
            [
             0.3333333333333333,
             "#9c179e"
            ],
            [
             0.4444444444444444,
             "#bd3786"
            ],
            [
             0.5555555555555556,
             "#d8576b"
            ],
            [
             0.6666666666666666,
             "#ed7953"
            ],
            [
             0.7777777777777778,
             "#fb9f3a"
            ],
            [
             0.8888888888888888,
             "#fdca26"
            ],
            [
             1,
             "#f0f921"
            ]
           ],
           "sequentialminus": [
            [
             0,
             "#0d0887"
            ],
            [
             0.1111111111111111,
             "#46039f"
            ],
            [
             0.2222222222222222,
             "#7201a8"
            ],
            [
             0.3333333333333333,
             "#9c179e"
            ],
            [
             0.4444444444444444,
             "#bd3786"
            ],
            [
             0.5555555555555556,
             "#d8576b"
            ],
            [
             0.6666666666666666,
             "#ed7953"
            ],
            [
             0.7777777777777778,
             "#fb9f3a"
            ],
            [
             0.8888888888888888,
             "#fdca26"
            ],
            [
             1,
             "#f0f921"
            ]
           ]
          },
          "colorway": [
           "#636efa",
           "#EF553B",
           "#00cc96",
           "#ab63fa",
           "#FFA15A",
           "#19d3f3",
           "#FF6692",
           "#B6E880",
           "#FF97FF",
           "#FECB52"
          ],
          "font": {
           "color": "#2a3f5f"
          },
          "geo": {
           "bgcolor": "white",
           "lakecolor": "white",
           "landcolor": "#E5ECF6",
           "showlakes": true,
           "showland": true,
           "subunitcolor": "white"
          },
          "hoverlabel": {
           "align": "left"
          },
          "hovermode": "closest",
          "mapbox": {
           "style": "light"
          },
          "paper_bgcolor": "white",
          "plot_bgcolor": "#E5ECF6",
          "polar": {
           "angularaxis": {
            "gridcolor": "white",
            "linecolor": "white",
            "ticks": ""
           },
           "bgcolor": "#E5ECF6",
           "radialaxis": {
            "gridcolor": "white",
            "linecolor": "white",
            "ticks": ""
           }
          },
          "scene": {
           "xaxis": {
            "backgroundcolor": "#E5ECF6",
            "gridcolor": "white",
            "gridwidth": 2,
            "linecolor": "white",
            "showbackground": true,
            "ticks": "",
            "zerolinecolor": "white"
           },
           "yaxis": {
            "backgroundcolor": "#E5ECF6",
            "gridcolor": "white",
            "gridwidth": 2,
            "linecolor": "white",
            "showbackground": true,
            "ticks": "",
            "zerolinecolor": "white"
           },
           "zaxis": {
            "backgroundcolor": "#E5ECF6",
            "gridcolor": "white",
            "gridwidth": 2,
            "linecolor": "white",
            "showbackground": true,
            "ticks": "",
            "zerolinecolor": "white"
           }
          },
          "shapedefaults": {
           "line": {
            "color": "#2a3f5f"
           }
          },
          "ternary": {
           "aaxis": {
            "gridcolor": "white",
            "linecolor": "white",
            "ticks": ""
           },
           "baxis": {
            "gridcolor": "white",
            "linecolor": "white",
            "ticks": ""
           },
           "bgcolor": "#E5ECF6",
           "caxis": {
            "gridcolor": "white",
            "linecolor": "white",
            "ticks": ""
           }
          },
          "title": {
           "x": 0.05
          },
          "xaxis": {
           "automargin": true,
           "gridcolor": "white",
           "linecolor": "white",
           "ticks": "",
           "title": {
            "standoff": 15
           },
           "zerolinecolor": "white",
           "zerolinewidth": 2
          },
          "yaxis": {
           "automargin": true,
           "gridcolor": "white",
           "linecolor": "white",
           "ticks": "",
           "title": {
            "standoff": 15
           },
           "zerolinecolor": "white",
           "zerolinewidth": 2
          }
         }
        },
        "title": {
         "text": "Distribution of number of links on wikiedia starting traversal from Jazz"
        },
        "violinmode": "group",
        "xaxis": {
         "anchor": "y",
         "domain": [
          0,
          1
         ],
         "title": {
          "text": "Number of links on a page"
         }
        },
        "yaxis": {
         "anchor": "x",
         "domain": [
          0,
          1
         ]
        }
       }
      }
     },
     "metadata": {},
     "output_type": "display_data"
    }
   ],
   "source": [
    "texts_reset_id = texts.reset_index().astype({\"num_of_links\": \"int32\"})\n",
    "px.violin(texts_reset_id, \n",
    "          x=\"num_of_links\", \n",
    "          title=\"Distribution of number of links on wikiedia starting traversal from Jazz\",\n",
    "          labels= {\"num_of_links\": \"Number of links on a page\"},\n",
    "          points='all',\n",
    "          hover_data=[\"index\"])"
   ]
  },
  {
   "cell_type": "code",
   "execution_count": 9,
   "metadata": {},
   "outputs": [
    {
     "data": {
      "text/html": [
       "<div>\n",
       "<style scoped>\n",
       "    .dataframe tbody tr th:only-of-type {\n",
       "        vertical-align: middle;\n",
       "    }\n",
       "\n",
       "    .dataframe tbody tr th {\n",
       "        vertical-align: top;\n",
       "    }\n",
       "\n",
       "    .dataframe thead th {\n",
       "        text-align: right;\n",
       "    }\n",
       "</style>\n",
       "<table border=\"1\" class=\"dataframe\">\n",
       "  <thead>\n",
       "    <tr style=\"text-align: right;\">\n",
       "      <th></th>\n",
       "      <th>text</th>\n",
       "    </tr>\n",
       "  </thead>\n",
       "  <tbody>\n",
       "    <tr>\n",
       "      <th>https://en.wikipedia.org/wiki/Jazz</th>\n",
       "      <td>Jazz music genre originated communities New Or...</td>\n",
       "    </tr>\n",
       "    <tr>\n",
       "      <th>https://en.wikipedia.org/wiki/Kansas_City_jazz</th>\n",
       "      <td>Kansas City jazz style jazz developed Kansas C...</td>\n",
       "    </tr>\n",
       "    <tr>\n",
       "      <th>https://en.wikipedia.org/wiki/Gary_Burton</th>\n",
       "      <td>Gary Burton born January American jazz vibraph...</td>\n",
       "    </tr>\n",
       "    <tr>\n",
       "      <th>https://en.wikipedia.org/wiki/October_Revolution_in_Jazz</th>\n",
       "      <td>October Revolution Jazz festival new jazz musi...</td>\n",
       "    </tr>\n",
       "    <tr>\n",
       "      <th>https://en.wikipedia.org/wiki/Minstrel_show</th>\n",
       "      <td>minstrel show also called minstrelsy American ...</td>\n",
       "    </tr>\n",
       "  </tbody>\n",
       "</table>\n",
       "</div>"
      ],
      "text/plain": [
       "                                                                                                 text\n",
       "https://en.wikipedia.org/wiki/Jazz                  Jazz music genre originated communities New Or...\n",
       "https://en.wikipedia.org/wiki/Kansas_City_jazz      Kansas City jazz style jazz developed Kansas C...\n",
       "https://en.wikipedia.org/wiki/Gary_Burton           Gary Burton born January American jazz vibraph...\n",
       "https://en.wikipedia.org/wiki/October_Revolutio...  October Revolution Jazz festival new jazz musi...\n",
       "https://en.wikipedia.org/wiki/Minstrel_show         minstrel show also called minstrelsy American ..."
      ]
     },
     "execution_count": 9,
     "metadata": {},
     "output_type": "execute_result"
    }
   ],
   "source": [
    "data = pd.read_csv('processed.csv', index_col=0)\n",
    "data.head()"
   ]
  },
  {
   "cell_type": "code",
   "execution_count": 10,
   "metadata": {},
   "outputs": [],
   "source": [
    "words = [text.split() for text in data['text']]\n",
    "words = [\n",
    "    word for document in words for word in document]\n"
   ]
  },
  {
   "cell_type": "markdown",
   "metadata": {},
   "source": [
    "Top 10 most occured words"
   ]
  },
  {
   "cell_type": "code",
   "execution_count": 11,
   "metadata": {},
   "outputs": [
    {
     "name": "stdout",
     "output_type": "stream",
     "text": [
      "music: 12903\n",
      "also: 8741\n",
      "first: 7072\n",
      "jazz: 6359\n",
      "one: 5856\n",
      "New: 5731\n",
      "album: 5208\n",
      "band: 4558\n",
      "American: 4276\n",
      "time: 4065\n"
     ]
    }
   ],
   "source": [
    "from collections import Counter\n",
    "\n",
    "counter = Counter(words)\n",
    "cols = [x[0].lower() for x in counter.most_common(10)]\n",
    "for pair in counter.most_common(10):\n",
    "    print(f'{pair[0]}: {pair[1]}')"
   ]
  },
  {
   "cell_type": "code",
   "execution_count": 12,
   "metadata": {},
   "outputs": [
    {
     "data": {
      "image/png": "[encoded data removed]",
      "text/plain": [
       "<Figure size 1080x1080 with 1 Axes>"
      ]
     },
     "metadata": {
      "needs_background": "light"
     },
     "output_type": "display_data"
    }
   ],
   "source": [
    "bubble_chart = BubbleChart(area=[x[1] for x in counter.most_common(10)],\n",
    "                           bubble_spacing=0.1)\n",
    "\n",
    "bubble_chart.collapse()\n",
    "\n",
    "fig, ax = plt.subplots(subplot_kw=dict(aspect=\"equal\"), figsize=(15, 15))\n",
    "colors = ['#5A69AF', '#579E65', '#F9C784', '#FC944A', '#F24C00', '#00B825',\n",
    "          '#F652A0', '#36EEE0', '#BCECE0', '#F8EA8C']\n",
    "bubble_chart.plot(\n",
    "    ax, cols, colors)\n",
    "ax.axis(\"off\")\n",
    "ax.relim()\n",
    "ax.autoscale_view()\n",
    "ax.set_title('Most occured words in texts')\n",
    "ax.set\n",
    "plt.rcParams.update({'font.size': 10})\n",
    "plt.show()"
   ]
  },
  {
   "cell_type": "markdown",
   "metadata": {},
   "source": [
    "Co-occurances"
   ]
  },
  {
   "cell_type": "code",
   "execution_count": 16,
   "metadata": {},
   "outputs": [],
   "source": [
    "from sklearn.feature_extraction.text import CountVectorizer\n",
    "\n",
    "CountVec = CountVectorizer()\n",
    "CountData = CountVec.fit_transform(data['text'])\n",
    " \n",
    "wordsM = (CountData.T)@CountData"
   ]
  },
  {
   "cell_type": "code",
   "execution_count": 17,
   "metadata": {},
   "outputs": [
    {
     "ename": "MemoryError",
     "evalue": "Unable to allocate 44.1 GiB for an array with shape (76933, 76933) and data type int64",
     "output_type": "error",
     "traceback": [
      "\u001b[1;31m---------------------------------------------------------------------------\u001b[0m",
      "\u001b[1;31mMemoryError\u001b[0m                               Traceback (most recent call last)",
      "\u001b[1;32m<ipython-input-17-d8f1f2365e04>\u001b[0m in \u001b[0;36m<module>\u001b[1;34m\u001b[0m\n\u001b[1;32m----> 1\u001b[1;33m df = pd.DataFrame(wordsM.toarray(),\n\u001b[0m\u001b[0;32m      2\u001b[0m                   columns=CountVec.get_feature_names_out(), index=CountVec.get_feature_names_out())\n\u001b[0;32m      3\u001b[0m \u001b[0mdf\u001b[0m\u001b[1;33m.\u001b[0m\u001b[0mhead\u001b[0m\u001b[1;33m(\u001b[0m\u001b[1;33m)\u001b[0m\u001b[1;33m\u001b[0m\u001b[1;33m\u001b[0m\u001b[0m\n",
      "\u001b[1;32mc:\\Users\\karol\\AppData\\Local\\Programs\\Python\\Python39\\lib\\site-packages\\scipy\\sparse\\compressed.py\u001b[0m in \u001b[0;36mtoarray\u001b[1;34m(self, order, out)\u001b[0m\n\u001b[0;32m   1029\u001b[0m         \u001b[1;32mif\u001b[0m \u001b[0mout\u001b[0m \u001b[1;32mis\u001b[0m \u001b[1;32mNone\u001b[0m \u001b[1;32mand\u001b[0m \u001b[0morder\u001b[0m \u001b[1;32mis\u001b[0m \u001b[1;32mNone\u001b[0m\u001b[1;33m:\u001b[0m\u001b[1;33m\u001b[0m\u001b[1;33m\u001b[0m\u001b[0m\n\u001b[0;32m   1030\u001b[0m             \u001b[0morder\u001b[0m \u001b[1;33m=\u001b[0m \u001b[0mself\u001b[0m\u001b[1;33m.\u001b[0m\u001b[0m_swap\u001b[0m\u001b[1;33m(\u001b[0m\u001b[1;34m'cf'\u001b[0m\u001b[1;33m)\u001b[0m\u001b[1;33m[\u001b[0m\u001b[1;36m0\u001b[0m\u001b[1;33m]\u001b[0m\u001b[1;33m\u001b[0m\u001b[1;33m\u001b[0m\u001b[0m\n\u001b[1;32m-> 1031\u001b[1;33m         \u001b[0mout\u001b[0m \u001b[1;33m=\u001b[0m \u001b[0mself\u001b[0m\u001b[1;33m.\u001b[0m\u001b[0m_process_toarray_args\u001b[0m\u001b[1;33m(\u001b[0m\u001b[0morder\u001b[0m\u001b[1;33m,\u001b[0m \u001b[0mout\u001b[0m\u001b[1;33m)\u001b[0m\u001b[1;33m\u001b[0m\u001b[1;33m\u001b[0m\u001b[0m\n\u001b[0m\u001b[0;32m   1032\u001b[0m         \u001b[1;32mif\u001b[0m \u001b[1;32mnot\u001b[0m \u001b[1;33m(\u001b[0m\u001b[0mout\u001b[0m\u001b[1;33m.\u001b[0m\u001b[0mflags\u001b[0m\u001b[1;33m.\u001b[0m\u001b[0mc_contiguous\u001b[0m \u001b[1;32mor\u001b[0m \u001b[0mout\u001b[0m\u001b[1;33m.\u001b[0m\u001b[0mflags\u001b[0m\u001b[1;33m.\u001b[0m\u001b[0mf_contiguous\u001b[0m\u001b[1;33m)\u001b[0m\u001b[1;33m:\u001b[0m\u001b[1;33m\u001b[0m\u001b[1;33m\u001b[0m\u001b[0m\n\u001b[0;32m   1033\u001b[0m             \u001b[1;32mraise\u001b[0m \u001b[0mValueError\u001b[0m\u001b[1;33m(\u001b[0m\u001b[1;34m'Output array must be C or F contiguous'\u001b[0m\u001b[1;33m)\u001b[0m\u001b[1;33m\u001b[0m\u001b[1;33m\u001b[0m\u001b[0m\n",
      "\u001b[1;32mc:\\Users\\karol\\AppData\\Local\\Programs\\Python\\Python39\\lib\\site-packages\\scipy\\sparse\\base.py\u001b[0m in \u001b[0;36m_process_toarray_args\u001b[1;34m(self, order, out)\u001b[0m\n\u001b[0;32m   1200\u001b[0m             \u001b[1;32mreturn\u001b[0m \u001b[0mout\u001b[0m\u001b[1;33m\u001b[0m\u001b[1;33m\u001b[0m\u001b[0m\n\u001b[0;32m   1201\u001b[0m         \u001b[1;32melse\u001b[0m\u001b[1;33m:\u001b[0m\u001b[1;33m\u001b[0m\u001b[1;33m\u001b[0m\u001b[0m\n\u001b[1;32m-> 1202\u001b[1;33m             \u001b[1;32mreturn\u001b[0m \u001b[0mnp\u001b[0m\u001b[1;33m.\u001b[0m\u001b[0mzeros\u001b[0m\u001b[1;33m(\u001b[0m\u001b[0mself\u001b[0m\u001b[1;33m.\u001b[0m\u001b[0mshape\u001b[0m\u001b[1;33m,\u001b[0m \u001b[0mdtype\u001b[0m\u001b[1;33m=\u001b[0m\u001b[0mself\u001b[0m\u001b[1;33m.\u001b[0m\u001b[0mdtype\u001b[0m\u001b[1;33m,\u001b[0m \u001b[0morder\u001b[0m\u001b[1;33m=\u001b[0m\u001b[0morder\u001b[0m\u001b[1;33m)\u001b[0m\u001b[1;33m\u001b[0m\u001b[1;33m\u001b[0m\u001b[0m\n\u001b[0m\u001b[0;32m   1203\u001b[0m \u001b[1;33m\u001b[0m\u001b[0m\n\u001b[0;32m   1204\u001b[0m \u001b[1;33m\u001b[0m\u001b[0m\n",
      "\u001b[1;31mMemoryError\u001b[0m: Unable to allocate 44.1 GiB for an array with shape (76933, 76933) and data type int64"
     ]
    }
   ],
   "source": [
    "df = pd.DataFrame(wordsM.toarray(),\n",
    "                  columns=CountVec.get_feature_names_out(), index=CountVec.get_feature_names_out())\n",
    "df.head()"
   ]
  },
  {
   "cell_type": "markdown",
   "metadata": {},
   "source": [
    "Biggest number of co-occurance"
   ]
  },
  {
   "cell_type": "code",
   "execution_count": 31,
   "metadata": {},
   "outputs": [],
   "source": [
    "a = wordsM.copy()\n",
    "for i in range(a.shape[0]):\n",
    "    a[i,i] = -1\n",
    "x, y = np.unravel_index(a.argmax(), a.shape)\n",
    "print(f'The most co-occurances are: {CountVec.get_feature_names_out()[x]}, {CountVec.get_feature_names_out()[y]} with a value of {a[x,y]}')\n"
   ]
  },
  {
   "cell_type": "code",
   "execution_count": null,
   "metadata": {},
   "outputs": [
    {
     "name": "stderr",
     "output_type": "stream",
     "text": [
      "c:\\Users\\karol\\AppData\\Local\\Programs\\Python\\Python39\\lib\\site-packages\\nxviz\\__init__.py:18: UserWarning:\n",
      "\n",
      "\n",
      "nxviz has a new API! Version 0.7.4 onwards, the old class-based API is being\n",
      "deprecated in favour of a new API focused on advancing a grammar of network\n",
      "graphics. If your plotting code depends on the old API, please consider\n",
      "pinning nxviz at version 0.7.4, as the new API will break your old code.\n",
      "\n",
      "To check out the new API, please head over to the docs at\n",
      "https://ericmjl.github.io/nxviz/ to learn more. We hope you enjoy using it!\n",
      "\n",
      "(This deprecation message will go away in version 1.0.)\n",
      "\n",
      "\n"
     ]
    }
   ],
   "source": [
    "import networkx as nx\n",
    "from matplotlib.pyplot import figure\n",
    "import matplotlib.pyplot as plt\n",
    "\n",
    "import nxviz as nv\n",
    "from nxviz import annotate\n"
   ]
  },
  {
   "cell_type": "code",
   "execution_count": null,
   "metadata": {},
   "outputs": [
    {
     "data": {
      "image/png": "[encoded data removed]",
      "text/plain": [
       "<Figure size 720x720 with 1 Axes>"
      ]
     },
     "metadata": {
      "needs_background": "light"
     },
     "output_type": "display_data"
    }
   ],
   "source": [
    "top = df[cols].loc[cols]\n",
    "G = nx.from_numpy_array(top.values)\n",
    "mapping = {x: cols[x] for x in range(len(cols))}\n",
    "G = nx.relabel_nodes(G, mapping)\n",
    "\n",
    "for v, name in zip(G, cols):\n",
    "    G.nodes[v][\"class\"] = G.degree(v, weight=\"weight\")\n",
    "    G.nodes[v][\"name\"] = name\n",
    "\n",
    "ax = nv.circos(\n",
    "    G,\n",
    "    node_color_by=\"class\",\n",
    "    edge_alpha_by=\"weight\",\n",
    "    group_by=\"name\",\n",
    ")\n",
    "\n",
    "ax.figure.tight_layout()\n",
    "plt.rcParams[\"figure.figsize\"] = (10,10)\n",
    "plt.rcParams.update({'font.size': 12})\n",
    "annotate.circos_labels(G, group_by=\"name\", layout=\"rotate\")\n"
   ]
  },
  {
   "cell_type": "markdown",
   "metadata": {},
   "source": [
    "Heaps' and Zipf's laws"
   ]
  },
  {
   "cell_type": "code",
   "execution_count": 13,
   "metadata": {},
   "outputs": [
    {
     "name": "stdout",
     "output_type": "stream",
     "text": [
      "The best possible heaps' law approximation give us parameters k=33, and b=0.55 with an absolute error of 754.174 which is just 0.008% of final answer\n",
      "Heaps': 91479.174, exact answer: 90725\n"
     ]
    }
   ],
   "source": [
    "best_k, best_b, best_error = 60, 0.5, 9999999999\n",
    "exact = len(set(words))\n",
    "T = len(words)\n",
    "for k, b in zip(range(30, 101), np.arange(0.4, 0.61, 0.05)):\n",
    "    M = k * (T ** b)\n",
    "    if abs(M-exact) < best_error:\n",
    "        best_k = k\n",
    "        best_b = b\n",
    "        best_error = abs(M-exact)\n",
    "\n",
    "print(f'The best possible heaps\\' law approximation give us parameters k={best_k}, and b={best_b} with an absolute error of {np.round(best_error, 3)} which is just {np.round(best_error/exact,3)}% of final answer')\n",
    "print(f'Heaps\\': {np.round(best_k * (T ** best_b), 3)}, exact answer: {exact}')\n"
   ]
  },
  {
   "cell_type": "code",
   "execution_count": 14,
   "metadata": {},
   "outputs": [
    {
     "name": "stdout",
     "output_type": "stream",
     "text": [
      "The most popular term is also with 8741 occurances\n",
      "The word \"music\" has 12903 occurances, while we approximated 8741.0\n",
      "The word \"also\" has 8741 occurances, while we approximated 4370.5\n",
      "The word \"first\" has 7072 occurances, while we approximated 2913.6666666666665\n",
      "The word \"jazz\" has 6359 occurances, while we approximated 2185.25\n",
      "The word \"one\" has 5856 occurances, while we approximated 1748.2\n"
     ]
    }
   ],
   "source": [
    "best = counter.most_common(5)\n",
    "top_word, top_count = best[1]\n",
    "print(f'The most popular term is {top_word} with {top_count} occurances')\n",
    "for i, element in enumerate(best):\n",
    "    word, count = element\n",
    "    print(\n",
    "        f'The word \\\"{word}\\\" has {count} occurances, while we approximated {top_count/(i+1)}')\n"
   ]
  },
  {
   "cell_type": "markdown",
   "metadata": {},
   "source": [
    "## Rank"
   ]
  },
  {
   "cell_type": "code",
   "execution_count": 15,
   "metadata": {},
   "outputs": [],
   "source": [
    "ranker = Ranker('processed.csv', pca_components=1500)"
   ]
  },
  {
   "cell_type": "code",
   "execution_count": 16,
   "metadata": {},
   "outputs": [],
   "source": [
    "sebastian = User()"
   ]
  },
  {
   "cell_type": "code",
   "execution_count": 17,
   "metadata": {},
   "outputs": [
    {
     "name": "stdout",
     "output_type": "stream",
     "text": [
      "https://en.wikipedia.org/wiki/Thelonious_Monk_Institute_of_Jazz, score: 0.3650970854472859\n",
      "https://en.wikipedia.org/wiki/Jazz, score: 0.26060872578340244\n",
      "https://en.wikipedia.org/wiki/British_jazz, score: 0.22491173210201687\n",
      "https://en.wikipedia.org/wiki/Jazz_band, score: 0.20682110027237655\n",
      "https://en.wikipedia.org/wiki/Australian_jazz, score: 0.20428603016876257\n",
      "https://en.wikipedia.org/wiki/Jazz_Age, score: 0.19361154802618552\n",
      "https://en.wikipedia.org/wiki/Belgian_jazz, score: 0.19209965722265332\n",
      "https://en.wikipedia.org/wiki/Duke_University_Press, score: 0.1872810136184494\n",
      "https://en.wikipedia.org/wiki/Scott_Yanow, score: 0.18576939017988015\n",
      "https://en.wikipedia.org/wiki/Free_jazz, score: 0.18247168850319873\n"
     ]
    }
   ],
   "source": [
    "ranker.rank_based_on_link(sebastian, \"https://en.wikipedia.org/wiki/Institute_of_Jazz_Studies\", model=\"tfidf\")"
   ]
  },
  {
   "cell_type": "code",
   "execution_count": 18,
   "metadata": {},
   "outputs": [
    {
     "name": "stdout",
     "output_type": "stream",
     "text": [
      "https://en.wikipedia.org/wiki/Rock_music_in_Australia, score: 0.4159405781407163\n",
      "https://en.wikipedia.org/wiki/Jazz, score: 0.3633826633299151\n",
      "https://en.wikipedia.org/wiki/British_jazz, score: 0.3069501881625458\n",
      "https://en.wikipedia.org/wiki/Graeme_Bell, score: 0.28468850452319805\n",
      "https://en.wikipedia.org/wiki/Jazz_band, score: 0.279285705768752\n",
      "https://en.wikipedia.org/wiki/Belgian_jazz, score: 0.2707843382737323\n",
      "https://en.wikipedia.org/wiki/George_Golla, score: 0.2489738337370737\n",
      "https://en.wikipedia.org/wiki/Jazz_Age, score: 0.245134391964814\n",
      "https://en.wikipedia.org/wiki/Jazz_fusion, score: 0.24022516314150277\n",
      "https://en.wikipedia.org/wiki/Fusion_jazz, score: 0.24022516314150277\n"
     ]
    }
   ],
   "source": [
    "ranker.rank_based_on_link(\n",
    "    sebastian, \"https://en.wikipedia.org/wiki/Australian_jazz\", model=\"pca\")\n"
   ]
  },
  {
   "cell_type": "code",
   "execution_count": 19,
   "metadata": {},
   "outputs": [
    {
     "data": {
      "text/plain": [
       "{'https://en.wikipedia.org/wiki/Australian_jazz',\n",
       " 'https://en.wikipedia.org/wiki/Institute_of_Jazz_Studies'}"
      ]
     },
     "execution_count": 19,
     "metadata": {},
     "output_type": "execute_result"
    }
   ],
   "source": [
    "sebastian.viewed_links"
   ]
  },
  {
   "cell_type": "code",
   "execution_count": 20,
   "metadata": {},
   "outputs": [
    {
     "name": "stdout",
     "output_type": "stream",
     "text": [
      "https://en.wikipedia.org/wiki/Rock_music_in_Australia, score: 0.3841\n",
      "https://en.wikipedia.org/wiki/George_Golla, score: 0.3728\n",
      "https://en.wikipedia.org/wiki/Thelonious_Monk_Institute_of_Jazz, score: 0.2682\n",
      "https://en.wikipedia.org/wiki/The_Sydney_Morning_Herald, score: 0.2652\n",
      "https://en.wikipedia.org/wiki/Graeme_Bell, score: 0.2072\n",
      "https://en.wikipedia.org/wiki/MGH_Institute_of_Health_Professions, score: 0.1812\n",
      "https://en.wikipedia.org/wiki/WBGO, score: 0.1585\n",
      "https://en.wikipedia.org/wiki/Emory_Elliott, score: 0.1342\n",
      "https://en.wikipedia.org/wiki/International_Jazz_Day, score: 0.1342\n",
      "https://en.wikipedia.org/wiki/Betty_Carter, score: 0.1303\n"
     ]
    }
   ],
   "source": [
    "ranker.recommend_based_on_history(sebastian, model=\"svd\")"
   ]
  },
  {
   "cell_type": "code",
   "execution_count": 21,
   "metadata": {},
   "outputs": [
    {
     "name": "stdout",
     "output_type": "stream",
     "text": [
      "0.15984874494013568\n"
     ]
    },
    {
     "data": {
      "application/vnd.plotly.v1+json": {
       "config": {
        "displaylogo": false,
        "modeBarButtonsToRemove": [
         "sendDataToCloud",
         "lasso2d",
         "autoScale2d",
         "select2d",
         "zoom2d",
         "pan2d",
         "zoomIn2d",
         "zoomOut2d",
         "resetScale2d",
         "toggleSpikelines",
         "hoverCompareCartesian",
         "hoverClosestCartesian"
        ],
        "plotlyServerURL": "https://plot.ly",
        "staticPlot": false,
        "toImageButtonOptions": {
         "height": null,
         "width": null
        }
       },
       "data": [
        {
         "base": 0,
         "connector": {
          "line": {
           "color": "#371ea3",
           "dash": "solid",
           "width": 1
          },
          "mode": "spanning"
         },
         "decreasing": {
          "marker": {
           "color": "#f05a71"
          }
         },
         "hoverinfo": "text+delta",
         "hoverlabel": {
          "bgcolor": "rgba(0,0,0,0.8)"
         },
         "hovertext": [
          "Average response: 0.0<br>Prediction: 0.0",
          "institute<br>increases average response by",
          "studies<br>increases average response by",
          "students<br>increases average response by",
          "science<br>increases average response by",
          "master<br>increases average response by",
          "research<br>increases average response by",
          "program<br>increases average response by",
          "general<br>increases average response by",
          "located<br>increases average response by",
          "new<br>increases average response by",
          "+ all other factors<br>increases average response by",
          "Average response: 0.0<br>Prediction: 0.0"
         ],
         "increasing": {
          "marker": {
           "color": "#8bdcbe"
          }
         },
         "measure": [
          "relative",
          "relative",
          "relative",
          "relative",
          "relative",
          "relative",
          "relative",
          "relative",
          "relative",
          "relative",
          "relative",
          "relative",
          "total"
         ],
         "orientation": "h",
         "showlegend": false,
         "text": [
          "0.0",
          "+0.114",
          "+0.007",
          "+0.007",
          "+0.005",
          "+0.003",
          "+0.003",
          "+0.003",
          "+0.002",
          "+0.002",
          "+0.002",
          "+0.012",
          "0.0"
         ],
         "textposition": "outside",
         "totals": {
          "marker": {
           "color": "#371ea3"
          }
         },
         "type": "waterfall",
         "x": [
          0,
          0.114,
          0.007,
          0.007,
          0.005,
          0.003,
          0.003,
          0.003,
          0.002,
          0.002,
          0.002,
          0.012,
          0.16
         ],
         "xaxis": "x",
         "y": [
          "intercept",
          "institute",
          "studies",
          "students",
          "science",
          "master",
          "research",
          "program",
          "general",
          "located",
          "new",
          "+ all other factors",
          "prediction"
         ],
         "yaxis": "y"
        }
       ],
       "layout": {
        "annotations": [
         {
          "font": {
           "size": 16
          },
          "showarrow": false,
          "text": "Cosine similarity",
          "x": 0.5,
          "xanchor": "center",
          "xref": "paper",
          "y": 1,
          "yanchor": "bottom",
          "yref": "paper"
         },
         {
          "font": {
           "size": 16
          },
          "showarrow": false,
          "text": "contribution",
          "x": 0.5,
          "xanchor": "center",
          "xref": "paper",
          "y": 0,
          "yanchor": "top",
          "yref": "paper",
          "yshift": -30
         }
        ],
        "font": {
         "color": "#371ea3"
        },
        "height": 413,
        "margin": {
         "b": 71,
         "r": 30,
         "t": 78
        },
        "shapes": [
         {
          "line": {
           "color": "#371ea3",
           "dash": "dot",
           "width": 1.5
          },
          "type": "line",
          "x0": 0,
          "x1": 0,
          "xref": "x",
          "y0": -1,
          "y1": 13,
          "yref": "y"
         }
        ],
        "template": {
         "data": {
          "scatter": [
           {
            "type": "scatter"
           }
          ]
         }
        },
        "title": {
         "text": "Break Down",
         "x": 0.15
        },
        "xaxis": {
         "anchor": "y",
         "automargin": true,
         "domain": [
          0,
          1
         ],
         "fixedrange": true,
         "gridwidth": 2,
         "range": [
          -0.024,
          0.184
         ],
         "tickcolor": "white",
         "ticklen": 3,
         "ticks": "outside",
         "type": "linear",
         "zeroline": false
        },
        "yaxis": {
         "anchor": "x",
         "automargin": true,
         "autorange": "reversed",
         "domain": [
          0,
          1
         ],
         "fixedrange": true,
         "gridwidth": 2,
         "tickcolor": "white",
         "ticklen": 10,
         "ticks": "outside",
         "type": "category"
        }
       }
      }
     },
     "metadata": {},
     "output_type": "display_data"
    }
   ],
   "source": [
    "ranker.explain_similarity(\"https://en.wikipedia.org/wiki/MGH_Institute_of_Health_Professions\",\"https://en.wikipedia.org/wiki/Institute_of_Jazz_Studies\")"
   ]
  }
 ],
 "metadata": {
  "kernelspec": {
   "display_name": "Python 3.9.0 64-bit",
   "language": "python",
   "name": "python3"
  },
  "language_info": {
   "codemirror_mode": {
    "name": "ipython",
    "version": 3
   },
   "file_extension": ".py",
   "mimetype": "text/x-python",
   "name": "python",
   "nbconvert_exporter": "python",
   "pygments_lexer": "ipython3",
   "version": "3.9.0"
  },
  "orig_nbformat": 4,
  "vscode": {
   "interpreter": {
    "hash": "d938c375e6e2a2b94db19e540527a5d7d80fbd1055fc33c5eeb59a5dcfa9a532"
   }
  }
 },
 "nbformat": 4,
 "nbformat_minor": 2
}
