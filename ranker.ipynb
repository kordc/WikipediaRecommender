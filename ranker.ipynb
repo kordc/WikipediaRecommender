{
 "cells": [
  {
   "cell_type": "code",
   "execution_count": null,
   "metadata": {},
   "outputs": [],
   "source": [
    "import pandas as pd\n",
    "import numpy as np\n",
    "from sklearn.feature_extraction.text import CountVectorizer, TfidfVectorizer\n",
    "from scipy.spatial.distance import cosine"
   ]
  },
  {
   "cell_type": "code",
   "execution_count": 3,
   "metadata": {},
   "outputs": [],
   "source": [
    "df = pd.read_csv(\"processed.csv\")"
   ]
  },
  {
   "cell_type": "code",
   "execution_count": 13,
   "metadata": {},
   "outputs": [],
   "source": [
    "documents = list(df[\"text\"])[::-1]"
   ]
  },
  {
   "cell_type": "code",
   "execution_count": 14,
   "metadata": {},
   "outputs": [],
   "source": [
    "good_documents = []\n",
    "for d in documents:\n",
    "    if not isinstance(d,str):\n",
    "        print(d)\n",
    "        print(\"carramba!\")\n",
    "    else:\n",
    "        good_documents.append(d)"
   ]
  },
  {
   "cell_type": "code",
   "execution_count": 15,
   "metadata": {},
   "outputs": [],
   "source": [
    "tfidf=TfidfVectorizer(use_idf=True, smooth_idf=False) \n",
    "trans = tfidf.fit_transform(good_documents)"
   ]
  },
  {
   "cell_type": "code",
   "execution_count": 16,
   "metadata": {},
   "outputs": [],
   "source": [
    "trans_np = trans.toarray()"
   ]
  },
  {
   "cell_type": "code",
   "execution_count": 17,
   "metadata": {},
   "outputs": [],
   "source": [
    "dfTFIDF = pd.DataFrame(trans_np, index=np.arange(len(good_documents)), columns=tfidf.get_feature_names_out())"
   ]
  },
  {
   "cell_type": "code",
   "execution_count": 18,
   "metadata": {},
   "outputs": [
    {
     "data": {
      "text/plain": [
       "0    0.097264\n",
       "1    0.273358\n",
       "dtype: float64"
      ]
     },
     "execution_count": 18,
     "metadata": {},
     "output_type": "execute_result"
    }
   ],
   "source": [
    "query = \"Which instrument are used in Jazz most often?\"\n",
    "query = tfidf.transform([query]).toarray()[0] \n",
    "1-dfTFIDF.apply(lambda x: cosine(x, query), axis=1)"
   ]
  },
  {
   "cell_type": "code",
   "execution_count": 11,
   "metadata": {},
   "outputs": [
    {
     "ename": "IndexError",
     "evalue": "list index out of range",
     "output_type": "error",
     "traceback": [
      "\u001b[1;31m---------------------------------------------------------------------------\u001b[0m",
      "\u001b[1;31mIndexError\u001b[0m                                Traceback (most recent call last)",
      "Cell \u001b[1;32mIn [11], line 1\u001b[0m\n\u001b[1;32m----> 1\u001b[0m good_documents[\u001b[39m1106\u001b[39;49m]\n",
      "\u001b[1;31mIndexError\u001b[0m: list index out of range"
     ]
    }
   ],
   "source": [
    "good_documents[1106]"
   ]
  },
  {
   "cell_type": "markdown",
   "metadata": {},
   "source": [
    "Calculating SVD"
   ]
  },
  {
   "cell_type": "code",
   "execution_count": 29,
   "metadata": {},
   "outputs": [],
   "source": [
    "to_svc = trans_np.T # we need terms in rows and documents in columns"
   ]
  },
  {
   "cell_type": "code",
   "execution_count": 31,
   "metadata": {},
   "outputs": [],
   "source": [
    "u, s, vh = np.linalg.svd(to_svc, full_matrices=False)"
   ]
  },
  {
   "cell_type": "code",
   "execution_count": 37,
   "metadata": {},
   "outputs": [
    {
     "data": {
      "text/plain": [
       "(1496,)"
      ]
     },
     "execution_count": 37,
     "metadata": {},
     "output_type": "execute_result"
    }
   ],
   "source": [
    "s.shape"
   ]
  },
  {
   "cell_type": "code",
   "execution_count": 89,
   "metadata": {},
   "outputs": [],
   "source": [
    "u_c = np.concatenate(u[:,None])\n",
    "vh_c = np.concatenate(vh[:,None])\n",
    "s_shape = (s.shape[0], s.shape[0])\n",
    "s_c = np.zeros(s_shape)\n",
    "s_c[np.arange(s_shape[0]), np.arange(s_shape[0])] = s\n",
    "s_c_inv = np.zeros(s_shape)\n",
    "s_c_inv[np.arange(s_shape[0]), np.arange(s_shape[0])] = 1/s"
   ]
  },
  {
   "cell_type": "code",
   "execution_count": 55,
   "metadata": {},
   "outputs": [],
   "source": [
    "reconstruction = u_c @ s_c @ vh_c"
   ]
  },
  {
   "cell_type": "code",
   "execution_count": 57,
   "metadata": {},
   "outputs": [
    {
     "data": {
      "text/plain": [
       "True"
      ]
     },
     "execution_count": 57,
     "metadata": {},
     "output_type": "execute_result"
    }
   ],
   "source": [
    "np.allclose(to_svc, reconstruction)"
   ]
  },
  {
   "cell_type": "code",
   "execution_count": 83,
   "metadata": {},
   "outputs": [
    {
     "data": {
      "text/plain": [
       "383"
      ]
     },
     "execution_count": 83,
     "metadata": {},
     "output_type": "execute_result"
    }
   ],
   "source": [
    "(s_c > 1).sum() # Select only 383 concepts"
   ]
  },
  {
   "cell_type": "code",
   "execution_count": 85,
   "metadata": {},
   "outputs": [
    {
     "data": {
      "text/plain": [
       "(1496, 1496)"
      ]
     },
     "execution_count": 85,
     "metadata": {},
     "output_type": "execute_result"
    }
   ],
   "source": [
    "vh_c.shape"
   ]
  },
  {
   "cell_type": "code",
   "execution_count": 111,
   "metadata": {},
   "outputs": [],
   "source": [
    "u_c_k = u_c[:, :383]\n",
    "s_c_k = s_c[:383, :383]\n",
    "s_c_inv_k = s_c_inv[:383, :383]\n",
    "vh_c_k = vh_c[:383, :]"
   ]
  },
  {
   "cell_type": "code",
   "execution_count": 112,
   "metadata": {},
   "outputs": [],
   "source": [
    "query = \"Which instrument are used in Jazz most often?\"\n",
    "query = tfidf.transform([query]).toarray()[0]\n",
    "query_svd = query @ u_c_k @ s_c_inv_k "
   ]
  },
  {
   "cell_type": "code",
   "execution_count": 113,
   "metadata": {},
   "outputs": [],
   "source": [
    "dfSVD = pd.DataFrame(vh_c_k.T, index=np.arange(len(good_documents)))"
   ]
  },
  {
   "cell_type": "code",
   "execution_count": 121,
   "metadata": {},
   "outputs": [
    {
     "data": {
      "text/plain": [
       "262     0.256950\n",
       "902     0.247742\n",
       "778     0.247742\n",
       "886     0.235292\n",
       "600     0.217865\n",
       "          ...   \n",
       "1027   -0.113587\n",
       "691    -0.113740\n",
       "123    -0.125571\n",
       "417    -0.126511\n",
       "429    -0.130846\n",
       "Length: 1496, dtype: float64"
      ]
     },
     "execution_count": 121,
     "metadata": {},
     "output_type": "execute_result"
    }
   ],
   "source": [
    "1-dfSVD.apply(lambda x: cosine(x, query_svd), axis=1).sort_values()"
   ]
  },
  {
   "cell_type": "code",
   "execution_count": 140,
   "metadata": {},
   "outputs": [
    {
     "data": {
      "text/plain": [
       "'Biguine big-IN French biɡin Antillean Creole bigin rhythm-centric style music originated Saint Pierre Martinique century It fuses Bèlè French ballroom dance steps African rhythms Two main types French antillean biguine identified based instrumentation contemporary musical practice called drum biguine orchestrated biguine Each refers characteristics specific origin The drum biguine bidgin bèlè Creole comes series bèlè dances performed since early colonial times slaves inhabited great sugar plantations Musically bidgin bèlè distinguished orchestrated biguine following ways instrumentation cylindrical single-membraned drum bèlè rhythm sticks tibwa call-and-response singing style soloist improvisation nasal voice quality According study Rosemain biguine figured fertility rituals practiced West Africa ritual significance since disappeared Martinique Bidgin bèlè originates slave bèlè dances characterized use bèlè drums tibwa rhythm sticks along call response nasal vocals improvised instrumental solos It roots West African dances The bèlè also name medium size tambour drum Players sit astride drum It characterized rhythm tibwa two wooden sticks played either length bamboo mounted stand sides tambour bèlè Added tambour bèlè tibwa maracas commonly referred chacha The cinquillo-tresillo beat tibwa translates well chacha rhythms applied playing biguine The tibwa rhythm plays basic pattern drum comes mark highlights introduce percussion improvisations Biguine one ancestors musical genre jazz created Creoles New Orleans Louisiana By combining traditional bèlè music European dance genres black musicians Martinique created biguine comprises three distinct styles In several biguine artists Martinique Guadeloupe moved France achieved great popularity Paris especially wake colonial exhibition Early stars like Alexandre Stellio Sam Castandet became popular Paris Between dance biguine popular among islands dance orchestras Its popularity abroad died relatively quickly lasted major force popular music Martinique Guadeloupe Haitian Cadence Compas music took In later part century biguine musicians like clarinet virtuoso Michel Godzom helped revolutionize genre The signature sound biguine interplay clarinet trombone solo duet still heard today throughout Antilles music traditional forms like cadence pop sounds today zouk Biguine vidé tempo version biguine rhythm tambour tibwa combining carnival elements It form participatory music Guadeloupe Martinique bandleader singing verse audience responding Modern instrumentation includes variety improvised drums made containers kinds plastic plumbing bells tanbou débonda chacha bèlè tibwa bèlè drums The fast pace carnival-associated biguine provided rhythmic basis zouk béton hard zouk reserved individual jump'"
      ]
     },
     "execution_count": 140,
     "metadata": {},
     "output_type": "execute_result"
    }
   ],
   "source": [
    "good_documents[123]"
   ]
  },
  {
   "cell_type": "markdown",
   "metadata": {},
   "source": [
    "Calculating PCA"
   ]
  },
  {
   "cell_type": "code",
   "execution_count": 59,
   "metadata": {},
   "outputs": [],
   "source": [
    "from sklearn.decomposition import PCA"
   ]
  },
  {
   "cell_type": "code",
   "execution_count": 61,
   "metadata": {},
   "outputs": [
    {
     "data": {
      "text/plain": [
       "PCA(n_components=1000)"
      ]
     },
     "execution_count": 61,
     "metadata": {},
     "output_type": "execute_result"
    }
   ],
   "source": [
    "pca = PCA(n_components=1000)\n",
    "pca.fit(trans_np)"
   ]
  },
  {
   "cell_type": "code",
   "execution_count": 63,
   "metadata": {},
   "outputs": [
    {
     "data": {
      "text/plain": [
       "0.9403229903846362"
      ]
     },
     "execution_count": 63,
     "metadata": {},
     "output_type": "execute_result"
    }
   ],
   "source": [
    "pca.explained_variance_ratio_.sum()"
   ]
  },
  {
   "cell_type": "code",
   "execution_count": 64,
   "metadata": {},
   "outputs": [
    {
     "data": {
      "text/plain": [
       "(1496, 66609)"
      ]
     },
     "execution_count": 64,
     "metadata": {},
     "output_type": "execute_result"
    }
   ],
   "source": [
    "trans_np.shape"
   ]
  },
  {
   "cell_type": "code",
   "execution_count": 122,
   "metadata": {},
   "outputs": [],
   "source": [
    "docs_transformed = pca.transform(trans_np)"
   ]
  },
  {
   "cell_type": "code",
   "execution_count": 128,
   "metadata": {},
   "outputs": [],
   "source": [
    "query = \"Which instrument are used in Jazz most often?\"\n",
    "query = tfidf.transform([query]).toarray()[0]\n",
    "query_pca = pca.transform(query[None,:])"
   ]
  },
  {
   "cell_type": "code",
   "execution_count": 129,
   "metadata": {},
   "outputs": [],
   "source": [
    "dfPCA = pd.DataFrame(docs_transformed, index=np.arange(len(good_documents)))"
   ]
  },
  {
   "cell_type": "code",
   "execution_count": 131,
   "metadata": {},
   "outputs": [
    {
     "data": {
      "text/plain": [
       "886     0.328625\n",
       "890     0.247540\n",
       "374     0.221042\n",
       "903     0.218829\n",
       "907     0.217452\n",
       "          ...   \n",
       "1324   -0.137649\n",
       "1226   -0.137649\n",
       "1326   -0.141872\n",
       "1422   -0.142796\n",
       "1323   -0.155055\n",
       "Length: 1496, dtype: float64"
      ]
     },
     "execution_count": 131,
     "metadata": {},
     "output_type": "execute_result"
    }
   ],
   "source": [
    "1-dfPCA.apply(lambda x: cosine(x, query_pca), axis=1).sort_values()"
   ]
  },
  {
   "cell_type": "code",
   "execution_count": 144,
   "metadata": {},
   "outputs": [
    {
     "data": {
      "text/plain": [
       "\"The following discussion closed Please modify Subsequent comments made appropriate discussion page No edits made discussion Proposed Create new user right would give trusted template coders ability edit templates modules edit notices fully protected precautionary reasons This RFC scheduled close October equazcion talk Sep UTC The following discussions precursors proposal The pervasive templates Wikipedia generally fully protected They considered high-risk make possible malicious unknowing people adversely affect many thousands pages editing single page High-use templates therefore systematically full-protected precautionary measure When page fully protected administrators editors ability edit While full protection ideal temporary solution articles demonstrated state overwhelming controversy less ideal permanent precautionary measure templates Many editors shown aptitude coding templates earned trust community work may necessarily administrators even interested becoming administrators Non-administrators ability request edits fully-protected templates administrators enact behalf significant shortage administrators time necessary skills reliably Coders also tend find extra step mere annoyance Technical work largely rewarding technically-minded people value hands-on experience Many end choosing avoid verbalize uncontroversial edit requests made convince someone else enact edit behalf simply avoiding work fully-protected templates altogether As currently measure would allow access trusted editors template know-how editors resorted applying adminship case Trappist monk RfA Note many comments sides saying optimal solution would grant user right specifically allow editor access high-use templates Create new user right allow editors earned trust community knowledgeable responsible template coders modify templates modules edit notices fully protected precautionary reasons This permission limited via technical means pages Template Module namespaces well edit notices The protection levels pages within Template Module namespaces currently fully-protected precautionary reasons switched newly-created protection level Pages new protection level editable new Template editor user rights group well sysops This way new rights group namespace restrictions enforced technical level impossible edit full-protected pages article project Wikipedia namespaces example Actual full sysop protection available extraordinary measure Template Module namespaces temporarily disallow editing anyone administrators need arise It understood standards constitutes high-risk template remain unchanged expanded despite newly created protection level rights group Vigilance maintained making sure development grant de facto license protect Wikipedia less risky templates grounds many editors still access edit rights group exists The Template editor user right result templates becoming uneditable general editor population Editors permitted exercise permission perform maintenance answer reasonable edit requests make simple generally uncontroversial edits templates modules edit notices They also permitted enact complex controversial edits edits first made test sandbox technical reliability well consensus among informed editors established Editors able request permission via Wikipedia Requests permissions/Template editor created upon passing proposal The new template editor user right granted administrators Administrators use discretionary assessment editor template contribution value well following general guidelines Additionally editor demonstrated need right well familiarity care responsibility required dealing high-risk template modification Items section merely guidelines An administrator may choose substitute proofs editor competence handling high-risk template responsibilities The user right revoked time administrator without process prior notice following circumstances Additionally right may removed immediately request editor This important question I like raise seems like good point introduce section break Will user right allow people permission edit fully protected Main page templates For unaware almost text seen Main page templates As visible page Wikipedia Main Page historically one first targets vandalism compromised admin account And fact compromised admins blocked privileges revoked grounds site security led creation editnotices like Template Editnotices/Page/Main Page warning admins If answer yes I hope similar incident I opposed helping editing Template In news Template Did know Main page templates better strong passwords follow appropriate personal security practices like regular admins Zzyzx11 talk September UTC Reply reply If trusted allowedWWE fan talk September UTC Reply reply While technical aspects cascading protection make more-or-less moot point I think still explicitly state Actual full sysop protection available extraordinary measure Template Module namespaces temporarily disallow editing anyone administrators need arise All templates modules transcluded Main Page remain permanently fully protected proposed addition underlined PublicAmpers main account talk block September UTC Reply reply I think discussion affects enough editors would benefit watchlist notice Do others think good idea Mr. Stradivarius talk September UTC Reply reply I DONT KNOW WHAT ANY OF THIS MEANS BUT IT CAME watchlist I thought I tell Thank New England Cop talk September UTC Reply reply I n't voted n't intend I find arguments WDGraham quite convincing RfC unsuccessful I think WDGraham comments could inspire alternative measures Specifically Yaris678 talk September UTC Reply reply Replace criteria removal general criteria Number new meant cover cases administrator deceived granting access false pretenses e.g editor multiple accounts disclosed granting admin clean one well clerical errors result someone getting access n't e.g username-typo granting-admin Number covers repeated non-blatant vandalism disruptive editing using tool gain upper hand controversial situations using sufficient care mis-use tool results warning followed repeated mis-use Number covers blatant mis-use usually kind COULD get block administrator discretion One strike Thoughts davidwr/ talk contribs September UTC Reply reply As observation appointment process might better modelled process becoming clerk The clerk appointment system works extremely well similar criteria seem apply want people vetted peers I suggest following procedure based SPI Clerk process I think addresses many concerns given oppose proposal given In particular talented coder jump right technical team like open source project Incidentally risk bikeshedding think snappier name template editor How technician De Guerre talk September UTC Reply reply I found proposal reasons provided valid create new user right experienced editors But one thing I n't find much useful point number Criteria revocation states The editor inactive months We also user rights like Rollback Autopatrolled Reviewer File mover many except Account creator Administrators Bureaucrats rights removed even said user inactive months longer Account creator usually removed user longer involved ACC process education program stops activity places But different thing As user right related editing Wikipedia trust editor misuse template editor user right used constructively I n't see point removing year respective user/editor inactive So necessary TheGeneralUser talk October UTC Reply reply I read I think definition template vague If I missed key sentence please enlighten From technical standpoint I correct presume template equals anything template space And n't include anything else The reason I asking specifics first I think know page may transcluded like page template space second whether involves mediawiki space way jc37 October UTC Reply reply For anyone might interested User Equazcion/WikiTemplate UDL equazcion� Oct UTC\""
      ]
     },
     "execution_count": 144,
     "metadata": {},
     "output_type": "execute_result"
    }
   ],
   "source": [
    "good_documents[1323]"
   ]
  }
 ],
 "metadata": {
  "kernelspec": {
   "display_name": "Python 3.9.12 ('base')",
   "language": "python",
   "name": "python3"
  },
  "language_info": {
   "codemirror_mode": {
    "name": "ipython",
    "version": 3
   },
   "file_extension": ".py",
   "mimetype": "text/x-python",
   "name": "python",
   "nbconvert_exporter": "python",
   "pygments_lexer": "ipython3",
   "version": "3.9.12"
  },
  "orig_nbformat": 4,
  "vscode": {
   "interpreter": {
    "hash": "8c252f30e6b77a0f45cc1bbd0a26b5e9253af7ed12036af03318e246ade66513"
   }
  }
 },
 "nbformat": 4,
 "nbformat_minor": 2
}
